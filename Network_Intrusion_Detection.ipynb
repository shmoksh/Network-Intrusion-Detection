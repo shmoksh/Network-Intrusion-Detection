{
 "cells": [
  {
   "cell_type": "markdown",
   "metadata": {},
   "source": [
    "## Loading Training and Testing Dataset into Panda Dataframe"
   ]
  },
  {
   "cell_type": "code",
   "execution_count": 2,
   "metadata": {
    "id": "d_6fW1ixSb94"
   },
   "outputs": [],
   "source": [
    "train_data = pd.read_csv(\"UNSW_NB15_training-set.csv\", index_col='id')\n",
    "test_data = pd.read_csv(\"UNSW_NB15_testing-set.csv\", index_col='id')"
   ]
  },
  {
   "cell_type": "code",
   "execution_count": 4,
   "metadata": {
    "colab": {
     "base_uri": "https://localhost:8080/",
     "height": 215
    },
    "id": "XHc05462ScDp",
    "outputId": "7ee896e3-9a73-4150-8cff-237c2ba42d16"
   },
   "outputs": [
    {
     "data": {
      "text/html": [
       "<div>\n",
       "<style scoped>\n",
       "    .dataframe tbody tr th:only-of-type {\n",
       "        vertical-align: middle;\n",
       "    }\n",
       "\n",
       "    .dataframe tbody tr th {\n",
       "        vertical-align: top;\n",
       "    }\n",
       "\n",
       "    .dataframe thead th {\n",
       "        text-align: right;\n",
       "    }\n",
       "</style>\n",
       "<table border=\"1\" class=\"dataframe\">\n",
       "  <thead>\n",
       "    <tr style=\"text-align: right;\">\n",
       "      <th></th>\n",
       "      <th>dur</th>\n",
       "      <th>proto</th>\n",
       "      <th>service</th>\n",
       "      <th>state</th>\n",
       "      <th>spkts</th>\n",
       "      <th>dpkts</th>\n",
       "      <th>sbytes</th>\n",
       "      <th>dbytes</th>\n",
       "      <th>rate</th>\n",
       "      <th>sttl</th>\n",
       "      <th>...</th>\n",
       "      <th>ct_dst_sport_ltm</th>\n",
       "      <th>ct_dst_src_ltm</th>\n",
       "      <th>is_ftp_login</th>\n",
       "      <th>ct_ftp_cmd</th>\n",
       "      <th>ct_flw_http_mthd</th>\n",
       "      <th>ct_src_ltm</th>\n",
       "      <th>ct_srv_dst</th>\n",
       "      <th>is_sm_ips_ports</th>\n",
       "      <th>attack_cat</th>\n",
       "      <th>label</th>\n",
       "    </tr>\n",
       "    <tr>\n",
       "      <th>id</th>\n",
       "      <th></th>\n",
       "      <th></th>\n",
       "      <th></th>\n",
       "      <th></th>\n",
       "      <th></th>\n",
       "      <th></th>\n",
       "      <th></th>\n",
       "      <th></th>\n",
       "      <th></th>\n",
       "      <th></th>\n",
       "      <th></th>\n",
       "      <th></th>\n",
       "      <th></th>\n",
       "      <th></th>\n",
       "      <th></th>\n",
       "      <th></th>\n",
       "      <th></th>\n",
       "      <th></th>\n",
       "      <th></th>\n",
       "      <th></th>\n",
       "      <th></th>\n",
       "    </tr>\n",
       "  </thead>\n",
       "  <tbody>\n",
       "    <tr>\n",
       "      <th>56770</th>\n",
       "      <td>0.000008</td>\n",
       "      <td>vines</td>\n",
       "      <td>-</td>\n",
       "      <td>INT</td>\n",
       "      <td>2</td>\n",
       "      <td>0</td>\n",
       "      <td>200</td>\n",
       "      <td>0</td>\n",
       "      <td>125000.000300</td>\n",
       "      <td>254</td>\n",
       "      <td>...</td>\n",
       "      <td>2</td>\n",
       "      <td>5</td>\n",
       "      <td>0</td>\n",
       "      <td>0</td>\n",
       "      <td>0</td>\n",
       "      <td>2</td>\n",
       "      <td>5</td>\n",
       "      <td>0</td>\n",
       "      <td>Exploits</td>\n",
       "      <td>1</td>\n",
       "    </tr>\n",
       "    <tr>\n",
       "      <th>68187</th>\n",
       "      <td>1.720034</td>\n",
       "      <td>tcp</td>\n",
       "      <td>-</td>\n",
       "      <td>FIN</td>\n",
       "      <td>102</td>\n",
       "      <td>20</td>\n",
       "      <td>127160</td>\n",
       "      <td>870</td>\n",
       "      <td>70.347446</td>\n",
       "      <td>254</td>\n",
       "      <td>...</td>\n",
       "      <td>1</td>\n",
       "      <td>1</td>\n",
       "      <td>0</td>\n",
       "      <td>0</td>\n",
       "      <td>0</td>\n",
       "      <td>2</td>\n",
       "      <td>1</td>\n",
       "      <td>0</td>\n",
       "      <td>Fuzzers</td>\n",
       "      <td>1</td>\n",
       "    </tr>\n",
       "    <tr>\n",
       "      <th>6289</th>\n",
       "      <td>0.004834</td>\n",
       "      <td>tcp</td>\n",
       "      <td>-</td>\n",
       "      <td>FIN</td>\n",
       "      <td>18</td>\n",
       "      <td>18</td>\n",
       "      <td>4136</td>\n",
       "      <td>2456</td>\n",
       "      <td>7240.380605</td>\n",
       "      <td>31</td>\n",
       "      <td>...</td>\n",
       "      <td>1</td>\n",
       "      <td>3</td>\n",
       "      <td>0</td>\n",
       "      <td>0</td>\n",
       "      <td>0</td>\n",
       "      <td>9</td>\n",
       "      <td>7</td>\n",
       "      <td>0</td>\n",
       "      <td>Normal</td>\n",
       "      <td>0</td>\n",
       "    </tr>\n",
       "    <tr>\n",
       "      <th>30105</th>\n",
       "      <td>0.007608</td>\n",
       "      <td>tcp</td>\n",
       "      <td>-</td>\n",
       "      <td>FIN</td>\n",
       "      <td>22</td>\n",
       "      <td>26</td>\n",
       "      <td>2054</td>\n",
       "      <td>2582</td>\n",
       "      <td>6177.707523</td>\n",
       "      <td>31</td>\n",
       "      <td>...</td>\n",
       "      <td>1</td>\n",
       "      <td>1</td>\n",
       "      <td>0</td>\n",
       "      <td>0</td>\n",
       "      <td>0</td>\n",
       "      <td>2</td>\n",
       "      <td>6</td>\n",
       "      <td>0</td>\n",
       "      <td>Normal</td>\n",
       "      <td>0</td>\n",
       "    </tr>\n",
       "    <tr>\n",
       "      <th>88698</th>\n",
       "      <td>0.000009</td>\n",
       "      <td>ip</td>\n",
       "      <td>-</td>\n",
       "      <td>INT</td>\n",
       "      <td>2</td>\n",
       "      <td>0</td>\n",
       "      <td>180</td>\n",
       "      <td>0</td>\n",
       "      <td>111111.107200</td>\n",
       "      <td>254</td>\n",
       "      <td>...</td>\n",
       "      <td>1</td>\n",
       "      <td>1</td>\n",
       "      <td>0</td>\n",
       "      <td>0</td>\n",
       "      <td>0</td>\n",
       "      <td>2</td>\n",
       "      <td>1</td>\n",
       "      <td>0</td>\n",
       "      <td>DoS</td>\n",
       "      <td>1</td>\n",
       "    </tr>\n",
       "  </tbody>\n",
       "</table>\n",
       "<p>5 rows × 44 columns</p>\n",
       "</div>"
      ],
      "text/plain": [
       "            dur  proto service state  spkts  dpkts  sbytes  dbytes  \\\n",
       "id                                                                   \n",
       "56770  0.000008  vines       -   INT      2      0     200       0   \n",
       "68187  1.720034    tcp       -   FIN    102     20  127160     870   \n",
       "6289   0.004834    tcp       -   FIN     18     18    4136    2456   \n",
       "30105  0.007608    tcp       -   FIN     22     26    2054    2582   \n",
       "88698  0.000009     ip       -   INT      2      0     180       0   \n",
       "\n",
       "                rate  sttl  ...  ct_dst_sport_ltm  ct_dst_src_ltm  \\\n",
       "id                          ...                                     \n",
       "56770  125000.000300   254  ...                 2               5   \n",
       "68187      70.347446   254  ...                 1               1   \n",
       "6289     7240.380605    31  ...                 1               3   \n",
       "30105    6177.707523    31  ...                 1               1   \n",
       "88698  111111.107200   254  ...                 1               1   \n",
       "\n",
       "       is_ftp_login  ct_ftp_cmd  ct_flw_http_mthd  ct_src_ltm  ct_srv_dst  \\\n",
       "id                                                                          \n",
       "56770             0           0                 0           2           5   \n",
       "68187             0           0                 0           2           1   \n",
       "6289              0           0                 0           9           7   \n",
       "30105             0           0                 0           2           6   \n",
       "88698             0           0                 0           2           1   \n",
       "\n",
       "       is_sm_ips_ports  attack_cat  label  \n",
       "id                                         \n",
       "56770                0    Exploits      1  \n",
       "68187                0     Fuzzers      1  \n",
       "6289                 0      Normal      0  \n",
       "30105                0      Normal      0  \n",
       "88698                0         DoS      1  \n",
       "\n",
       "[5 rows x 44 columns]"
      ]
     },
     "execution_count": 4,
     "metadata": {},
     "output_type": "execute_result"
    }
   ],
   "source": [
    "train_data.sample(5)"
   ]
  },
  {
   "cell_type": "markdown",
   "metadata": {},
   "source": [
    "## Checking for Sample data from Training and Testing Dataset"
   ]
  },
  {
   "cell_type": "code",
   "execution_count": 5,
   "metadata": {},
   "outputs": [
    {
     "data": {
      "text/html": [
       "<div>\n",
       "<style scoped>\n",
       "    .dataframe tbody tr th:only-of-type {\n",
       "        vertical-align: middle;\n",
       "    }\n",
       "\n",
       "    .dataframe tbody tr th {\n",
       "        vertical-align: top;\n",
       "    }\n",
       "\n",
       "    .dataframe thead th {\n",
       "        text-align: right;\n",
       "    }\n",
       "</style>\n",
       "<table border=\"1\" class=\"dataframe\">\n",
       "  <thead>\n",
       "    <tr style=\"text-align: right;\">\n",
       "      <th></th>\n",
       "      <th>dur</th>\n",
       "      <th>proto</th>\n",
       "      <th>service</th>\n",
       "      <th>state</th>\n",
       "      <th>spkts</th>\n",
       "      <th>dpkts</th>\n",
       "      <th>sbytes</th>\n",
       "      <th>dbytes</th>\n",
       "      <th>rate</th>\n",
       "      <th>sttl</th>\n",
       "      <th>...</th>\n",
       "      <th>ct_dst_sport_ltm</th>\n",
       "      <th>ct_dst_src_ltm</th>\n",
       "      <th>is_ftp_login</th>\n",
       "      <th>ct_ftp_cmd</th>\n",
       "      <th>ct_flw_http_mthd</th>\n",
       "      <th>ct_src_ltm</th>\n",
       "      <th>ct_srv_dst</th>\n",
       "      <th>is_sm_ips_ports</th>\n",
       "      <th>attack_cat</th>\n",
       "      <th>label</th>\n",
       "    </tr>\n",
       "    <tr>\n",
       "      <th>id</th>\n",
       "      <th></th>\n",
       "      <th></th>\n",
       "      <th></th>\n",
       "      <th></th>\n",
       "      <th></th>\n",
       "      <th></th>\n",
       "      <th></th>\n",
       "      <th></th>\n",
       "      <th></th>\n",
       "      <th></th>\n",
       "      <th></th>\n",
       "      <th></th>\n",
       "      <th></th>\n",
       "      <th></th>\n",
       "      <th></th>\n",
       "      <th></th>\n",
       "      <th></th>\n",
       "      <th></th>\n",
       "      <th></th>\n",
       "      <th></th>\n",
       "      <th></th>\n",
       "    </tr>\n",
       "  </thead>\n",
       "  <tbody>\n",
       "    <tr>\n",
       "      <th>77555</th>\n",
       "      <td>0.000010</td>\n",
       "      <td>udp</td>\n",
       "      <td>-</td>\n",
       "      <td>INT</td>\n",
       "      <td>2</td>\n",
       "      <td>0</td>\n",
       "      <td>1064</td>\n",
       "      <td>0</td>\n",
       "      <td>100000.002500</td>\n",
       "      <td>254</td>\n",
       "      <td>...</td>\n",
       "      <td>1</td>\n",
       "      <td>35</td>\n",
       "      <td>0</td>\n",
       "      <td>0</td>\n",
       "      <td>0</td>\n",
       "      <td>10</td>\n",
       "      <td>35</td>\n",
       "      <td>0</td>\n",
       "      <td>Normal</td>\n",
       "      <td>0</td>\n",
       "    </tr>\n",
       "    <tr>\n",
       "      <th>69785</th>\n",
       "      <td>0.355723</td>\n",
       "      <td>tcp</td>\n",
       "      <td>-</td>\n",
       "      <td>CON</td>\n",
       "      <td>6</td>\n",
       "      <td>2</td>\n",
       "      <td>1012</td>\n",
       "      <td>86</td>\n",
       "      <td>19.678233</td>\n",
       "      <td>62</td>\n",
       "      <td>...</td>\n",
       "      <td>1</td>\n",
       "      <td>3</td>\n",
       "      <td>0</td>\n",
       "      <td>0</td>\n",
       "      <td>0</td>\n",
       "      <td>2</td>\n",
       "      <td>3</td>\n",
       "      <td>0</td>\n",
       "      <td>Normal</td>\n",
       "      <td>0</td>\n",
       "    </tr>\n",
       "    <tr>\n",
       "      <th>577</th>\n",
       "      <td>0.000003</td>\n",
       "      <td>rdp</td>\n",
       "      <td>-</td>\n",
       "      <td>INT</td>\n",
       "      <td>2</td>\n",
       "      <td>0</td>\n",
       "      <td>200</td>\n",
       "      <td>0</td>\n",
       "      <td>333333.321500</td>\n",
       "      <td>254</td>\n",
       "      <td>...</td>\n",
       "      <td>2</td>\n",
       "      <td>4</td>\n",
       "      <td>0</td>\n",
       "      <td>0</td>\n",
       "      <td>0</td>\n",
       "      <td>4</td>\n",
       "      <td>4</td>\n",
       "      <td>0</td>\n",
       "      <td>Exploits</td>\n",
       "      <td>1</td>\n",
       "    </tr>\n",
       "    <tr>\n",
       "      <th>20108</th>\n",
       "      <td>0.000003</td>\n",
       "      <td>udp</td>\n",
       "      <td>dns</td>\n",
       "      <td>INT</td>\n",
       "      <td>2</td>\n",
       "      <td>0</td>\n",
       "      <td>114</td>\n",
       "      <td>0</td>\n",
       "      <td>333333.321500</td>\n",
       "      <td>254</td>\n",
       "      <td>...</td>\n",
       "      <td>21</td>\n",
       "      <td>38</td>\n",
       "      <td>0</td>\n",
       "      <td>0</td>\n",
       "      <td>0</td>\n",
       "      <td>21</td>\n",
       "      <td>38</td>\n",
       "      <td>0</td>\n",
       "      <td>Generic</td>\n",
       "      <td>1</td>\n",
       "    </tr>\n",
       "    <tr>\n",
       "      <th>26060</th>\n",
       "      <td>0.516933</td>\n",
       "      <td>tcp</td>\n",
       "      <td>smtp</td>\n",
       "      <td>FIN</td>\n",
       "      <td>52</td>\n",
       "      <td>40</td>\n",
       "      <td>37496</td>\n",
       "      <td>3276</td>\n",
       "      <td>176.038279</td>\n",
       "      <td>31</td>\n",
       "      <td>...</td>\n",
       "      <td>1</td>\n",
       "      <td>1</td>\n",
       "      <td>0</td>\n",
       "      <td>0</td>\n",
       "      <td>0</td>\n",
       "      <td>3</td>\n",
       "      <td>2</td>\n",
       "      <td>0</td>\n",
       "      <td>Normal</td>\n",
       "      <td>0</td>\n",
       "    </tr>\n",
       "  </tbody>\n",
       "</table>\n",
       "<p>5 rows × 44 columns</p>\n",
       "</div>"
      ],
      "text/plain": [
       "            dur proto service state  spkts  dpkts  sbytes  dbytes  \\\n",
       "id                                                                  \n",
       "77555  0.000010   udp       -   INT      2      0    1064       0   \n",
       "69785  0.355723   tcp       -   CON      6      2    1012      86   \n",
       "577    0.000003   rdp       -   INT      2      0     200       0   \n",
       "20108  0.000003   udp     dns   INT      2      0     114       0   \n",
       "26060  0.516933   tcp    smtp   FIN     52     40   37496    3276   \n",
       "\n",
       "                rate  sttl  ...  ct_dst_sport_ltm  ct_dst_src_ltm  \\\n",
       "id                          ...                                     \n",
       "77555  100000.002500   254  ...                 1              35   \n",
       "69785      19.678233    62  ...                 1               3   \n",
       "577    333333.321500   254  ...                 2               4   \n",
       "20108  333333.321500   254  ...                21              38   \n",
       "26060     176.038279    31  ...                 1               1   \n",
       "\n",
       "       is_ftp_login  ct_ftp_cmd  ct_flw_http_mthd  ct_src_ltm  ct_srv_dst  \\\n",
       "id                                                                          \n",
       "77555             0           0                 0          10          35   \n",
       "69785             0           0                 0           2           3   \n",
       "577               0           0                 0           4           4   \n",
       "20108             0           0                 0          21          38   \n",
       "26060             0           0                 0           3           2   \n",
       "\n",
       "       is_sm_ips_ports  attack_cat  label  \n",
       "id                                         \n",
       "77555                0      Normal      0  \n",
       "69785                0      Normal      0  \n",
       "577                  0    Exploits      1  \n",
       "20108                0     Generic      1  \n",
       "26060                0      Normal      0  \n",
       "\n",
       "[5 rows x 44 columns]"
      ]
     },
     "execution_count": 5,
     "metadata": {},
     "output_type": "execute_result"
    }
   ],
   "source": [
    "test_data.sample(5)"
   ]
  },
  {
   "cell_type": "code",
   "execution_count": 6,
   "metadata": {
    "colab": {
     "base_uri": "https://localhost:8080/",
     "height": 890
    },
    "id": "oanSatAGzhlW",
    "outputId": "1b2bddb6-e116-48b5-eb4c-f6cf18bab52a"
   },
   "outputs": [
    {
     "name": "stdout",
     "output_type": "stream",
     "text": [
      "<class 'pandas.core.frame.DataFrame'>\n",
      "Int64Index: 175341 entries, 1 to 175341\n",
      "Data columns (total 44 columns):\n",
      " #   Column             Non-Null Count   Dtype  \n",
      "---  ------             --------------   -----  \n",
      " 0   dur                175341 non-null  float64\n",
      " 1   proto              175341 non-null  object \n",
      " 2   service            175341 non-null  object \n",
      " 3   state              175341 non-null  object \n",
      " 4   spkts              175341 non-null  int64  \n",
      " 5   dpkts              175341 non-null  int64  \n",
      " 6   sbytes             175341 non-null  int64  \n",
      " 7   dbytes             175341 non-null  int64  \n",
      " 8   rate               175341 non-null  float64\n",
      " 9   sttl               175341 non-null  int64  \n",
      " 10  dttl               175341 non-null  int64  \n",
      " 11  sload              175341 non-null  float64\n",
      " 12  dload              175341 non-null  float64\n",
      " 13  sloss              175341 non-null  int64  \n",
      " 14  dloss              175341 non-null  int64  \n",
      " 15  sinpkt             175341 non-null  float64\n",
      " 16  dinpkt             175341 non-null  float64\n",
      " 17  sjit               175341 non-null  float64\n",
      " 18  djit               175341 non-null  float64\n",
      " 19  swin               175341 non-null  int64  \n",
      " 20  stcpb              175341 non-null  int64  \n",
      " 21  dtcpb              175341 non-null  int64  \n",
      " 22  dwin               175341 non-null  int64  \n",
      " 23  tcprtt             175341 non-null  float64\n",
      " 24  synack             175341 non-null  float64\n",
      " 25  ackdat             175341 non-null  float64\n",
      " 26  smean              175341 non-null  int64  \n",
      " 27  dmean              175341 non-null  int64  \n",
      " 28  trans_depth        175341 non-null  int64  \n",
      " 29  response_body_len  175341 non-null  int64  \n",
      " 30  ct_srv_src         175341 non-null  int64  \n",
      " 31  ct_state_ttl       175341 non-null  int64  \n",
      " 32  ct_dst_ltm         175341 non-null  int64  \n",
      " 33  ct_src_dport_ltm   175341 non-null  int64  \n",
      " 34  ct_dst_sport_ltm   175341 non-null  int64  \n",
      " 35  ct_dst_src_ltm     175341 non-null  int64  \n",
      " 36  is_ftp_login       175341 non-null  int64  \n",
      " 37  ct_ftp_cmd         175341 non-null  int64  \n",
      " 38  ct_flw_http_mthd   175341 non-null  int64  \n",
      " 39  ct_src_ltm         175341 non-null  int64  \n",
      " 40  ct_srv_dst         175341 non-null  int64  \n",
      " 41  is_sm_ips_ports    175341 non-null  int64  \n",
      " 42  attack_cat         175341 non-null  object \n",
      " 43  label              175341 non-null  int64  \n",
      "dtypes: float64(11), int64(29), object(4)\n",
      "memory usage: 60.2+ MB\n"
     ]
    }
   ],
   "source": [
    "train_data.info()"
   ]
  },
  {
   "cell_type": "code",
   "execution_count": 7,
   "metadata": {},
   "outputs": [
    {
     "name": "stdout",
     "output_type": "stream",
     "text": [
      "<class 'pandas.core.frame.DataFrame'>\n",
      "Int64Index: 82332 entries, 1 to 82332\n",
      "Data columns (total 44 columns):\n",
      " #   Column             Non-Null Count  Dtype  \n",
      "---  ------             --------------  -----  \n",
      " 0   dur                82332 non-null  float64\n",
      " 1   proto              82332 non-null  object \n",
      " 2   service            82332 non-null  object \n",
      " 3   state              82332 non-null  object \n",
      " 4   spkts              82332 non-null  int64  \n",
      " 5   dpkts              82332 non-null  int64  \n",
      " 6   sbytes             82332 non-null  int64  \n",
      " 7   dbytes             82332 non-null  int64  \n",
      " 8   rate               82332 non-null  float64\n",
      " 9   sttl               82332 non-null  int64  \n",
      " 10  dttl               82332 non-null  int64  \n",
      " 11  sload              82332 non-null  float64\n",
      " 12  dload              82332 non-null  float64\n",
      " 13  sloss              82332 non-null  int64  \n",
      " 14  dloss              82332 non-null  int64  \n",
      " 15  sinpkt             82332 non-null  float64\n",
      " 16  dinpkt             82332 non-null  float64\n",
      " 17  sjit               82332 non-null  float64\n",
      " 18  djit               82332 non-null  float64\n",
      " 19  swin               82332 non-null  int64  \n",
      " 20  stcpb              82332 non-null  int64  \n",
      " 21  dtcpb              82332 non-null  int64  \n",
      " 22  dwin               82332 non-null  int64  \n",
      " 23  tcprtt             82332 non-null  float64\n",
      " 24  synack             82332 non-null  float64\n",
      " 25  ackdat             82332 non-null  float64\n",
      " 26  smean              82332 non-null  int64  \n",
      " 27  dmean              82332 non-null  int64  \n",
      " 28  trans_depth        82332 non-null  int64  \n",
      " 29  response_body_len  82332 non-null  int64  \n",
      " 30  ct_srv_src         82332 non-null  int64  \n",
      " 31  ct_state_ttl       82332 non-null  int64  \n",
      " 32  ct_dst_ltm         82332 non-null  int64  \n",
      " 33  ct_src_dport_ltm   82332 non-null  int64  \n",
      " 34  ct_dst_sport_ltm   82332 non-null  int64  \n",
      " 35  ct_dst_src_ltm     82332 non-null  int64  \n",
      " 36  is_ftp_login       82332 non-null  int64  \n",
      " 37  ct_ftp_cmd         82332 non-null  int64  \n",
      " 38  ct_flw_http_mthd   82332 non-null  int64  \n",
      " 39  ct_src_ltm         82332 non-null  int64  \n",
      " 40  ct_srv_dst         82332 non-null  int64  \n",
      " 41  is_sm_ips_ports    82332 non-null  int64  \n",
      " 42  attack_cat         82332 non-null  object \n",
      " 43  label              82332 non-null  int64  \n",
      "dtypes: float64(11), int64(29), object(4)\n",
      "memory usage: 28.3+ MB\n"
     ]
    }
   ],
   "source": [
    "test_data.info()"
   ]
  },
  {
   "cell_type": "code",
   "execution_count": 8,
   "metadata": {
    "colab": {
     "base_uri": "https://localhost:8080/",
     "height": 84
    },
    "id": "wubUkr779Pra",
    "outputId": "b35380ac-4933-48ad-bcf7-6a1e310c31cd"
   },
   "outputs": [
    {
     "name": "stdout",
     "output_type": "stream",
     "text": [
      "Number of instances=175341\n",
      "Number of attributes=44\n",
      "Number of instances=82332\n",
      "Number of attributes=44\n"
     ]
    }
   ],
   "source": [
    "print('Number of instances=%d'%(train_data.shape[0]))\n",
    "print('Number of attributes=%d'%(train_data.shape[1]))\n",
    "print('Number of instances=%d'%(test_data.shape[0]))\n",
    "print('Number of attributes=%d'%(test_data.shape[1]))"
   ]
  },
  {
   "cell_type": "code",
   "execution_count": 9,
   "metadata": {
    "colab": {
     "base_uri": "https://localhost:8080/",
     "height": 50
    },
    "id": "OJijVeYew6L0",
    "outputId": "8234167b-0f3f-4bf1-96cf-412cf58d00a5"
   },
   "outputs": [
    {
     "name": "stdout",
     "output_type": "stream",
     "text": [
      "Number of missing values:\n"
     ]
    },
    {
     "data": {
      "text/plain": [
       "[]"
      ]
     },
     "execution_count": 9,
     "metadata": {},
     "output_type": "execute_result"
    }
   ],
   "source": [
    "print('Number of missing values:')\n",
    "[(x, y) for x, y in zip(train_data.isna().sum(), train_data.isna().sum().index) if x > 0]\n"
   ]
  },
  {
   "cell_type": "code",
   "execution_count": 10,
   "metadata": {},
   "outputs": [
    {
     "name": "stdout",
     "output_type": "stream",
     "text": [
      "Number of missing values:\n"
     ]
    },
    {
     "data": {
      "text/plain": [
       "[]"
      ]
     },
     "execution_count": 10,
     "metadata": {},
     "output_type": "execute_result"
    }
   ],
   "source": [
    "print('Number of missing values:')\n",
    "[(x, y) for x, y in zip(test_data.isna().sum(), test_data.isna().sum().index) if x > 0]"
   ]
  },
  {
   "cell_type": "code",
   "execution_count": 11,
   "metadata": {
    "colab": {
     "base_uri": "https://localhost:8080/",
     "height": 773
    },
    "id": "9039LkqX4NRG",
    "outputId": "5db4a6aa-7e61-4aa7-e7a5-6e2a18844718"
   },
   "outputs": [
    {
     "name": "stdout",
     "output_type": "stream",
     "text": [
      "\tdur: 0\n",
      "\tproto: 0\n",
      "\tservice: 94168\n",
      "\tstate: 0\n",
      "\tspkts: 0\n",
      "\tdpkts: 0\n",
      "\tsbytes: 0\n",
      "\tdbytes: 0\n",
      "\trate: 0\n",
      "\tsttl: 0\n",
      "\tdttl: 0\n",
      "\tsload: 0\n",
      "\tdload: 0\n",
      "\tsloss: 0\n",
      "\tdloss: 0\n",
      "\tsinpkt: 0\n",
      "\tdinpkt: 0\n",
      "\tsjit: 0\n",
      "\tdjit: 0\n",
      "\tswin: 0\n",
      "\tstcpb: 0\n",
      "\tdtcpb: 0\n",
      "\tdwin: 0\n",
      "\ttcprtt: 0\n",
      "\tsynack: 0\n",
      "\tackdat: 0\n",
      "\tsmean: 0\n",
      "\tdmean: 0\n",
      "\ttrans_depth: 0\n",
      "\tresponse_body_len: 0\n",
      "\tct_srv_src: 0\n",
      "\tct_state_ttl: 0\n",
      "\tct_dst_ltm: 0\n",
      "\tct_src_dport_ltm: 0\n",
      "\tct_dst_sport_ltm: 0\n",
      "\tct_dst_src_ltm: 0\n",
      "\tis_ftp_login: 0\n",
      "\tct_ftp_cmd: 0\n",
      "\tct_flw_http_mthd: 0\n",
      "\tct_src_ltm: 0\n",
      "\tct_srv_dst: 0\n",
      "\tis_sm_ips_ports: 0\n",
      "\tattack_cat: 0\n",
      "\tlabel: 0\n"
     ]
    }
   ],
   "source": [
    "train_data=train_data.replace('-',np.nan)\n",
    "for column in train_data.columns:\n",
    "    print('\\t%s: %d'%(column,train_data[column].isnull().sum()))"
   ]
  },
  {
   "attachments": {},
   "cell_type": "markdown",
   "metadata": {},
   "source": [
    "## Replacing null values with nan \n",
    "- ### Replacing the null values with NAN values as by doing analysis of training and testing dataset we found that services column contains major number of Null values which is not providing valuable information to the model."
   ]
  },
  {
   "cell_type": "code",
   "execution_count": 12,
   "metadata": {},
   "outputs": [
    {
     "name": "stdout",
     "output_type": "stream",
     "text": [
      "\tdur: 0\n",
      "\tproto: 0\n",
      "\tservice: 47153\n",
      "\tstate: 0\n",
      "\tspkts: 0\n",
      "\tdpkts: 0\n",
      "\tsbytes: 0\n",
      "\tdbytes: 0\n",
      "\trate: 0\n",
      "\tsttl: 0\n",
      "\tdttl: 0\n",
      "\tsload: 0\n",
      "\tdload: 0\n",
      "\tsloss: 0\n",
      "\tdloss: 0\n",
      "\tsinpkt: 0\n",
      "\tdinpkt: 0\n",
      "\tsjit: 0\n",
      "\tdjit: 0\n",
      "\tswin: 0\n",
      "\tstcpb: 0\n",
      "\tdtcpb: 0\n",
      "\tdwin: 0\n",
      "\ttcprtt: 0\n",
      "\tsynack: 0\n",
      "\tackdat: 0\n",
      "\tsmean: 0\n",
      "\tdmean: 0\n",
      "\ttrans_depth: 0\n",
      "\tresponse_body_len: 0\n",
      "\tct_srv_src: 0\n",
      "\tct_state_ttl: 0\n",
      "\tct_dst_ltm: 0\n",
      "\tct_src_dport_ltm: 0\n",
      "\tct_dst_sport_ltm: 0\n",
      "\tct_dst_src_ltm: 0\n",
      "\tis_ftp_login: 0\n",
      "\tct_ftp_cmd: 0\n",
      "\tct_flw_http_mthd: 0\n",
      "\tct_src_ltm: 0\n",
      "\tct_srv_dst: 0\n",
      "\tis_sm_ips_ports: 0\n",
      "\tattack_cat: 0\n",
      "\tlabel: 0\n"
     ]
    }
   ],
   "source": [
    "test_data=test_data.replace('-',np.nan)\n",
    "for column in test_data.columns:\n",
    "    print('\\t%s: %d'%(column,test_data[column].isnull().sum()))"
   ]
  },
  {
   "cell_type": "code",
   "execution_count": 13,
   "metadata": {
    "id": "V7FspATw9rro"
   },
   "outputs": [],
   "source": [
    " #sort by dtype, we'll mostly treat the numerics the same though\n",
    "discrete_vars=['dur','spkts','dpkts','sbytes','dbytes','rate','sttl','dttl','sload','dload','sloss'\n",
    "              ,'dloss','sinpkt','dinpkt','sjit','djit','swin','stcpb','dtcpb','tcprtt',\n",
    "               'synack','ackdat','smean','dmean','trans_depth','response_body_len','ct_srv_src','ct_state_ttl',\n",
    "               'ct_dst_ltm','ct_dst_sport_ltm','ct_dst_src_ltm','is_ftp_login','ct_ftp_cmd',\n",
    "               'ct_flw_http_mthd','ct_src_ltm','ct_srv_dst','is_sm_ips_ports']\n",
    "categorical_vars=['proto','service','state','attack_cat']\n"
   ]
  },
  {
   "cell_type": "code",
   "execution_count": 14,
   "metadata": {},
   "outputs": [
    {
     "name": "stdout",
     "output_type": "stream",
     "text": [
      "tcp        79946\n",
      "udp        63283\n",
      "unas       12084\n",
      "arp         2859\n",
      "ospf        2595\n",
      "           ...  \n",
      "bbn-rcc       98\n",
      "netblt        98\n",
      "igmp          18\n",
      "icmp          15\n",
      "rtp            1\n",
      "Name: proto, Length: 133, dtype: int64\n",
      "\n",
      "dns         47294\n",
      "http        18724\n",
      "smtp         5058\n",
      "ftp-data     3995\n",
      "ftp          3428\n",
      "ssh          1302\n",
      "pop3         1105\n",
      "dhcp           94\n",
      "snmp           80\n",
      "ssl            56\n",
      "irc            25\n",
      "radius         12\n",
      "Name: service, dtype: int64\n",
      "\n",
      "INT    82275\n",
      "FIN    77825\n",
      "CON    13152\n",
      "REQ     1991\n",
      "RST       83\n",
      "ECO       12\n",
      "no         1\n",
      "PAR        1\n",
      "URN        1\n",
      "Name: state, dtype: int64\n",
      "\n",
      "Normal            56000\n",
      "Generic           40000\n",
      "Exploits          33393\n",
      "Fuzzers           18184\n",
      "DoS               12264\n",
      "Reconnaissance    10491\n",
      "Analysis           2000\n",
      "Backdoor           1746\n",
      "Shellcode          1133\n",
      "Worms               130\n",
      "Name: attack_cat, dtype: int64\n",
      "\n"
     ]
    }
   ],
   "source": [
    "for i in categorical_vars:\n",
    "    print(train_data[i].value_counts())\n",
    "    print()"
   ]
  },
  {
   "cell_type": "markdown",
   "metadata": {},
   "source": [
    "- ### Finding out the frequency of occurence of Proto, Service, State and Attack_cat columns contains "
   ]
  },
  {
   "cell_type": "code",
   "execution_count": 15,
   "metadata": {},
   "outputs": [
    {
     "name": "stdout",
     "output_type": "stream",
     "text": [
      "tcp        43095\n",
      "udp        29418\n",
      "unas        3515\n",
      "arp          987\n",
      "ospf         676\n",
      "           ...  \n",
      "ipip          32\n",
      "pnni          32\n",
      "pri-enc       32\n",
      "ib            31\n",
      "igmp          30\n",
      "Name: proto, Length: 131, dtype: int64\n",
      "\n",
      "dns         21367\n",
      "http         8287\n",
      "smtp         1851\n",
      "ftp          1552\n",
      "ftp-data     1396\n",
      "pop3          423\n",
      "ssh           204\n",
      "ssl            30\n",
      "snmp           29\n",
      "dhcp           26\n",
      "radius          9\n",
      "irc             5\n",
      "Name: service, dtype: int64\n",
      "\n",
      "FIN    39339\n",
      "INT    34163\n",
      "CON     6982\n",
      "REQ     1842\n",
      "ACC        4\n",
      "RST        1\n",
      "CLO        1\n",
      "Name: state, dtype: int64\n",
      "\n",
      "Normal            37000\n",
      "Generic           18871\n",
      "Exploits          11132\n",
      "Fuzzers            6062\n",
      "DoS                4089\n",
      "Reconnaissance     3496\n",
      "Analysis            677\n",
      "Backdoor            583\n",
      "Shellcode           378\n",
      "Worms                44\n",
      "Name: attack_cat, dtype: int64\n",
      "\n"
     ]
    }
   ],
   "source": [
    "for i in categorical_vars:\n",
    "    print(test_data[i].value_counts())\n",
    "    print()"
   ]
  },
  {
   "cell_type": "code",
   "execution_count": 16,
   "metadata": {},
   "outputs": [],
   "source": [
    "d = {'INT':'INT', 'FIN':'FIN', 'CON':'CON', 'ECO':'OTHER', 'REQ':'REQ', 'RST':'RST', 'PAR':'OTHER', 'URN':'OTHER', 'no':'OTHER', 'ACC':'OTHER', 'CLO':'OTHER'}\n",
    "train_data['state'] = train_data['state'].map(lambda s: d[s])"
   ]
  },
  {
   "attachments": {},
   "cell_type": "markdown",
   "metadata": {},
   "source": [
    "## Detecting Outlier in the Proto column\n",
    "- ### Outliers deviate the mean of the model prediction and make model worse. After Performing value_counts() method we found large number of data is ‘tcp’, ‘udp’, ‘unas’ and ‘arp’. So, grouping the others value into one set and ‘tcp’, ‘udp’, ‘unas’ and ‘arp’ as individual will help to drop the unwanted rows."
   ]
  },
  {
   "cell_type": "code",
   "execution_count": 17,
   "metadata": {},
   "outputs": [],
   "source": [
    "repeated_occurances_proto=['tcp','udp','unas','arp']\n",
    "def encoding_categoricals(column):\n",
    "    if column in repeated_occurances_proto:\n",
    "        return column\n",
    "    else:\n",
    "        return \"other\""
   ]
  },
  {
   "cell_type": "code",
   "execution_count": 18,
   "metadata": {},
   "outputs": [],
   "source": [
    "train_data['proto'] = train_data['proto'].apply(encoding_categoricals)\n",
    "test_data['proto'] = test_data['proto'].apply(encoding_categoricals)\n",
    "\n",
    "train_data = train_data[train_data['proto'] != 'other']\n",
    "test_data = test_data[test_data['proto'] != \"other\"]"
   ]
  },
  {
   "attachments": {},
   "cell_type": "markdown",
   "metadata": {},
   "source": [
    "## One-Hot Encoding to the categorical features\n",
    "- ### Applied One-hot encoding to the ‘State’ and ‘Proto’ features to convert the category into integer and it becomes easy to normalize afterwards."
   ]
  },
  {
   "cell_type": "code",
   "execution_count": 19,
   "metadata": {},
   "outputs": [],
   "source": [
    "one_hot = pd.get_dummies(train_data['state'])\n",
    "train_data = train_data.drop('state', axis=1)\n",
    "train_data = train_data.join(one_hot)\n",
    "\n",
    "one_hot = pd.get_dummies(train_data['proto'])\n",
    "train_data = train_data.drop('proto', axis=1)\n",
    "train_data = train_data.join(one_hot)"
   ]
  },
  {
   "cell_type": "code",
   "execution_count": 20,
   "metadata": {},
   "outputs": [],
   "source": [
    "d = {'INT':'INT', 'FIN':'FIN', 'CON':'CON', 'REQ':'REQ', 'RST':'RST', 'ACC':'OTHER', 'CLO':'OTHER','PAR':'OTHER', 'URN':'OTHER', 'no':'OTHER'}\n",
    "test_data['state'] = test_data['state'].map(lambda s: d[s])"
   ]
  },
  {
   "cell_type": "code",
   "execution_count": 21,
   "metadata": {},
   "outputs": [],
   "source": [
    "one_hot = pd.get_dummies(test_data['state'])\n",
    "test_data = test_data.drop('state', axis=1)\n",
    "test_data = test_data.join(one_hot)\n",
    "\n",
    "one_hot = pd.get_dummies(test_data['proto'])\n",
    "test_data = test_data.drop('proto', axis=1)\n",
    "test_data = test_data.join(one_hot)"
   ]
  },
  {
   "cell_type": "code",
   "execution_count": 22,
   "metadata": {},
   "outputs": [
    {
     "data": {
      "text/html": [
       "<div>\n",
       "<style scoped>\n",
       "    .dataframe tbody tr th:only-of-type {\n",
       "        vertical-align: middle;\n",
       "    }\n",
       "\n",
       "    .dataframe tbody tr th {\n",
       "        vertical-align: top;\n",
       "    }\n",
       "\n",
       "    .dataframe thead th {\n",
       "        text-align: right;\n",
       "    }\n",
       "</style>\n",
       "<table border=\"1\" class=\"dataframe\">\n",
       "  <thead>\n",
       "    <tr style=\"text-align: right;\">\n",
       "      <th></th>\n",
       "      <th>dur</th>\n",
       "      <th>service</th>\n",
       "      <th>spkts</th>\n",
       "      <th>dpkts</th>\n",
       "      <th>sbytes</th>\n",
       "      <th>dbytes</th>\n",
       "      <th>rate</th>\n",
       "      <th>sttl</th>\n",
       "      <th>dttl</th>\n",
       "      <th>sload</th>\n",
       "      <th>...</th>\n",
       "      <th>CON</th>\n",
       "      <th>FIN</th>\n",
       "      <th>INT</th>\n",
       "      <th>OTHER</th>\n",
       "      <th>REQ</th>\n",
       "      <th>RST</th>\n",
       "      <th>arp</th>\n",
       "      <th>tcp</th>\n",
       "      <th>udp</th>\n",
       "      <th>unas</th>\n",
       "    </tr>\n",
       "    <tr>\n",
       "      <th>id</th>\n",
       "      <th></th>\n",
       "      <th></th>\n",
       "      <th></th>\n",
       "      <th></th>\n",
       "      <th></th>\n",
       "      <th></th>\n",
       "      <th></th>\n",
       "      <th></th>\n",
       "      <th></th>\n",
       "      <th></th>\n",
       "      <th></th>\n",
       "      <th></th>\n",
       "      <th></th>\n",
       "      <th></th>\n",
       "      <th></th>\n",
       "      <th></th>\n",
       "      <th></th>\n",
       "      <th></th>\n",
       "      <th></th>\n",
       "      <th></th>\n",
       "      <th></th>\n",
       "    </tr>\n",
       "  </thead>\n",
       "  <tbody>\n",
       "    <tr>\n",
       "      <th>1</th>\n",
       "      <td>0.000011</td>\n",
       "      <td>NaN</td>\n",
       "      <td>2</td>\n",
       "      <td>0</td>\n",
       "      <td>496</td>\n",
       "      <td>0</td>\n",
       "      <td>90909.090200</td>\n",
       "      <td>254</td>\n",
       "      <td>0</td>\n",
       "      <td>1.803636e+08</td>\n",
       "      <td>...</td>\n",
       "      <td>0</td>\n",
       "      <td>0</td>\n",
       "      <td>1</td>\n",
       "      <td>0</td>\n",
       "      <td>0</td>\n",
       "      <td>0</td>\n",
       "      <td>0</td>\n",
       "      <td>0</td>\n",
       "      <td>1</td>\n",
       "      <td>0</td>\n",
       "    </tr>\n",
       "    <tr>\n",
       "      <th>2</th>\n",
       "      <td>0.000008</td>\n",
       "      <td>NaN</td>\n",
       "      <td>2</td>\n",
       "      <td>0</td>\n",
       "      <td>1762</td>\n",
       "      <td>0</td>\n",
       "      <td>125000.000300</td>\n",
       "      <td>254</td>\n",
       "      <td>0</td>\n",
       "      <td>8.810000e+08</td>\n",
       "      <td>...</td>\n",
       "      <td>0</td>\n",
       "      <td>0</td>\n",
       "      <td>1</td>\n",
       "      <td>0</td>\n",
       "      <td>0</td>\n",
       "      <td>0</td>\n",
       "      <td>0</td>\n",
       "      <td>0</td>\n",
       "      <td>1</td>\n",
       "      <td>0</td>\n",
       "    </tr>\n",
       "    <tr>\n",
       "      <th>3</th>\n",
       "      <td>0.000005</td>\n",
       "      <td>NaN</td>\n",
       "      <td>2</td>\n",
       "      <td>0</td>\n",
       "      <td>1068</td>\n",
       "      <td>0</td>\n",
       "      <td>200000.005100</td>\n",
       "      <td>254</td>\n",
       "      <td>0</td>\n",
       "      <td>8.544000e+08</td>\n",
       "      <td>...</td>\n",
       "      <td>0</td>\n",
       "      <td>0</td>\n",
       "      <td>1</td>\n",
       "      <td>0</td>\n",
       "      <td>0</td>\n",
       "      <td>0</td>\n",
       "      <td>0</td>\n",
       "      <td>0</td>\n",
       "      <td>1</td>\n",
       "      <td>0</td>\n",
       "    </tr>\n",
       "    <tr>\n",
       "      <th>4</th>\n",
       "      <td>0.000006</td>\n",
       "      <td>NaN</td>\n",
       "      <td>2</td>\n",
       "      <td>0</td>\n",
       "      <td>900</td>\n",
       "      <td>0</td>\n",
       "      <td>166666.660800</td>\n",
       "      <td>254</td>\n",
       "      <td>0</td>\n",
       "      <td>6.000000e+08</td>\n",
       "      <td>...</td>\n",
       "      <td>0</td>\n",
       "      <td>0</td>\n",
       "      <td>1</td>\n",
       "      <td>0</td>\n",
       "      <td>0</td>\n",
       "      <td>0</td>\n",
       "      <td>0</td>\n",
       "      <td>0</td>\n",
       "      <td>1</td>\n",
       "      <td>0</td>\n",
       "    </tr>\n",
       "    <tr>\n",
       "      <th>5</th>\n",
       "      <td>0.000010</td>\n",
       "      <td>NaN</td>\n",
       "      <td>2</td>\n",
       "      <td>0</td>\n",
       "      <td>2126</td>\n",
       "      <td>0</td>\n",
       "      <td>100000.002500</td>\n",
       "      <td>254</td>\n",
       "      <td>0</td>\n",
       "      <td>8.504000e+08</td>\n",
       "      <td>...</td>\n",
       "      <td>0</td>\n",
       "      <td>0</td>\n",
       "      <td>1</td>\n",
       "      <td>0</td>\n",
       "      <td>0</td>\n",
       "      <td>0</td>\n",
       "      <td>0</td>\n",
       "      <td>0</td>\n",
       "      <td>1</td>\n",
       "      <td>0</td>\n",
       "    </tr>\n",
       "    <tr>\n",
       "      <th>...</th>\n",
       "      <td>...</td>\n",
       "      <td>...</td>\n",
       "      <td>...</td>\n",
       "      <td>...</td>\n",
       "      <td>...</td>\n",
       "      <td>...</td>\n",
       "      <td>...</td>\n",
       "      <td>...</td>\n",
       "      <td>...</td>\n",
       "      <td>...</td>\n",
       "      <td>...</td>\n",
       "      <td>...</td>\n",
       "      <td>...</td>\n",
       "      <td>...</td>\n",
       "      <td>...</td>\n",
       "      <td>...</td>\n",
       "      <td>...</td>\n",
       "      <td>...</td>\n",
       "      <td>...</td>\n",
       "      <td>...</td>\n",
       "      <td>...</td>\n",
       "    </tr>\n",
       "    <tr>\n",
       "      <th>82328</th>\n",
       "      <td>0.000005</td>\n",
       "      <td>NaN</td>\n",
       "      <td>2</td>\n",
       "      <td>0</td>\n",
       "      <td>104</td>\n",
       "      <td>0</td>\n",
       "      <td>200000.005100</td>\n",
       "      <td>254</td>\n",
       "      <td>0</td>\n",
       "      <td>8.320000e+07</td>\n",
       "      <td>...</td>\n",
       "      <td>0</td>\n",
       "      <td>0</td>\n",
       "      <td>1</td>\n",
       "      <td>0</td>\n",
       "      <td>0</td>\n",
       "      <td>0</td>\n",
       "      <td>0</td>\n",
       "      <td>0</td>\n",
       "      <td>1</td>\n",
       "      <td>0</td>\n",
       "    </tr>\n",
       "    <tr>\n",
       "      <th>82329</th>\n",
       "      <td>1.106101</td>\n",
       "      <td>NaN</td>\n",
       "      <td>20</td>\n",
       "      <td>8</td>\n",
       "      <td>18062</td>\n",
       "      <td>354</td>\n",
       "      <td>24.410067</td>\n",
       "      <td>254</td>\n",
       "      <td>252</td>\n",
       "      <td>1.241044e+05</td>\n",
       "      <td>...</td>\n",
       "      <td>0</td>\n",
       "      <td>1</td>\n",
       "      <td>0</td>\n",
       "      <td>0</td>\n",
       "      <td>0</td>\n",
       "      <td>0</td>\n",
       "      <td>0</td>\n",
       "      <td>1</td>\n",
       "      <td>0</td>\n",
       "      <td>0</td>\n",
       "    </tr>\n",
       "    <tr>\n",
       "      <th>82330</th>\n",
       "      <td>0.000000</td>\n",
       "      <td>NaN</td>\n",
       "      <td>1</td>\n",
       "      <td>0</td>\n",
       "      <td>46</td>\n",
       "      <td>0</td>\n",
       "      <td>0.000000</td>\n",
       "      <td>0</td>\n",
       "      <td>0</td>\n",
       "      <td>0.000000e+00</td>\n",
       "      <td>...</td>\n",
       "      <td>0</td>\n",
       "      <td>0</td>\n",
       "      <td>1</td>\n",
       "      <td>0</td>\n",
       "      <td>0</td>\n",
       "      <td>0</td>\n",
       "      <td>1</td>\n",
       "      <td>0</td>\n",
       "      <td>0</td>\n",
       "      <td>0</td>\n",
       "    </tr>\n",
       "    <tr>\n",
       "      <th>82331</th>\n",
       "      <td>0.000000</td>\n",
       "      <td>NaN</td>\n",
       "      <td>1</td>\n",
       "      <td>0</td>\n",
       "      <td>46</td>\n",
       "      <td>0</td>\n",
       "      <td>0.000000</td>\n",
       "      <td>0</td>\n",
       "      <td>0</td>\n",
       "      <td>0.000000e+00</td>\n",
       "      <td>...</td>\n",
       "      <td>0</td>\n",
       "      <td>0</td>\n",
       "      <td>1</td>\n",
       "      <td>0</td>\n",
       "      <td>0</td>\n",
       "      <td>0</td>\n",
       "      <td>1</td>\n",
       "      <td>0</td>\n",
       "      <td>0</td>\n",
       "      <td>0</td>\n",
       "    </tr>\n",
       "    <tr>\n",
       "      <th>82332</th>\n",
       "      <td>0.000009</td>\n",
       "      <td>NaN</td>\n",
       "      <td>2</td>\n",
       "      <td>0</td>\n",
       "      <td>104</td>\n",
       "      <td>0</td>\n",
       "      <td>111111.107200</td>\n",
       "      <td>254</td>\n",
       "      <td>0</td>\n",
       "      <td>4.622222e+07</td>\n",
       "      <td>...</td>\n",
       "      <td>0</td>\n",
       "      <td>0</td>\n",
       "      <td>1</td>\n",
       "      <td>0</td>\n",
       "      <td>0</td>\n",
       "      <td>0</td>\n",
       "      <td>0</td>\n",
       "      <td>0</td>\n",
       "      <td>1</td>\n",
       "      <td>0</td>\n",
       "    </tr>\n",
       "  </tbody>\n",
       "</table>\n",
       "<p>77015 rows × 52 columns</p>\n",
       "</div>"
      ],
      "text/plain": [
       "            dur service  spkts  dpkts  sbytes  dbytes           rate  sttl  \\\n",
       "id                                                                           \n",
       "1      0.000011     NaN      2      0     496       0   90909.090200   254   \n",
       "2      0.000008     NaN      2      0    1762       0  125000.000300   254   \n",
       "3      0.000005     NaN      2      0    1068       0  200000.005100   254   \n",
       "4      0.000006     NaN      2      0     900       0  166666.660800   254   \n",
       "5      0.000010     NaN      2      0    2126       0  100000.002500   254   \n",
       "...         ...     ...    ...    ...     ...     ...            ...   ...   \n",
       "82328  0.000005     NaN      2      0     104       0  200000.005100   254   \n",
       "82329  1.106101     NaN     20      8   18062     354      24.410067   254   \n",
       "82330  0.000000     NaN      1      0      46       0       0.000000     0   \n",
       "82331  0.000000     NaN      1      0      46       0       0.000000     0   \n",
       "82332  0.000009     NaN      2      0     104       0  111111.107200   254   \n",
       "\n",
       "       dttl         sload  ...  CON  FIN  INT  OTHER  REQ  RST  arp  tcp  udp  \\\n",
       "id                         ...                                                  \n",
       "1         0  1.803636e+08  ...    0    0    1      0    0    0    0    0    1   \n",
       "2         0  8.810000e+08  ...    0    0    1      0    0    0    0    0    1   \n",
       "3         0  8.544000e+08  ...    0    0    1      0    0    0    0    0    1   \n",
       "4         0  6.000000e+08  ...    0    0    1      0    0    0    0    0    1   \n",
       "5         0  8.504000e+08  ...    0    0    1      0    0    0    0    0    1   \n",
       "...     ...           ...  ...  ...  ...  ...    ...  ...  ...  ...  ...  ...   \n",
       "82328     0  8.320000e+07  ...    0    0    1      0    0    0    0    0    1   \n",
       "82329   252  1.241044e+05  ...    0    1    0      0    0    0    0    1    0   \n",
       "82330     0  0.000000e+00  ...    0    0    1      0    0    0    1    0    0   \n",
       "82331     0  0.000000e+00  ...    0    0    1      0    0    0    1    0    0   \n",
       "82332     0  4.622222e+07  ...    0    0    1      0    0    0    0    0    1   \n",
       "\n",
       "       unas  \n",
       "id           \n",
       "1         0  \n",
       "2         0  \n",
       "3         0  \n",
       "4         0  \n",
       "5         0  \n",
       "...     ...  \n",
       "82328     0  \n",
       "82329     0  \n",
       "82330     0  \n",
       "82331     0  \n",
       "82332     0  \n",
       "\n",
       "[77015 rows x 52 columns]"
      ]
     },
     "execution_count": 22,
     "metadata": {},
     "output_type": "execute_result"
    }
   ],
   "source": [
    "test_data"
   ]
  },
  {
   "cell_type": "code",
   "execution_count": 23,
   "metadata": {},
   "outputs": [
    {
     "data": {
      "text/html": [
       "<div>\n",
       "<style scoped>\n",
       "    .dataframe tbody tr th:only-of-type {\n",
       "        vertical-align: middle;\n",
       "    }\n",
       "\n",
       "    .dataframe tbody tr th {\n",
       "        vertical-align: top;\n",
       "    }\n",
       "\n",
       "    .dataframe thead th {\n",
       "        text-align: right;\n",
       "    }\n",
       "</style>\n",
       "<table border=\"1\" class=\"dataframe\">\n",
       "  <thead>\n",
       "    <tr style=\"text-align: right;\">\n",
       "      <th></th>\n",
       "      <th>dur</th>\n",
       "      <th>service</th>\n",
       "      <th>spkts</th>\n",
       "      <th>dpkts</th>\n",
       "      <th>sbytes</th>\n",
       "      <th>dbytes</th>\n",
       "      <th>rate</th>\n",
       "      <th>sttl</th>\n",
       "      <th>dttl</th>\n",
       "      <th>sload</th>\n",
       "      <th>...</th>\n",
       "      <th>label</th>\n",
       "      <th>CON</th>\n",
       "      <th>FIN</th>\n",
       "      <th>INT</th>\n",
       "      <th>REQ</th>\n",
       "      <th>RST</th>\n",
       "      <th>arp</th>\n",
       "      <th>tcp</th>\n",
       "      <th>udp</th>\n",
       "      <th>unas</th>\n",
       "    </tr>\n",
       "    <tr>\n",
       "      <th>id</th>\n",
       "      <th></th>\n",
       "      <th></th>\n",
       "      <th></th>\n",
       "      <th></th>\n",
       "      <th></th>\n",
       "      <th></th>\n",
       "      <th></th>\n",
       "      <th></th>\n",
       "      <th></th>\n",
       "      <th></th>\n",
       "      <th></th>\n",
       "      <th></th>\n",
       "      <th></th>\n",
       "      <th></th>\n",
       "      <th></th>\n",
       "      <th></th>\n",
       "      <th></th>\n",
       "      <th></th>\n",
       "      <th></th>\n",
       "      <th></th>\n",
       "      <th></th>\n",
       "    </tr>\n",
       "  </thead>\n",
       "  <tbody>\n",
       "    <tr>\n",
       "      <th>1</th>\n",
       "      <td>0.121478</td>\n",
       "      <td>NaN</td>\n",
       "      <td>6</td>\n",
       "      <td>4</td>\n",
       "      <td>258</td>\n",
       "      <td>172</td>\n",
       "      <td>74.087490</td>\n",
       "      <td>252</td>\n",
       "      <td>254</td>\n",
       "      <td>1.415894e+04</td>\n",
       "      <td>...</td>\n",
       "      <td>0</td>\n",
       "      <td>0</td>\n",
       "      <td>1</td>\n",
       "      <td>0</td>\n",
       "      <td>0</td>\n",
       "      <td>0</td>\n",
       "      <td>0</td>\n",
       "      <td>1</td>\n",
       "      <td>0</td>\n",
       "      <td>0</td>\n",
       "    </tr>\n",
       "    <tr>\n",
       "      <th>2</th>\n",
       "      <td>0.649902</td>\n",
       "      <td>NaN</td>\n",
       "      <td>14</td>\n",
       "      <td>38</td>\n",
       "      <td>734</td>\n",
       "      <td>42014</td>\n",
       "      <td>78.473372</td>\n",
       "      <td>62</td>\n",
       "      <td>252</td>\n",
       "      <td>8.395112e+03</td>\n",
       "      <td>...</td>\n",
       "      <td>0</td>\n",
       "      <td>0</td>\n",
       "      <td>1</td>\n",
       "      <td>0</td>\n",
       "      <td>0</td>\n",
       "      <td>0</td>\n",
       "      <td>0</td>\n",
       "      <td>1</td>\n",
       "      <td>0</td>\n",
       "      <td>0</td>\n",
       "    </tr>\n",
       "    <tr>\n",
       "      <th>3</th>\n",
       "      <td>1.623129</td>\n",
       "      <td>NaN</td>\n",
       "      <td>8</td>\n",
       "      <td>16</td>\n",
       "      <td>364</td>\n",
       "      <td>13186</td>\n",
       "      <td>14.170161</td>\n",
       "      <td>62</td>\n",
       "      <td>252</td>\n",
       "      <td>1.572272e+03</td>\n",
       "      <td>...</td>\n",
       "      <td>0</td>\n",
       "      <td>0</td>\n",
       "      <td>1</td>\n",
       "      <td>0</td>\n",
       "      <td>0</td>\n",
       "      <td>0</td>\n",
       "      <td>0</td>\n",
       "      <td>1</td>\n",
       "      <td>0</td>\n",
       "      <td>0</td>\n",
       "    </tr>\n",
       "    <tr>\n",
       "      <th>4</th>\n",
       "      <td>1.681642</td>\n",
       "      <td>ftp</td>\n",
       "      <td>12</td>\n",
       "      <td>12</td>\n",
       "      <td>628</td>\n",
       "      <td>770</td>\n",
       "      <td>13.677108</td>\n",
       "      <td>62</td>\n",
       "      <td>252</td>\n",
       "      <td>2.740179e+03</td>\n",
       "      <td>...</td>\n",
       "      <td>0</td>\n",
       "      <td>0</td>\n",
       "      <td>1</td>\n",
       "      <td>0</td>\n",
       "      <td>0</td>\n",
       "      <td>0</td>\n",
       "      <td>0</td>\n",
       "      <td>1</td>\n",
       "      <td>0</td>\n",
       "      <td>0</td>\n",
       "    </tr>\n",
       "    <tr>\n",
       "      <th>5</th>\n",
       "      <td>0.449454</td>\n",
       "      <td>NaN</td>\n",
       "      <td>10</td>\n",
       "      <td>6</td>\n",
       "      <td>534</td>\n",
       "      <td>268</td>\n",
       "      <td>33.373826</td>\n",
       "      <td>254</td>\n",
       "      <td>252</td>\n",
       "      <td>8.561499e+03</td>\n",
       "      <td>...</td>\n",
       "      <td>0</td>\n",
       "      <td>0</td>\n",
       "      <td>1</td>\n",
       "      <td>0</td>\n",
       "      <td>0</td>\n",
       "      <td>0</td>\n",
       "      <td>0</td>\n",
       "      <td>1</td>\n",
       "      <td>0</td>\n",
       "      <td>0</td>\n",
       "    </tr>\n",
       "    <tr>\n",
       "      <th>...</th>\n",
       "      <td>...</td>\n",
       "      <td>...</td>\n",
       "      <td>...</td>\n",
       "      <td>...</td>\n",
       "      <td>...</td>\n",
       "      <td>...</td>\n",
       "      <td>...</td>\n",
       "      <td>...</td>\n",
       "      <td>...</td>\n",
       "      <td>...</td>\n",
       "      <td>...</td>\n",
       "      <td>...</td>\n",
       "      <td>...</td>\n",
       "      <td>...</td>\n",
       "      <td>...</td>\n",
       "      <td>...</td>\n",
       "      <td>...</td>\n",
       "      <td>...</td>\n",
       "      <td>...</td>\n",
       "      <td>...</td>\n",
       "      <td>...</td>\n",
       "    </tr>\n",
       "    <tr>\n",
       "      <th>175337</th>\n",
       "      <td>0.000009</td>\n",
       "      <td>dns</td>\n",
       "      <td>2</td>\n",
       "      <td>0</td>\n",
       "      <td>114</td>\n",
       "      <td>0</td>\n",
       "      <td>111111.107200</td>\n",
       "      <td>254</td>\n",
       "      <td>0</td>\n",
       "      <td>5.066666e+07</td>\n",
       "      <td>...</td>\n",
       "      <td>1</td>\n",
       "      <td>0</td>\n",
       "      <td>0</td>\n",
       "      <td>1</td>\n",
       "      <td>0</td>\n",
       "      <td>0</td>\n",
       "      <td>0</td>\n",
       "      <td>0</td>\n",
       "      <td>1</td>\n",
       "      <td>0</td>\n",
       "    </tr>\n",
       "    <tr>\n",
       "      <th>175338</th>\n",
       "      <td>0.505762</td>\n",
       "      <td>NaN</td>\n",
       "      <td>10</td>\n",
       "      <td>8</td>\n",
       "      <td>620</td>\n",
       "      <td>354</td>\n",
       "      <td>33.612649</td>\n",
       "      <td>254</td>\n",
       "      <td>252</td>\n",
       "      <td>8.826286e+03</td>\n",
       "      <td>...</td>\n",
       "      <td>1</td>\n",
       "      <td>0</td>\n",
       "      <td>1</td>\n",
       "      <td>0</td>\n",
       "      <td>0</td>\n",
       "      <td>0</td>\n",
       "      <td>0</td>\n",
       "      <td>1</td>\n",
       "      <td>0</td>\n",
       "      <td>0</td>\n",
       "    </tr>\n",
       "    <tr>\n",
       "      <th>175339</th>\n",
       "      <td>0.000009</td>\n",
       "      <td>dns</td>\n",
       "      <td>2</td>\n",
       "      <td>0</td>\n",
       "      <td>114</td>\n",
       "      <td>0</td>\n",
       "      <td>111111.107200</td>\n",
       "      <td>254</td>\n",
       "      <td>0</td>\n",
       "      <td>5.066666e+07</td>\n",
       "      <td>...</td>\n",
       "      <td>1</td>\n",
       "      <td>0</td>\n",
       "      <td>0</td>\n",
       "      <td>1</td>\n",
       "      <td>0</td>\n",
       "      <td>0</td>\n",
       "      <td>0</td>\n",
       "      <td>0</td>\n",
       "      <td>1</td>\n",
       "      <td>0</td>\n",
       "    </tr>\n",
       "    <tr>\n",
       "      <th>175340</th>\n",
       "      <td>0.000009</td>\n",
       "      <td>dns</td>\n",
       "      <td>2</td>\n",
       "      <td>0</td>\n",
       "      <td>114</td>\n",
       "      <td>0</td>\n",
       "      <td>111111.107200</td>\n",
       "      <td>254</td>\n",
       "      <td>0</td>\n",
       "      <td>5.066666e+07</td>\n",
       "      <td>...</td>\n",
       "      <td>1</td>\n",
       "      <td>0</td>\n",
       "      <td>0</td>\n",
       "      <td>1</td>\n",
       "      <td>0</td>\n",
       "      <td>0</td>\n",
       "      <td>0</td>\n",
       "      <td>0</td>\n",
       "      <td>1</td>\n",
       "      <td>0</td>\n",
       "    </tr>\n",
       "    <tr>\n",
       "      <th>175341</th>\n",
       "      <td>0.000009</td>\n",
       "      <td>dns</td>\n",
       "      <td>2</td>\n",
       "      <td>0</td>\n",
       "      <td>114</td>\n",
       "      <td>0</td>\n",
       "      <td>111111.107200</td>\n",
       "      <td>254</td>\n",
       "      <td>0</td>\n",
       "      <td>5.066666e+07</td>\n",
       "      <td>...</td>\n",
       "      <td>1</td>\n",
       "      <td>0</td>\n",
       "      <td>0</td>\n",
       "      <td>1</td>\n",
       "      <td>0</td>\n",
       "      <td>0</td>\n",
       "      <td>0</td>\n",
       "      <td>0</td>\n",
       "      <td>1</td>\n",
       "      <td>0</td>\n",
       "    </tr>\n",
       "  </tbody>\n",
       "</table>\n",
       "<p>158172 rows × 51 columns</p>\n",
       "</div>"
      ],
      "text/plain": [
       "             dur service  spkts  dpkts  sbytes  dbytes           rate  sttl  \\\n",
       "id                                                                            \n",
       "1       0.121478     NaN      6      4     258     172      74.087490   252   \n",
       "2       0.649902     NaN     14     38     734   42014      78.473372    62   \n",
       "3       1.623129     NaN      8     16     364   13186      14.170161    62   \n",
       "4       1.681642     ftp     12     12     628     770      13.677108    62   \n",
       "5       0.449454     NaN     10      6     534     268      33.373826   254   \n",
       "...          ...     ...    ...    ...     ...     ...            ...   ...   \n",
       "175337  0.000009     dns      2      0     114       0  111111.107200   254   \n",
       "175338  0.505762     NaN     10      8     620     354      33.612649   254   \n",
       "175339  0.000009     dns      2      0     114       0  111111.107200   254   \n",
       "175340  0.000009     dns      2      0     114       0  111111.107200   254   \n",
       "175341  0.000009     dns      2      0     114       0  111111.107200   254   \n",
       "\n",
       "        dttl         sload  ...  label  CON  FIN  INT  REQ  RST  arp  tcp  \\\n",
       "id                          ...                                             \n",
       "1        254  1.415894e+04  ...      0    0    1    0    0    0    0    1   \n",
       "2        252  8.395112e+03  ...      0    0    1    0    0    0    0    1   \n",
       "3        252  1.572272e+03  ...      0    0    1    0    0    0    0    1   \n",
       "4        252  2.740179e+03  ...      0    0    1    0    0    0    0    1   \n",
       "5        252  8.561499e+03  ...      0    0    1    0    0    0    0    1   \n",
       "...      ...           ...  ...    ...  ...  ...  ...  ...  ...  ...  ...   \n",
       "175337     0  5.066666e+07  ...      1    0    0    1    0    0    0    0   \n",
       "175338   252  8.826286e+03  ...      1    0    1    0    0    0    0    1   \n",
       "175339     0  5.066666e+07  ...      1    0    0    1    0    0    0    0   \n",
       "175340     0  5.066666e+07  ...      1    0    0    1    0    0    0    0   \n",
       "175341     0  5.066666e+07  ...      1    0    0    1    0    0    0    0   \n",
       "\n",
       "        udp  unas  \n",
       "id                 \n",
       "1         0     0  \n",
       "2         0     0  \n",
       "3         0     0  \n",
       "4         0     0  \n",
       "5         0     0  \n",
       "...     ...   ...  \n",
       "175337    1     0  \n",
       "175338    0     0  \n",
       "175339    1     0  \n",
       "175340    1     0  \n",
       "175341    1     0  \n",
       "\n",
       "[158172 rows x 51 columns]"
      ]
     },
     "execution_count": 23,
     "metadata": {},
     "output_type": "execute_result"
    }
   ],
   "source": [
    "train_data"
   ]
  },
  {
   "attachments": {},
   "cell_type": "markdown",
   "metadata": {},
   "source": [
    "## Plot Correlation matrix using Heatmap\n",
    "- #### Plotted Correlated heatmap helps to understand the correlation between the features.\n",
    "- #### After multiple trial and error we found 0.9 limit for correlation matrix between feature provides the important features for training model."
   ]
  },
  {
   "cell_type": "code",
   "execution_count": 24,
   "metadata": {},
   "outputs": [
    {
     "data": {
      "text/plain": [
       "<matplotlib.axes._subplots.AxesSubplot at 0x7f8c28868b20>"
      ]
     },
     "execution_count": 24,
     "metadata": {},
     "output_type": "execute_result"
    },
    {
     "data": {
      "image/png": "[encoded data removed]",
      "text/plain": [
       "<Figure size 1080x720 with 2 Axes>"
      ]
     },
     "metadata": {
      "needs_background": "light"
     },
     "output_type": "display_data"
    }
   ],
   "source": [
    "corr_matrix = train_data.corr(method='pearson') #  ‘pearson’, ‘kendall’, ‘spearman’\n",
    "fig = plt.figure(figsize=(15,10))\n",
    "sns.heatmap(corr_matrix,vmax=0.9,square = True) "
   ]
  },
  {
   "cell_type": "code",
   "execution_count": 25,
   "metadata": {},
   "outputs": [
    {
     "data": {
      "text/html": [
       "<div>\n",
       "<style scoped>\n",
       "    .dataframe tbody tr th:only-of-type {\n",
       "        vertical-align: middle;\n",
       "    }\n",
       "\n",
       "    .dataframe tbody tr th {\n",
       "        vertical-align: top;\n",
       "    }\n",
       "\n",
       "    .dataframe thead th {\n",
       "        text-align: right;\n",
       "    }\n",
       "</style>\n",
       "<table border=\"1\" class=\"dataframe\">\n",
       "  <thead>\n",
       "    <tr style=\"text-align: right;\">\n",
       "      <th></th>\n",
       "      <th>dur</th>\n",
       "      <th>service</th>\n",
       "      <th>spkts</th>\n",
       "      <th>dpkts</th>\n",
       "      <th>sbytes</th>\n",
       "      <th>dbytes</th>\n",
       "      <th>rate</th>\n",
       "      <th>sttl</th>\n",
       "      <th>dttl</th>\n",
       "      <th>sload</th>\n",
       "      <th>...</th>\n",
       "      <th>label</th>\n",
       "      <th>CON</th>\n",
       "      <th>FIN</th>\n",
       "      <th>INT</th>\n",
       "      <th>REQ</th>\n",
       "      <th>RST</th>\n",
       "      <th>arp</th>\n",
       "      <th>tcp</th>\n",
       "      <th>udp</th>\n",
       "      <th>unas</th>\n",
       "    </tr>\n",
       "    <tr>\n",
       "      <th>id</th>\n",
       "      <th></th>\n",
       "      <th></th>\n",
       "      <th></th>\n",
       "      <th></th>\n",
       "      <th></th>\n",
       "      <th></th>\n",
       "      <th></th>\n",
       "      <th></th>\n",
       "      <th></th>\n",
       "      <th></th>\n",
       "      <th></th>\n",
       "      <th></th>\n",
       "      <th></th>\n",
       "      <th></th>\n",
       "      <th></th>\n",
       "      <th></th>\n",
       "      <th></th>\n",
       "      <th></th>\n",
       "      <th></th>\n",
       "      <th></th>\n",
       "      <th></th>\n",
       "    </tr>\n",
       "  </thead>\n",
       "  <tbody>\n",
       "    <tr>\n",
       "      <th>1</th>\n",
       "      <td>0.121478</td>\n",
       "      <td>NaN</td>\n",
       "      <td>6</td>\n",
       "      <td>4</td>\n",
       "      <td>258</td>\n",
       "      <td>172</td>\n",
       "      <td>74.087490</td>\n",
       "      <td>252</td>\n",
       "      <td>254</td>\n",
       "      <td>14158.942380</td>\n",
       "      <td>...</td>\n",
       "      <td>0</td>\n",
       "      <td>0</td>\n",
       "      <td>1</td>\n",
       "      <td>0</td>\n",
       "      <td>0</td>\n",
       "      <td>0</td>\n",
       "      <td>0</td>\n",
       "      <td>1</td>\n",
       "      <td>0</td>\n",
       "      <td>0</td>\n",
       "    </tr>\n",
       "    <tr>\n",
       "      <th>2</th>\n",
       "      <td>0.649902</td>\n",
       "      <td>NaN</td>\n",
       "      <td>14</td>\n",
       "      <td>38</td>\n",
       "      <td>734</td>\n",
       "      <td>42014</td>\n",
       "      <td>78.473372</td>\n",
       "      <td>62</td>\n",
       "      <td>252</td>\n",
       "      <td>8395.112305</td>\n",
       "      <td>...</td>\n",
       "      <td>0</td>\n",
       "      <td>0</td>\n",
       "      <td>1</td>\n",
       "      <td>0</td>\n",
       "      <td>0</td>\n",
       "      <td>0</td>\n",
       "      <td>0</td>\n",
       "      <td>1</td>\n",
       "      <td>0</td>\n",
       "      <td>0</td>\n",
       "    </tr>\n",
       "    <tr>\n",
       "      <th>3</th>\n",
       "      <td>1.623129</td>\n",
       "      <td>NaN</td>\n",
       "      <td>8</td>\n",
       "      <td>16</td>\n",
       "      <td>364</td>\n",
       "      <td>13186</td>\n",
       "      <td>14.170161</td>\n",
       "      <td>62</td>\n",
       "      <td>252</td>\n",
       "      <td>1572.271851</td>\n",
       "      <td>...</td>\n",
       "      <td>0</td>\n",
       "      <td>0</td>\n",
       "      <td>1</td>\n",
       "      <td>0</td>\n",
       "      <td>0</td>\n",
       "      <td>0</td>\n",
       "      <td>0</td>\n",
       "      <td>1</td>\n",
       "      <td>0</td>\n",
       "      <td>0</td>\n",
       "    </tr>\n",
       "    <tr>\n",
       "      <th>4</th>\n",
       "      <td>1.681642</td>\n",
       "      <td>ftp</td>\n",
       "      <td>12</td>\n",
       "      <td>12</td>\n",
       "      <td>628</td>\n",
       "      <td>770</td>\n",
       "      <td>13.677108</td>\n",
       "      <td>62</td>\n",
       "      <td>252</td>\n",
       "      <td>2740.178955</td>\n",
       "      <td>...</td>\n",
       "      <td>0</td>\n",
       "      <td>0</td>\n",
       "      <td>1</td>\n",
       "      <td>0</td>\n",
       "      <td>0</td>\n",
       "      <td>0</td>\n",
       "      <td>0</td>\n",
       "      <td>1</td>\n",
       "      <td>0</td>\n",
       "      <td>0</td>\n",
       "    </tr>\n",
       "    <tr>\n",
       "      <th>5</th>\n",
       "      <td>0.449454</td>\n",
       "      <td>NaN</td>\n",
       "      <td>10</td>\n",
       "      <td>6</td>\n",
       "      <td>534</td>\n",
       "      <td>268</td>\n",
       "      <td>33.373826</td>\n",
       "      <td>254</td>\n",
       "      <td>252</td>\n",
       "      <td>8561.499023</td>\n",
       "      <td>...</td>\n",
       "      <td>0</td>\n",
       "      <td>0</td>\n",
       "      <td>1</td>\n",
       "      <td>0</td>\n",
       "      <td>0</td>\n",
       "      <td>0</td>\n",
       "      <td>0</td>\n",
       "      <td>1</td>\n",
       "      <td>0</td>\n",
       "      <td>0</td>\n",
       "    </tr>\n",
       "  </tbody>\n",
       "</table>\n",
       "<p>5 rows × 51 columns</p>\n",
       "</div>"
      ],
      "text/plain": [
       "         dur service  spkts  dpkts  sbytes  dbytes       rate  sttl  dttl  \\\n",
       "id                                                                          \n",
       "1   0.121478     NaN      6      4     258     172  74.087490   252   254   \n",
       "2   0.649902     NaN     14     38     734   42014  78.473372    62   252   \n",
       "3   1.623129     NaN      8     16     364   13186  14.170161    62   252   \n",
       "4   1.681642     ftp     12     12     628     770  13.677108    62   252   \n",
       "5   0.449454     NaN     10      6     534     268  33.373826   254   252   \n",
       "\n",
       "           sload  ...  label  CON  FIN  INT  REQ  RST  arp  tcp  udp  unas  \n",
       "id                ...                                                       \n",
       "1   14158.942380  ...      0    0    1    0    0    0    0    1    0     0  \n",
       "2    8395.112305  ...      0    0    1    0    0    0    0    1    0     0  \n",
       "3    1572.271851  ...      0    0    1    0    0    0    0    1    0     0  \n",
       "4    2740.178955  ...      0    0    1    0    0    0    0    1    0     0  \n",
       "5    8561.499023  ...      0    0    1    0    0    0    0    1    0     0  \n",
       "\n",
       "[5 rows x 51 columns]"
      ]
     },
     "execution_count": 25,
     "metadata": {},
     "output_type": "execute_result"
    }
   ],
   "source": [
    "train_data.head()"
   ]
  },
  {
   "cell_type": "code",
   "execution_count": 26,
   "metadata": {
    "id": "6KBd0x-J9uGL"
   },
   "outputs": [
    {
     "name": "stdout",
     "output_type": "stream",
     "text": [
      "spkts - sbytes - 0.9645266219805146\n",
      "spkts - sloss - 0.9730150202299451\n",
      "dpkts - dbytes - 0.9720996368155072\n",
      "dpkts - dloss - 0.9786780110101772\n",
      "sbytes - sloss - 0.9968700979978583\n",
      "dbytes - dloss - 0.9965409206459557\n",
      "sinpkt - is_sm_ips_ports - 0.9418877444513564\n",
      "sinpkt - arp - 0.9402539899820334\n",
      "swin - dwin - 0.9891691863561344\n",
      "swin - FIN - 0.973633450568143\n",
      "swin - tcp - 0.9999463738070375\n",
      "dwin - FIN - 0.9841791458701907\n",
      "dwin - tcp - 0.9891763826530474\n",
      "tcprtt - synack - 0.9481184388796426\n",
      "tcprtt - ackdat - 0.9400717078604143\n",
      "ct_srv_src - ct_dst_src_ltm - 0.9691867543813244\n",
      "ct_srv_src - ct_srv_dst - 0.9797973923717352\n",
      "ct_dst_ltm - ct_src_dport_ltm - 0.9628078543673091\n",
      "ct_dst_ltm - ct_src_ltm - 0.9014258797847882\n",
      "ct_src_dport_ltm - ct_dst_sport_ltm - 0.9052729256107189\n",
      "ct_src_dport_ltm - ct_src_ltm - 0.9131553125868282\n",
      "ct_dst_src_ltm - ct_srv_dst - 0.9743131492782294\n",
      "is_ftp_login - ct_ftp_cmd - 1.0\n",
      "is_sm_ips_ports - arp - 0.9818582603170386\n",
      "FIN - tcp - 0.973535794396259\n"
     ]
    }
   ],
   "source": [
    "columns = corr_matrix.columns\n",
    "for i in range(corr_matrix.shape[0]):\n",
    "    for j in range(i+1, corr_matrix.shape[0]):\n",
    "         if corr_matrix.iloc[i,j] >= 0.9:\n",
    "                print(f\"{columns[i]} - {columns[j]} - {corr_matrix.iloc[i,j]}\")"
   ]
  },
  {
   "cell_type": "code",
   "execution_count": 27,
   "metadata": {},
   "outputs": [
    {
     "data": {
      "image/png": "[encoded data removed]",
      "text/plain": [
       "<Figure size 540x540 with 12 Axes>"
      ]
     },
     "metadata": {
      "needs_background": "light"
     },
     "output_type": "display_data"
    }
   ],
   "source": [
    "sns.pairplot(train_data[['ct_dst_src_ltm', 'ct_srv_dst','ct_srv_src']])\n",
    "plt.show()"
   ]
  },
  {
   "attachments": {},
   "cell_type": "markdown",
   "metadata": {},
   "source": [
    "## Dropping the column which is not highly correlated."
   ]
  },
  {
   "cell_type": "code",
   "execution_count": 28,
   "metadata": {},
   "outputs": [],
   "source": [
    "train_data.drop(['dur', 'spkts', 'dpkts', 'sbytes', 'dbytes', 'dload', 'sloss', 'dloss', 'sinpkt', 'dinpkt', 'sjit', 'djit', 'stcpb', 'dtcpb', 'dwin', 'smean', 'dmean', 'trans_depth', 'response_body_len', 'is_ftp_login', 'ct_ftp_cmd', 'ct_flw_http_mthd', 'is_sm_ips_ports', 'tcp', 'CON', 'FIN', 'REQ','service','attack_cat'],axis = 1, inplace = True)\n",
    " "
   ]
  },
  {
   "cell_type": "code",
   "execution_count": 29,
   "metadata": {},
   "outputs": [
    {
     "data": {
      "text/plain": [
       "22"
      ]
     },
     "execution_count": 29,
     "metadata": {},
     "output_type": "execute_result"
    }
   ],
   "source": [
    "train_data.shape[1]"
   ]
  },
  {
   "cell_type": "code",
   "execution_count": 30,
   "metadata": {},
   "outputs": [],
   "source": [
    "test_data.drop(['dur', 'spkts', 'dpkts', 'sbytes', 'dbytes', 'dload', 'sloss', 'dloss', 'sinpkt', 'dinpkt', 'sjit', 'djit', 'stcpb', 'dtcpb', 'dwin', 'smean', 'dmean', 'trans_depth', 'response_body_len', 'is_ftp_login', 'ct_ftp_cmd', 'ct_flw_http_mthd', 'is_sm_ips_ports', 'tcp', 'CON', 'FIN', 'REQ','OTHER','service','attack_cat'],axis = 1, inplace = True)"
   ]
  },
  {
   "cell_type": "code",
   "execution_count": 31,
   "metadata": {},
   "outputs": [
    {
     "data": {
      "text/plain": [
       "22"
      ]
     },
     "execution_count": 31,
     "metadata": {},
     "output_type": "execute_result"
    }
   ],
   "source": [
    "test_data.shape[1]"
   ]
  },
  {
   "cell_type": "markdown",
   "metadata": {
    "id": "6m1mjYaP9uLF"
   },
   "source": [
    "#### Most correlated features are :\n",
    "\n",
    "#### spkts, sbytes, sloss, dpkts, dbytes, dloss ,sinpkt, is_sm_ips_ports, swin, dwin, tcprtt, synack, ct_srv_src, ct_srv_dst, ct_dst_src_ltm, ct_src_dport_ltm, ct_dst_sport_ltm, is_ftp_login ct_ftp_cmd"
   ]
  },
  {
   "cell_type": "code",
   "execution_count": 32,
   "metadata": {},
   "outputs": [],
   "source": [
    "from collections.abc import Sequence\n",
    "from sklearn import preprocessing\n",
    "import matplotlib.pyplot as plt\n",
    "import numpy as np\n",
    "import pandas as pd\n",
    "import shutil\n",
    "import os\n",
    "\n",
    "\n",
    "# Encode text values to dummy variables(i.e. [1,0,0],[0,1,0],[0,0,1] for red,green,blue)\n",
    "def encode_text_dummy(df, name):\n",
    "    dummies = pd.get_dummies(df[name])\n",
    "    for x in dummies.columns:\n",
    "        dummy_name = \"{}-{}\".format(name, x)\n",
    "        df[dummy_name] = dummies[x]\n",
    "    df.drop(name, axis=1, inplace=True)\n",
    "\n",
    "\n",
    "\n",
    "# Encode a numeric column as zscores\n",
    "def encode_numeric_zscore(df, name, mean=None, sd=None):\n",
    "    if mean is None:\n",
    "        mean = df[name].mean()\n",
    "\n",
    "    if sd is None:\n",
    "        sd = df[name].std()\n",
    "\n",
    "    df[name] = (df[name] - mean) / sd"
   ]
  },
  {
   "cell_type": "code",
   "execution_count": 33,
   "metadata": {},
   "outputs": [],
   "source": [
    "target = 'label'\n",
    "features = list(train_data.columns)\n",
    "features = [f for f in features if f!=target]"
   ]
  },
  {
   "cell_type": "markdown",
   "metadata": {},
   "source": [
    "## Split the data into X and Y"
   ]
  },
  {
   "cell_type": "code",
   "execution_count": 34,
   "metadata": {},
   "outputs": [],
   "source": [
    "x_train=train_data[features]\n",
    "y_train=train_data[[target]]\n",
    "\n",
    "\n",
    "target = 'label'\n",
    "features = list(train_data.columns)\n",
    "features = [f for f in features if f!=target]\n",
    "\n",
    "x_test=test_data[features]\n",
    "y_test=test_data[[target]]"
   ]
  },
  {
   "cell_type": "code",
   "execution_count": 35,
   "metadata": {},
   "outputs": [
    {
     "data": {
      "text/plain": [
       "(158172, 21)"
      ]
     },
     "execution_count": 35,
     "metadata": {},
     "output_type": "execute_result"
    }
   ],
   "source": [
    "x_train.shape"
   ]
  },
  {
   "cell_type": "code",
   "execution_count": 36,
   "metadata": {},
   "outputs": [
    {
     "data": {
      "text/plain": [
       "(158172, 1)"
      ]
     },
     "execution_count": 36,
     "metadata": {},
     "output_type": "execute_result"
    }
   ],
   "source": [
    "y_train.shape"
   ]
  },
  {
   "cell_type": "code",
   "execution_count": 37,
   "metadata": {},
   "outputs": [
    {
     "name": "stdout",
     "output_type": "stream",
     "text": [
      "(158172, 21) (158172, 1)\n"
     ]
    }
   ],
   "source": [
    "print(x_train.shape, y_train.shape)"
   ]
  },
  {
   "cell_type": "code",
   "execution_count": 38,
   "metadata": {},
   "outputs": [
    {
     "data": {
      "image/png": "[encoded data removed]",
      "text/plain": [
       "<Figure size 432x288 with 1 Axes>"
      ]
     },
     "metadata": {
      "needs_background": "light"
     },
     "output_type": "display_data"
    }
   ],
   "source": [
    "#sns.set_theme(style=\"whitegrid\")\n",
    "\n",
    "sns.countplot(y_train[target])\n",
    "plt.show()\n",
    "#y_train[target].value_counts().plot(kind = 'bar')\n",
    "#sns.boxplot(x=\"Class\", y=\"V6\", data=equal_sample,  ax=axes[1,3])"
   ]
  },
  {
   "cell_type": "code",
   "execution_count": 39,
   "metadata": {},
   "outputs": [
    {
     "name": "stdout",
     "output_type": "stream",
     "text": [
      "(77015, 21) (77015, 1)\n"
     ]
    }
   ],
   "source": [
    "print(x_test.shape,y_test.shape)"
   ]
  },
  {
   "cell_type": "code",
   "execution_count": 40,
   "metadata": {},
   "outputs": [],
   "source": [
    "x_train = x_train.astype('float')\n",
    "x_test = x_test.astype('float')"
   ]
  },
  {
   "attachments": {},
   "cell_type": "markdown",
   "metadata": {},
   "source": [
    "## Performed feature normalization using z-score"
   ]
  },
  {
   "cell_type": "code",
   "execution_count": 41,
   "metadata": {},
   "outputs": [],
   "source": [
    "for col in x_train.columns:\n",
    "        encode_numeric_zscore(x_train,col)\n",
    "\n",
    "for col in x_test.columns:\n",
    "        encode_numeric_zscore(x_test,col)"
   ]
  },
  {
   "cell_type": "code",
   "execution_count": 42,
   "metadata": {},
   "outputs": [],
   "source": [
    "label0 = y_train[y_train['label'] == 0].index.values\n",
    "label1 = y_train[y_train['label'] == 1].index.values\n",
    "\n",
    "min_rows = min(y_train['label'].value_counts())\n",
    "\n",
    "np.random.shuffle(label0)\n",
    "np.random.shuffle(label1)\n",
    "\n",
    "index_shuffled_label0  = list(label0)\n",
    "index_shuffled_label1  = list(label1)\n",
    "\n",
    "indices_ = index_shuffled_label0[:min_rows] + index_shuffled_label1[:min_rows]\n"
   ]
  },
  {
   "cell_type": "code",
   "execution_count": 43,
   "metadata": {},
   "outputs": [
    {
     "data": {
      "text/plain": [
       "(158172, 21)"
      ]
     },
     "execution_count": 43,
     "metadata": {},
     "output_type": "execute_result"
    }
   ],
   "source": [
    "x_train.shape"
   ]
  },
  {
   "cell_type": "code",
   "execution_count": 44,
   "metadata": {},
   "outputs": [],
   "source": [
    "x_train = x_train.loc[indices_, :]\n",
    "y_train= y_train.loc[indices_,:]"
   ]
  },
  {
   "cell_type": "code",
   "execution_count": 45,
   "metadata": {},
   "outputs": [
    {
     "name": "stdout",
     "output_type": "stream",
     "text": [
      "(111804, 21) (111804, 1)\n"
     ]
    }
   ],
   "source": [
    "print(x_train.shape, y_train.shape)"
   ]
  },
  {
   "cell_type": "code",
   "execution_count": 46,
   "metadata": {},
   "outputs": [
    {
     "data": {
      "image/png": "[encoded data removed]",
      "text/plain": [
       "<Figure size 432x288 with 1 Axes>"
      ]
     },
     "metadata": {
      "needs_background": "light"
     },
     "output_type": "display_data"
    }
   ],
   "source": [
    "sns.countplot(y_train[target])\n",
    "plt.show()\n",
    "#y_train['label'].value_counts().plot(kind = 'bar')"
   ]
  },
  {
   "cell_type": "code",
   "execution_count": 47,
   "metadata": {},
   "outputs": [],
   "source": [
    "def plot_confusion_matrix(cm, names, title='Confusion matrix', cmap=plt.cm.Blues):\n",
    "    plt.imshow(cm, interpolation='nearest', cmap=cmap)\n",
    "    plt.title(title)\n",
    "    plt.colorbar()\n",
    "    tick_marks = np.arange(len(names))\n",
    "    plt.xticks(tick_marks, names, rotation=45)\n",
    "    plt.yticks(tick_marks, names)\n",
    "    plt.tight_layout()\n",
    "    plt.ylabel('True label')\n",
    "    plt.xlabel('Predicted label')"
   ]
  },
  {
   "cell_type": "markdown",
   "metadata": {},
   "source": [
    "## Logistic Regression"
   ]
  },
  {
   "cell_type": "code",
   "execution_count": 49,
   "metadata": {},
   "outputs": [],
   "source": [
    "from sklearn import metrics\n",
    "from sklearn.linear_model import LogisticRegression\n",
    "\n",
    "# instantiate the model (using the default parameters)\n",
    "log_clf = LogisticRegression()\n",
    "\n",
    "# fit the model with data\n",
    "log_clf.fit(x_train, y_train)\n",
    "\n",
    "# predict the response for new observations\n",
    "y_pred = log_clf.predict(x_test)"
   ]
  },
  {
   "cell_type": "code",
   "execution_count": 50,
   "metadata": {
    "scrolled": true
   },
   "outputs": [
    {
     "name": "stdout",
     "output_type": "stream",
     "text": [
      "[[20582 16350]\n",
      " [ 1076 39007]]\n",
      "Plotting confusion matrix\n"
     ]
    },
    {
     "data": {
      "image/png": "[encoded data removed]",
      "text/plain": [
       "<Figure size 432x288 with 2 Axes>"
      ]
     },
     "metadata": {
      "needs_background": "light"
     },
     "output_type": "display_data"
    }
   ],
   "source": [
    " from sklearn.metrics import confusion_matrix, classification_report\n",
    "\n",
    "from sklearn.metrics import roc_curve, auc\n",
    "\n",
    "confusion_matrix = metrics.confusion_matrix(y_test, y_pred)\n",
    "print(confusion_matrix)\n",
    "classification = metrics.classification_report(y_test, y_pred)\n",
    "print('Plotting confusion matrix')\n",
    "\n",
    "plt.figure()\n",
    "plot_confusion_matrix(confusion_matrix, [0, 1])\n",
    "plt.show()"
   ]
  },
  {
   "cell_type": "code",
   "execution_count": null,
   "metadata": {},
   "outputs": [],
   "source": []
  },
  {
   "cell_type": "code",
   "execution_count": 51,
   "metadata": {},
   "outputs": [],
   "source": [
    "from sklearn.metrics import classification_report\n",
    "from sklearn.metrics import confusion_matrix"
   ]
  },
  {
   "cell_type": "code",
   "execution_count": 52,
   "metadata": {},
   "outputs": [
    {
     "name": "stdout",
     "output_type": "stream",
     "text": [
      "              precision    recall  f1-score   support\n",
      "\n",
      "           0       0.95      0.56      0.70     36932\n",
      "           1       0.70      0.97      0.82     40083\n",
      "\n",
      "    accuracy                           0.77     77015\n",
      "   macro avg       0.83      0.77      0.76     77015\n",
      "weighted avg       0.82      0.77      0.76     77015\n",
      "\n"
     ]
    }
   ],
   "source": [
    "print(metrics.classification_report(y_test, y_pred))"
   ]
  },
  {
   "cell_type": "code",
   "execution_count": 53,
   "metadata": {},
   "outputs": [],
   "source": [
    "from sklearn.model_selection import cross_val_predict\n",
    "from sklearn.metrics import precision_score, recall_score\n",
    "y_score=cross_val_predict(log_clf , x_train, y_train, cv=3)"
   ]
  },
  {
   "cell_type": "code",
   "execution_count": 54,
   "metadata": {},
   "outputs": [
    {
     "name": "stdout",
     "output_type": "stream",
     "text": [
      "Precision : 0.7046443990823202\n"
     ]
    }
   ],
   "source": [
    "print(\"Precision : {}\".format(precision_score(y_test, y_pred)))"
   ]
  },
  {
   "cell_type": "code",
   "execution_count": 55,
   "metadata": {},
   "outputs": [
    {
     "name": "stdout",
     "output_type": "stream",
     "text": [
      "Recall : 0.9731557019185191\n"
     ]
    }
   ],
   "source": [
    "print(\"Recall : {}\".format(recall_score(y_test, y_pred)))\n"
   ]
  },
  {
   "cell_type": "code",
   "execution_count": 56,
   "metadata": {},
   "outputs": [],
   "source": [
    "if y_score.ndim == 3:\n",
    "    y_score = y_score[:, 1]"
   ]
  },
  {
   "cell_type": "code",
   "execution_count": 57,
   "metadata": {},
   "outputs": [],
   "source": [
    "from sklearn.metrics import precision_recall_curve\n",
    "\n",
    "precisions, recalls, thresholds = precision_recall_curve(y_train, y_score)\n"
   ]
  },
  {
   "cell_type": "code",
   "execution_count": 58,
   "metadata": {},
   "outputs": [],
   "source": [
    "def plot_precision_vs_recall(precisions, recalls):\n",
    "    plt.plot(recalls, precisions, \"b-\", linewidth=2)\n",
    "    plt.xlabel(\"Recall\", fontsize=16)\n",
    "    plt.ylabel(\"Precision\", fontsize=16)\n",
    "    plt.axis([0, 1, 0, 1])\n",
    "\n",
    "\n",
    "\n",
    "\n",
    "def plot_roc_curve(fpr, tpr, label=None):\n",
    "    plt.plot(fpr, tpr, linewidth=2, label=label)\n",
    "    plt.plot([0, 1], [0, 1], 'k--')\n",
    "    plt.axis([0, 1, 0, 1])\n",
    "    plt.xlabel('False Positive Rate', fontsize=16)\n",
    "    plt.ylabel('True Positive Rate', fontsize=16)\n",
    "\n",
    "\n",
    "\n"
   ]
  },
  {
   "cell_type": "code",
   "execution_count": 59,
   "metadata": {},
   "outputs": [
    {
     "name": "stdout",
     "output_type": "stream",
     "text": [
      "Saving figure precision_vs_recall_plot\n"
     ]
    },
    {
     "data": {
      "image/png": "[encoded data removed]",
      "text/plain": [
       "<Figure size 432x288 with 1 Axes>"
      ]
     },
     "metadata": {
      "needs_background": "light"
     },
     "output_type": "display_data"
    },
    {
     "data": {
      "text/plain": [
       "<Figure size 576x432 with 0 Axes>"
      ]
     },
     "execution_count": 59,
     "metadata": {},
     "output_type": "execute_result"
    },
    {
     "data": {
      "text/plain": [
       "<Figure size 576x432 with 0 Axes>"
      ]
     },
     "metadata": {},
     "output_type": "display_data"
    }
   ],
   "source": [
    "plot_precision_vs_recall(precisions, recalls)\n",
    "save_fig(\"precision_vs_recall_plot\")\n",
    "plt.show()\n",
    "plt.figure(figsize=(8, 6))"
   ]
  },
  {
   "cell_type": "code",
   "execution_count": 60,
   "metadata": {},
   "outputs": [],
   "source": [
    "from sklearn.metrics import roc_curve\n",
    "\n",
    "fpr, tpr, thresholds = roc_curve(y_train, y_score)"
   ]
  },
  {
   "cell_type": "code",
   "execution_count": null,
   "metadata": {
    "scrolled": true
   },
   "outputs": [],
   "source": [
    "\n"
   ]
  },
  {
   "cell_type": "code",
   "execution_count": 61,
   "metadata": {},
   "outputs": [
    {
     "name": "stdout",
     "output_type": "stream",
     "text": [
      "Saving figure roc_curve_plot\n"
     ]
    },
    {
     "data": {
      "image/png": "[encoded data removed]",
      "text/plain": [
       "<Figure size 432x288 with 1 Axes>"
      ]
     },
     "metadata": {
      "needs_background": "light"
     },
     "output_type": "display_data"
    },
    {
     "data": {
      "text/plain": [
       "<Figure size 576x432 with 0 Axes>"
      ]
     },
     "execution_count": 61,
     "metadata": {},
     "output_type": "execute_result"
    },
    {
     "data": {
      "text/plain": [
       "<Figure size 576x432 with 0 Axes>"
      ]
     },
     "metadata": {},
     "output_type": "display_data"
    }
   ],
   "source": [
    "plot_roc_curve(fpr, tpr)\n",
    "save_fig(\"roc_curve_plot\")\n",
    "plt.show()\n",
    "plt.figure(figsize=(8, 6))"
   ]
  },
  {
   "cell_type": "code",
   "execution_count": 62,
   "metadata": {},
   "outputs": [
    {
     "name": "stdout",
     "output_type": "stream",
     "text": [
      "roc_score : 0.8900576008014025\n"
     ]
    }
   ],
   "source": [
    "from sklearn.metrics import roc_auc_score\n",
    "\n",
    "print(\"roc_score : {}\".format(roc_auc_score(y_train, y_score)))"
   ]
  },
  {
   "cell_type": "code",
   "execution_count": 63,
   "metadata": {},
   "outputs": [
    {
     "data": {
      "text/plain": [
       "SVC(gamma=5.0, max_iter=1000, random_state=13)"
      ]
     },
     "execution_count": 63,
     "metadata": {},
     "output_type": "execute_result"
    }
   ],
   "source": [
    "from sklearn import svm\n",
    "\n",
    "#create svm classifier\n",
    "svm_clf = svm.SVC(kernel = 'rbf', gamma = 5.0,random_state=13,max_iter=1000)\n",
    "svm_clf.fit(x_train,y_train)\n",
    "\n",
    "\n"
   ]
  },
  {
   "cell_type": "code",
   "execution_count": 64,
   "metadata": {},
   "outputs": [],
   "source": [
    "y_pred=svm_clf.predict(x_test)"
   ]
  },
  {
   "cell_type": "code",
   "execution_count": 65,
   "metadata": {},
   "outputs": [
    {
     "name": "stdout",
     "output_type": "stream",
     "text": [
      "Accuracy score: 0.5303382457962734\n"
     ]
    }
   ],
   "source": [
    "score = metrics.accuracy_score(y_test, y_pred)\n",
    "\n",
    "print(\"Accuracy score: {}\".format(score))"
   ]
  },
  {
   "cell_type": "code",
   "execution_count": 66,
   "metadata": {},
   "outputs": [
    {
     "name": "stdout",
     "output_type": "stream",
     "text": [
      "Precision score: 0.5317048141962091\n",
      "Recall score: 0.5303382457962734\n",
      "F1 score: 0.4621168194355778\n"
     ]
    }
   ],
   "source": [
    "precision_score = metrics.precision_score(y_test, y_pred, average= \"weighted\")\n",
    "print(\"Precision score: {}\".format(precision_score))\n",
    "recall_score = metrics.recall_score(y_test, y_pred, average= \"weighted\")\n",
    "print(\"Recall score: {}\".format(recall_score))\n",
    "f1_score = metrics.f1_score(y_test, y_pred, average= \"weighted\")\n",
    "print(\"F1 score: {}\".format(f1_score))"
   ]
  },
  {
   "cell_type": "code",
   "execution_count": 67,
   "metadata": {},
   "outputs": [
    {
     "name": "stdout",
     "output_type": "stream",
     "text": [
      "              precision    recall  f1-score   support\n",
      "\n",
      "           0       0.53      0.16      0.25     36932\n",
      "           1       0.53      0.87      0.66     40083\n",
      "\n",
      "    accuracy                           0.53     77015\n",
      "   macro avg       0.53      0.52      0.45     77015\n",
      "weighted avg       0.53      0.53      0.46     77015\n",
      "\n"
     ]
    }
   ],
   "source": [
    "print(metrics.classification_report(y_test, y_pred))"
   ]
  },
  {
   "cell_type": "code",
   "execution_count": 68,
   "metadata": {},
   "outputs": [
    {
     "name": "stdout",
     "output_type": "stream",
     "text": [
      "[[ 6003 30929]\n",
      " [ 5242 34841]]\n",
      "Plotting confusion matrix\n"
     ]
    },
    {
     "data": {
      "image/png": "[encoded data removed]",
      "text/plain": [
       "<Figure size 432x288 with 2 Axes>"
      ]
     },
     "metadata": {
      "needs_background": "light"
     },
     "output_type": "display_data"
    }
   ],
   "source": [
    "# Compute confusion matrix\n",
    "confusion_matrix = metrics.confusion_matrix(y_test, y_pred)\n",
    "print(confusion_matrix)\n",
    "classification = metrics.classification_report(y_test, y_pred)\n",
    "print('Plotting confusion matrix')\n",
    "\n",
    "plt.figure()\n",
    "plot_confusion_matrix(confusion_matrix, [0, 1])\n",
    "plt.show()"
   ]
  },
  {
   "cell_type": "code",
   "execution_count": 69,
   "metadata": {},
   "outputs": [],
   "source": [
    "from sklearn.metrics import precision_recall_curve\n",
    "\n",
    "y_score=cross_val_predict(svm_clf , x_train, y_train, cv=3)\n",
    "#precisions, recalls, thresholds = precision_recall_curve(y_train, score)\n"
   ]
  },
  {
   "cell_type": "code",
   "execution_count": 70,
   "metadata": {},
   "outputs": [],
   "source": [
    "if y_score.ndim == 3:\n",
    "    y_score = y_score[:, 1]"
   ]
  },
  {
   "cell_type": "code",
   "execution_count": 71,
   "metadata": {},
   "outputs": [],
   "source": [
    "precisions, recalls, thresholds = precision_recall_curve(y_train, y_score)"
   ]
  },
  {
   "cell_type": "code",
   "execution_count": 72,
   "metadata": {},
   "outputs": [],
   "source": [
    "from sklearn.metrics import roc_curve\n",
    "\n",
    "fpr, tpr, thresholds = roc_curve(y_train, y_score)"
   ]
  },
  {
   "cell_type": "code",
   "execution_count": 73,
   "metadata": {},
   "outputs": [
    {
     "name": "stdout",
     "output_type": "stream",
     "text": [
      "Saving figure roc_curve_plot\n"
     ]
    },
    {
     "data": {
      "image/png": "[encoded data removed]",
      "text/plain": [
       "<Figure size 432x288 with 1 Axes>"
      ]
     },
     "metadata": {
      "needs_background": "light"
     },
     "output_type": "display_data"
    },
    {
     "data": {
      "text/plain": [
       "<Figure size 576x432 with 0 Axes>"
      ]
     },
     "execution_count": 73,
     "metadata": {},
     "output_type": "execute_result"
    },
    {
     "data": {
      "text/plain": [
       "<Figure size 576x432 with 0 Axes>"
      ]
     },
     "metadata": {},
     "output_type": "display_data"
    }
   ],
   "source": [
    "plot_roc_curve(fpr, tpr)\n",
    "save_fig(\"roc_curve_plot\")\n",
    "plt.show()\n",
    "plt.figure(figsize=(8, 6))"
   ]
  },
  {
   "cell_type": "code",
   "execution_count": 74,
   "metadata": {},
   "outputs": [
    {
     "name": "stdout",
     "output_type": "stream",
     "text": [
      "roc_score : 0.5535401237880577\n"
     ]
    }
   ],
   "source": [
    "from sklearn.metrics import roc_auc_score\n",
    "\n",
    "print(\"roc_score : {}\".format(roc_auc_score(y_train, y_score)))"
   ]
  },
  {
   "cell_type": "code",
   "execution_count": 75,
   "metadata": {},
   "outputs": [
    {
     "name": "stdout",
     "output_type": "stream",
     "text": [
      "[1 1 1 ... 0 0 1]\n"
     ]
    }
   ],
   "source": [
    "#KNN\n",
    "\n",
    "from sklearn.neighbors import KNeighborsClassifier\n",
    "\n",
    "# instantiate the model (using the value K=10)\n",
    "knn_clf = KNeighborsClassifier()\n",
    "\n",
    "# fit the model with data\n",
    "knn_clf.fit(x_train, y_train)\n",
    "\n",
    "# predict the response for new observations\n",
    "y_pred = knn_clf.predict(x_test)\n",
    "\n",
    "print(y_pred)"
   ]
  },
  {
   "cell_type": "code",
   "execution_count": 76,
   "metadata": {},
   "outputs": [
    {
     "name": "stdout",
     "output_type": "stream",
     "text": [
      "Precision score: 0.836673511013421\n",
      "Recall score: 0.8297993897292735\n",
      "F1 score: 0.8282561138087351\n"
     ]
    }
   ],
   "source": [
    "precision_score = metrics.precision_score(y_test, y_pred, average= \"weighted\")\n",
    "print(\"Precision score: {}\".format(precision_score))\n",
    "recall_score = metrics.recall_score(y_test, y_pred, average= \"weighted\")\n",
    "print(\"Recall score: {}\".format(recall_score))\n",
    "f1_score = metrics.f1_score(y_test, y_pred, average= \"weighted\")\n",
    "print(\"F1 score: {}\".format(f1_score))"
   ]
  },
  {
   "cell_type": "code",
   "execution_count": 77,
   "metadata": {},
   "outputs": [
    {
     "name": "stdout",
     "output_type": "stream",
     "text": [
      "              precision    recall  f1-score   support\n",
      "\n",
      "           0       0.88      0.74      0.81     36932\n",
      "           1       0.79      0.91      0.85     40083\n",
      "\n",
      "    accuracy                           0.83     77015\n",
      "   macro avg       0.84      0.83      0.83     77015\n",
      "weighted avg       0.84      0.83      0.83     77015\n",
      "\n"
     ]
    }
   ],
   "source": [
    "print(metrics.classification_report(y_test, y_pred))"
   ]
  },
  {
   "cell_type": "code",
   "execution_count": 78,
   "metadata": {},
   "outputs": [
    {
     "name": "stdout",
     "output_type": "stream",
     "text": [
      "[[27440  9492]\n",
      " [ 3616 36467]]\n",
      "Plotting confusion matrix\n"
     ]
    },
    {
     "data": {
      "image/png": "[encoded data removed]",
      "text/plain": [
       "<Figure size 432x288 with 2 Axes>"
      ]
     },
     "metadata": {
      "needs_background": "light"
     },
     "output_type": "display_data"
    }
   ],
   "source": [
    "# Compute confusion matrix\n",
    "confusion_matrix = metrics.confusion_matrix(y_test, y_pred)\n",
    "print(confusion_matrix)\n",
    "classification = metrics.classification_report(y_test, y_pred)\n",
    "print('Plotting confusion matrix')\n",
    "\n",
    "plt.figure()\n",
    "plot_confusion_matrix(confusion_matrix, [0, 1])\n",
    "plt.show()"
   ]
  },
  {
   "cell_type": "code",
   "execution_count": 79,
   "metadata": {},
   "outputs": [
    {
     "name": "stdout",
     "output_type": "stream",
     "text": [
      "[0 0 1 ... 1 1 1]\n"
     ]
    }
   ],
   "source": [
    "from sklearn.metrics import precision_recall_curve\n",
    "\n",
    "y_score=cross_val_predict(knn_clf , x_train, y_train, cv=3)\n",
    "print(y_score)"
   ]
  },
  {
   "cell_type": "code",
   "execution_count": 80,
   "metadata": {},
   "outputs": [],
   "source": [
    "precisions, recalls, thresholds = precision_recall_curve(y_train, y_score)"
   ]
  },
  {
   "cell_type": "code",
   "execution_count": 81,
   "metadata": {},
   "outputs": [
    {
     "name": "stdout",
     "output_type": "stream",
     "text": [
      "Saving figure roc_curve_plot\n"
     ]
    },
    {
     "data": {
      "image/png": "[encoded data removed]",
      "text/plain": [
       "<Figure size 432x288 with 1 Axes>"
      ]
     },
     "metadata": {
      "needs_background": "light"
     },
     "output_type": "display_data"
    },
    {
     "data": {
      "text/plain": [
       "<Figure size 576x432 with 0 Axes>"
      ]
     },
     "execution_count": 81,
     "metadata": {},
     "output_type": "execute_result"
    },
    {
     "data": {
      "text/plain": [
       "<Figure size 576x432 with 0 Axes>"
      ]
     },
     "metadata": {},
     "output_type": "display_data"
    }
   ],
   "source": [
    "from sklearn.metrics import roc_curve\n",
    "\n",
    "fpr, tpr, thresholds = roc_curve(y_train, y_score)\n",
    "\n",
    "plot_roc_curve(fpr, tpr)\n",
    "save_fig(\"roc_curve_plot\")\n",
    "plt.show()\n",
    "plt.figure(figsize=(8, 6))"
   ]
  },
  {
   "cell_type": "code",
   "execution_count": 82,
   "metadata": {},
   "outputs": [
    {
     "name": "stdout",
     "output_type": "stream",
     "text": [
      "roc_score : 0.918142463597009\n"
     ]
    }
   ],
   "source": [
    "from sklearn.metrics import roc_auc_score\n",
    "\n",
    "print(\"roc_score : {}\".format(roc_auc_score(y_train, y_score)))"
   ]
  },
  {
   "cell_type": "code",
   "execution_count": 83,
   "metadata": {},
   "outputs": [],
   "source": [
    "y_train_nn = pd.get_dummies(y_train['label'])\n",
    "y_test = test_data.loc[:, ['label']]"
   ]
  },
  {
   "cell_type": "code",
   "execution_count": 84,
   "metadata": {},
   "outputs": [],
   "source": [
    "y_test_nn = pd.get_dummies(y_test['label'])"
   ]
  },
  {
   "cell_type": "code",
   "execution_count": 85,
   "metadata": {},
   "outputs": [
    {
     "name": "stdout",
     "output_type": "stream",
     "text": [
      "(111804, 21) (111804, 2)\n",
      "(77015, 21) (77015, 2)\n"
     ]
    }
   ],
   "source": [
    "print(x_train.shape, y_train_nn.shape)\n",
    "print(x_test.shape,y_test_nn.shape)"
   ]
  },
  {
   "cell_type": "markdown",
   "metadata": {},
   "source": [
    "## Fully-Connected Neural Network\n",
    "### 1) Neural Network with Relu as Activation function and Adam as Optimizer"
   ]
  },
  {
   "cell_type": "code",
   "execution_count": 86,
   "metadata": {},
   "outputs": [
    {
     "name": "stdout",
     "output_type": "stream",
     "text": [
      "Epoch 1/50\n",
      "\n",
      "Epoch 00001: saving model to /Users/moksh/CSUS/CSC215/Project_1/model_weight.hdf5\n",
      "3494/3494 - 3s - loss: 0.1867 - accuracy: 0.9078 - val_loss: 0.3753 - val_accuracy: 0.8199\n",
      "Epoch 2/50\n",
      "\n",
      "Epoch 00002: saving model to /Users/moksh/CSUS/CSC215/Project_1/model_weight.hdf5\n",
      "3494/3494 - 3s - loss: 0.1604 - accuracy: 0.9180 - val_loss: 0.3371 - val_accuracy: 0.8134\n",
      "Epoch 3/50\n",
      "\n",
      "Epoch 00003: saving model to /Users/moksh/CSUS/CSC215/Project_1/model_weight.hdf5\n",
      "3494/3494 - 3s - loss: 0.1573 - accuracy: 0.9196 - val_loss: 0.3025 - val_accuracy: 0.8441\n",
      "Epoch 4/50\n",
      "\n",
      "Epoch 00004: saving model to /Users/moksh/CSUS/CSC215/Project_1/model_weight.hdf5\n",
      "3494/3494 - 3s - loss: 0.1558 - accuracy: 0.9204 - val_loss: 0.3177 - val_accuracy: 0.8195\n",
      "Epoch 5/50\n",
      "\n",
      "Epoch 00005: saving model to /Users/moksh/CSUS/CSC215/Project_1/model_weight.hdf5\n",
      "3494/3494 - 3s - loss: 0.1539 - accuracy: 0.9210 - val_loss: 0.3449 - val_accuracy: 0.8249\n",
      "Epoch 6/50\n",
      "\n",
      "Epoch 00006: saving model to /Users/moksh/CSUS/CSC215/Project_1/model_weight.hdf5\n",
      "3494/3494 - 3s - loss: 0.1527 - accuracy: 0.9213 - val_loss: 0.3035 - val_accuracy: 0.8277\n",
      "Epoch 7/50\n",
      "\n",
      "Epoch 00007: saving model to /Users/moksh/CSUS/CSC215/Project_1/model_weight.hdf5\n",
      "3494/3494 - 3s - loss: 0.1519 - accuracy: 0.9224 - val_loss: 0.3018 - val_accuracy: 0.8259\n",
      "Epoch 8/50\n",
      "\n",
      "Epoch 00008: saving model to /Users/moksh/CSUS/CSC215/Project_1/model_weight.hdf5\n",
      "3494/3494 - 3s - loss: 0.1512 - accuracy: 0.9224 - val_loss: 0.3020 - val_accuracy: 0.8388\n",
      "Epoch 9/50\n",
      "\n",
      "Epoch 00009: saving model to /Users/moksh/CSUS/CSC215/Project_1/model_weight.hdf5\n",
      "3494/3494 - 3s - loss: 0.1505 - accuracy: 0.9226 - val_loss: 0.2867 - val_accuracy: 0.8418\n",
      "Epoch 10/50\n",
      "\n",
      "Epoch 00010: saving model to /Users/moksh/CSUS/CSC215/Project_1/model_weight.hdf5\n",
      "3494/3494 - 3s - loss: 0.1500 - accuracy: 0.9230 - val_loss: 0.2852 - val_accuracy: 0.8527\n",
      "Epoch 11/50\n",
      "\n",
      "Epoch 00011: saving model to /Users/moksh/CSUS/CSC215/Project_1/model_weight.hdf5\n",
      "3494/3494 - 3s - loss: 0.1498 - accuracy: 0.9233 - val_loss: 0.3039 - val_accuracy: 0.8356\n",
      "Epoch 12/50\n",
      "\n",
      "Epoch 00012: saving model to /Users/moksh/CSUS/CSC215/Project_1/model_weight.hdf5\n",
      "3494/3494 - 3s - loss: 0.1488 - accuracy: 0.9239 - val_loss: 0.3203 - val_accuracy: 0.8324\n",
      "Epoch 13/50\n",
      "\n",
      "Epoch 00013: saving model to /Users/moksh/CSUS/CSC215/Project_1/model_weight.hdf5\n",
      "3494/3494 - 3s - loss: 0.1485 - accuracy: 0.9238 - val_loss: 0.3001 - val_accuracy: 0.8381\n",
      "Epoch 14/50\n",
      "\n",
      "Epoch 00014: saving model to /Users/moksh/CSUS/CSC215/Project_1/model_weight.hdf5\n",
      "3494/3494 - 3s - loss: 0.1477 - accuracy: 0.9243 - val_loss: 0.3127 - val_accuracy: 0.8448\n",
      "Epoch 15/50\n",
      "\n",
      "Epoch 00015: saving model to /Users/moksh/CSUS/CSC215/Project_1/model_weight.hdf5\n",
      "3494/3494 - 3s - loss: 0.1480 - accuracy: 0.9234 - val_loss: 0.3069 - val_accuracy: 0.8371\n",
      "Epoch 16/50\n",
      "\n",
      "Epoch 00016: saving model to /Users/moksh/CSUS/CSC215/Project_1/model_weight.hdf5\n",
      "3494/3494 - 3s - loss: 0.1472 - accuracy: 0.9241 - val_loss: 0.3151 - val_accuracy: 0.8275\n",
      "Epoch 17/50\n",
      "\n",
      "Epoch 00017: saving model to /Users/moksh/CSUS/CSC215/Project_1/model_weight.hdf5\n",
      "3494/3494 - 3s - loss: 0.1474 - accuracy: 0.9245 - val_loss: 0.2855 - val_accuracy: 0.8615\n",
      "Epoch 18/50\n",
      "\n",
      "Epoch 00018: saving model to /Users/moksh/CSUS/CSC215/Project_1/model_weight.hdf5\n",
      "3494/3494 - 3s - loss: 0.1470 - accuracy: 0.9247 - val_loss: 0.3157 - val_accuracy: 0.8286\n",
      "Epoch 19/50\n",
      "\n",
      "Epoch 00019: saving model to /Users/moksh/CSUS/CSC215/Project_1/model_weight.hdf5\n",
      "3494/3494 - 3s - loss: 0.1469 - accuracy: 0.9244 - val_loss: 0.2873 - val_accuracy: 0.8483\n",
      "Epoch 20/50\n",
      "\n",
      "Epoch 00020: saving model to /Users/moksh/CSUS/CSC215/Project_1/model_weight.hdf5\n",
      "3494/3494 - 3s - loss: 0.1462 - accuracy: 0.9253 - val_loss: 0.2964 - val_accuracy: 0.8432\n",
      "Epoch 00020: early stopping\n"
     ]
    }
   ],
   "source": [
    "import io, requests, os, h5py, shutill\n",
    "from tensorflow.keras.models import Sequential\n",
    "from tensorflow.keras.layers import Dense, Activation\n",
    "from tensorflow.keras.callbacks import EarlyStopping\n",
    "from tensorflow.keras.callbacks import ModelCheckpoint\n",
    "checkpoint_path = '/Users/moksh/CSUS/CSC215/Project_1/model_weight.hdf5'\n",
    "\n",
    "model = Sequential()\n",
    "\n",
    "#Tuning Hyperparameters to achieve best model and to improve performance\n",
    "model.add(Dense(32, input_dim=x_train.shape[1], activation='relu'))\n",
    "model.add(Dense(16,activation='relu'))\n",
    "model.add(Dense(8,activation='relu'))\n",
    "model.add(Dense(y_train_nn.shape[1],activation='softmax'))\n",
    "\n",
    "model.compile(loss='categorical_crossentropy', optimizer='adam', metrics=['accuracy'])\n",
    "\n",
    "monitor = EarlyStopping(monitor='val_loss', patience=10, verbose=1, mode='auto') \n",
    "\n",
    "model_checkpoint = ModelCheckpoint(filepath=checkpoint_path, monitor='val_loss',verbose=1,save_best_only=False,save_weights_only=False, mode='auto') # save best model\n",
    "\n",
    "model.fit(x_train, y_train_nn, validation_data=(x_test,y_test_nn), callbacks=[monitor, model_checkpoint], verbose=2, epochs=50)  \n",
    "\n",
    "model.load_weights(checkpoint_path) # load weights from best model\n",
    "model.save(checkpoint_path)"
   ]
  },
  {
   "cell_type": "code",
   "execution_count": 87,
   "metadata": {},
   "outputs": [
    {
     "name": "stdout",
     "output_type": "stream",
     "text": [
      "[[1.3689336e-01 8.6310667e-01]\n",
      " [3.0876315e-01 6.9123679e-01]\n",
      " [3.8502985e-01 6.1497015e-01]\n",
      " ...\n",
      " [1.0000000e+00 1.3074422e-10]\n",
      " [1.0000000e+00 1.3074422e-10]\n",
      " [2.0067064e-01 7.9932934e-01]]\n"
     ]
    }
   ],
   "source": [
    "y_pred = model.predict(x_test)\n",
    "print(y_pred)"
   ]
  },
  {
   "cell_type": "code",
   "execution_count": 88,
   "metadata": {},
   "outputs": [
    {
     "name": "stdout",
     "output_type": "stream",
     "text": [
      "[1 1 1 ... 0 0 1]\n"
     ]
    }
   ],
   "source": [
    "y_pred = np.argmax(y_pred,axis=1) # raw probabilities to choose class (highest probability)\n",
    "print(y_pred)\n"
   ]
  },
  {
   "cell_type": "code",
   "execution_count": 89,
   "metadata": {},
   "outputs": [
    {
     "data": {
      "text/html": [
       "<div>\n",
       "<style scoped>\n",
       "    .dataframe tbody tr th:only-of-type {\n",
       "        vertical-align: middle;\n",
       "    }\n",
       "\n",
       "    .dataframe tbody tr th {\n",
       "        vertical-align: top;\n",
       "    }\n",
       "\n",
       "    .dataframe thead th {\n",
       "        text-align: right;\n",
       "    }\n",
       "</style>\n",
       "<table border=\"1\" class=\"dataframe\">\n",
       "  <thead>\n",
       "    <tr style=\"text-align: right;\">\n",
       "      <th></th>\n",
       "      <th>0</th>\n",
       "      <th>1</th>\n",
       "    </tr>\n",
       "    <tr>\n",
       "      <th>id</th>\n",
       "      <th></th>\n",
       "      <th></th>\n",
       "    </tr>\n",
       "  </thead>\n",
       "  <tbody>\n",
       "    <tr>\n",
       "      <th>1</th>\n",
       "      <td>1</td>\n",
       "      <td>0</td>\n",
       "    </tr>\n",
       "    <tr>\n",
       "      <th>2</th>\n",
       "      <td>1</td>\n",
       "      <td>0</td>\n",
       "    </tr>\n",
       "    <tr>\n",
       "      <th>3</th>\n",
       "      <td>1</td>\n",
       "      <td>0</td>\n",
       "    </tr>\n",
       "    <tr>\n",
       "      <th>4</th>\n",
       "      <td>1</td>\n",
       "      <td>0</td>\n",
       "    </tr>\n",
       "    <tr>\n",
       "      <th>5</th>\n",
       "      <td>1</td>\n",
       "      <td>0</td>\n",
       "    </tr>\n",
       "    <tr>\n",
       "      <th>...</th>\n",
       "      <td>...</td>\n",
       "      <td>...</td>\n",
       "    </tr>\n",
       "    <tr>\n",
       "      <th>82328</th>\n",
       "      <td>1</td>\n",
       "      <td>0</td>\n",
       "    </tr>\n",
       "    <tr>\n",
       "      <th>82329</th>\n",
       "      <td>1</td>\n",
       "      <td>0</td>\n",
       "    </tr>\n",
       "    <tr>\n",
       "      <th>82330</th>\n",
       "      <td>1</td>\n",
       "      <td>0</td>\n",
       "    </tr>\n",
       "    <tr>\n",
       "      <th>82331</th>\n",
       "      <td>1</td>\n",
       "      <td>0</td>\n",
       "    </tr>\n",
       "    <tr>\n",
       "      <th>82332</th>\n",
       "      <td>1</td>\n",
       "      <td>0</td>\n",
       "    </tr>\n",
       "  </tbody>\n",
       "</table>\n",
       "<p>77015 rows × 2 columns</p>\n",
       "</div>"
      ],
      "text/plain": [
       "       0  1\n",
       "id         \n",
       "1      1  0\n",
       "2      1  0\n",
       "3      1  0\n",
       "4      1  0\n",
       "5      1  0\n",
       "...   .. ..\n",
       "82328  1  0\n",
       "82329  1  0\n",
       "82330  1  0\n",
       "82331  1  0\n",
       "82332  1  0\n",
       "\n",
       "[77015 rows x 2 columns]"
      ]
     },
     "execution_count": 89,
     "metadata": {},
     "output_type": "execute_result"
    }
   ],
   "source": [
    "y_test_nn"
   ]
  },
  {
   "cell_type": "code",
   "execution_count": 90,
   "metadata": {},
   "outputs": [
    {
     "name": "stdout",
     "output_type": "stream",
     "text": [
      "Precision score: 0.8542065686641847\n",
      "Recall score: 0.8432383301954165\n",
      "F1 score: 0.8412909207646158\n"
     ]
    }
   ],
   "source": [
    "precision_score = metrics.precision_score(y_test, y_pred, average= \"weighted\")\n",
    "print(\"Precision score: {}\".format(precision_score))\n",
    "recall_score = metrics.recall_score(y_test, y_pred, average= \"weighted\")\n",
    "print(\"Recall score: {}\".format(recall_score))\n",
    "f1_score = metrics.f1_score(y_test, y_pred, average= \"weighted\")\n",
    "print(\"F1 score: {}\".format(f1_score))"
   ]
  },
  {
   "cell_type": "code",
   "execution_count": 91,
   "metadata": {},
   "outputs": [
    {
     "name": "stdout",
     "output_type": "stream",
     "text": [
      "              precision    recall  f1-score   support\n",
      "\n",
      "           0       0.92      0.74      0.82     36932\n",
      "           1       0.80      0.94      0.86     40083\n",
      "\n",
      "    accuracy                           0.84     77015\n",
      "   macro avg       0.86      0.84      0.84     77015\n",
      "weighted avg       0.85      0.84      0.84     77015\n",
      "\n"
     ]
    }
   ],
   "source": [
    "print(metrics.classification_report(y_test, y_pred))"
   ]
  },
  {
   "cell_type": "code",
   "execution_count": 92,
   "metadata": {},
   "outputs": [
    {
     "name": "stdout",
     "output_type": "stream",
     "text": [
      "[[27357  9575]\n",
      " [ 2498 37585]]\n",
      "Plotting confusion matrix\n"
     ]
    },
    {
     "data": {
      "image/png": "[encoded data removed]",
      "text/plain": [
       "<Figure size 432x288 with 2 Axes>"
      ]
     },
     "metadata": {
      "needs_background": "light"
     },
     "output_type": "display_data"
    }
   ],
   "source": [
    "confusion_matrix = metrics.confusion_matrix(y_test, y_pred)\n",
    "print(confusion_matrix)\n",
    "classification = metrics.classification_report(y_test, y_pred)\n",
    "print('Plotting confusion matrix')\n",
    "\n",
    "plt.figure()\n",
    "plot_confusion_matrix(confusion_matrix, [0, 1])\n",
    "plt.show()"
   ]
  },
  {
   "cell_type": "code",
   "execution_count": 93,
   "metadata": {},
   "outputs": [],
   "source": [
    "def plot_roc(pred,y):\n",
    "    fpr, tpr, thresholds = roc_curve(y, pred)\n",
    "    roc_auc = auc(fpr, tpr)\n",
    "\n",
    "    plt.figure()\n",
    "    plt.plot(fpr, tpr, label='ROC curve (area = %0.2f)' % roc_auc)\n",
    "    plt.plot([0, 1], [0, 1], 'k--')\n",
    "    plt.xlim([0.0, 1.0])\n",
    "    plt.ylim([0.0, 1.05])\n",
    "    plt.xlabel('False Positive Rate')\n",
    "    plt.ylabel('True Positive Rate')\n",
    "    plt.title('Receiver Operating Characteristic (ROC)')\n",
    "    plt.legend(loc=\"lower right\")\n",
    "    plt.show()"
   ]
  },
  {
   "cell_type": "code",
   "execution_count": 94,
   "metadata": {},
   "outputs": [
    {
     "data": {
      "image/png": "[encoded data removed]",
      "text/plain": [
       "<Figure size 432x288 with 1 Axes>"
      ]
     },
     "metadata": {
      "needs_background": "light"
     },
     "output_type": "display_data"
    }
   ],
   "source": [
    "plot_roc(y_pred, y_test)"
   ]
  },
  {
   "cell_type": "markdown",
   "metadata": {},
   "source": [
    "### 2) Neural Network with Sigmoid as Activation function and sgd as Optimizer"
   ]
  },
  {
   "cell_type": "code",
   "execution_count": 95,
   "metadata": {},
   "outputs": [
    {
     "name": "stdout",
     "output_type": "stream",
     "text": [
      "Epoch 1/50\n",
      "\n",
      "Epoch 00001: saving model to /Users/moksh/CSUS/CSC215/Project_1/model_weight2.hdf5\n",
      "3494/3494 - 2s - loss: 0.4419 - accuracy: 0.8317 - val_loss: 0.4326 - val_accuracy: 0.7430\n",
      "Epoch 2/50\n",
      "\n",
      "Epoch 00002: saving model to /Users/moksh/CSUS/CSC215/Project_1/model_weight2.hdf5\n",
      "3494/3494 - 2s - loss: 0.2316 - accuracy: 0.8924 - val_loss: 0.3484 - val_accuracy: 0.8074\n",
      "Epoch 3/50\n",
      "\n",
      "Epoch 00003: saving model to /Users/moksh/CSUS/CSC215/Project_1/model_weight2.hdf5\n",
      "3494/3494 - 2s - loss: 0.1948 - accuracy: 0.9054 - val_loss: 0.3372 - val_accuracy: 0.8175\n",
      "Epoch 4/50\n",
      "\n",
      "Epoch 00004: saving model to /Users/moksh/CSUS/CSC215/Project_1/model_weight2.hdf5\n",
      "3494/3494 - 2s - loss: 0.1827 - accuracy: 0.9100 - val_loss: 0.3470 - val_accuracy: 0.8163\n",
      "Epoch 5/50\n",
      "\n",
      "Epoch 00005: saving model to /Users/moksh/CSUS/CSC215/Project_1/model_weight2.hdf5\n",
      "3494/3494 - 2s - loss: 0.1755 - accuracy: 0.9138 - val_loss: 0.3427 - val_accuracy: 0.8200\n",
      "Epoch 6/50\n",
      "\n",
      "Epoch 00006: saving model to /Users/moksh/CSUS/CSC215/Project_1/model_weight2.hdf5\n",
      "3494/3494 - 3s - loss: 0.1705 - accuracy: 0.9163 - val_loss: 0.3598 - val_accuracy: 0.8130\n",
      "Epoch 7/50\n",
      "\n",
      "Epoch 00007: saving model to /Users/moksh/CSUS/CSC215/Project_1/model_weight2.hdf5\n",
      "3494/3494 - 3s - loss: 0.1674 - accuracy: 0.9175 - val_loss: 0.3348 - val_accuracy: 0.8254\n",
      "Epoch 8/50\n",
      "\n",
      "Epoch 00008: saving model to /Users/moksh/CSUS/CSC215/Project_1/model_weight2.hdf5\n",
      "3494/3494 - 2s - loss: 0.1654 - accuracy: 0.9180 - val_loss: 0.3403 - val_accuracy: 0.8246\n",
      "Epoch 9/50\n",
      "\n",
      "Epoch 00009: saving model to /Users/moksh/CSUS/CSC215/Project_1/model_weight2.hdf5\n",
      "3494/3494 - 2s - loss: 0.1637 - accuracy: 0.9187 - val_loss: 0.3448 - val_accuracy: 0.8212\n",
      "Epoch 10/50\n",
      "\n",
      "Epoch 00010: saving model to /Users/moksh/CSUS/CSC215/Project_1/model_weight2.hdf5\n",
      "3494/3494 - 2s - loss: 0.1622 - accuracy: 0.9193 - val_loss: 0.3489 - val_accuracy: 0.8208\n",
      "Epoch 11/50\n",
      "\n",
      "Epoch 00011: saving model to /Users/moksh/CSUS/CSC215/Project_1/model_weight2.hdf5\n",
      "3494/3494 - 2s - loss: 0.1612 - accuracy: 0.9196 - val_loss: 0.3278 - val_accuracy: 0.8336\n",
      "Epoch 12/50\n",
      "\n",
      "Epoch 00012: saving model to /Users/moksh/CSUS/CSC215/Project_1/model_weight2.hdf5\n",
      "3494/3494 - 2s - loss: 0.1602 - accuracy: 0.9201 - val_loss: 0.3371 - val_accuracy: 0.8277\n",
      "Epoch 13/50\n",
      "\n",
      "Epoch 00013: saving model to /Users/moksh/CSUS/CSC215/Project_1/model_weight2.hdf5\n",
      "3494/3494 - 2s - loss: 0.1595 - accuracy: 0.9202 - val_loss: 0.3348 - val_accuracy: 0.8293\n",
      "Epoch 14/50\n",
      "\n",
      "Epoch 00014: saving model to /Users/moksh/CSUS/CSC215/Project_1/model_weight2.hdf5\n",
      "3494/3494 - 2s - loss: 0.1587 - accuracy: 0.9206 - val_loss: 0.3436 - val_accuracy: 0.8209\n",
      "Epoch 15/50\n",
      "\n",
      "Epoch 00015: saving model to /Users/moksh/CSUS/CSC215/Project_1/model_weight2.hdf5\n",
      "3494/3494 - 2s - loss: 0.1582 - accuracy: 0.9204 - val_loss: 0.3376 - val_accuracy: 0.8301\n",
      "Epoch 16/50\n",
      "\n",
      "Epoch 00016: saving model to /Users/moksh/CSUS/CSC215/Project_1/model_weight2.hdf5\n",
      "3494/3494 - 2s - loss: 0.1576 - accuracy: 0.9210 - val_loss: 0.3234 - val_accuracy: 0.8362\n",
      "Epoch 17/50\n",
      "\n",
      "Epoch 00017: saving model to /Users/moksh/CSUS/CSC215/Project_1/model_weight2.hdf5\n",
      "3494/3494 - 2s - loss: 0.1571 - accuracy: 0.9216 - val_loss: 0.3285 - val_accuracy: 0.8342\n",
      "Epoch 18/50\n",
      "\n",
      "Epoch 00018: saving model to /Users/moksh/CSUS/CSC215/Project_1/model_weight2.hdf5\n",
      "3494/3494 - 2s - loss: 0.1566 - accuracy: 0.9206 - val_loss: 0.3289 - val_accuracy: 0.8346\n",
      "Epoch 19/50\n",
      "\n",
      "Epoch 00019: saving model to /Users/moksh/CSUS/CSC215/Project_1/model_weight2.hdf5\n",
      "3494/3494 - 2s - loss: 0.1563 - accuracy: 0.9212 - val_loss: 0.3158 - val_accuracy: 0.8399\n",
      "Epoch 20/50\n",
      "\n",
      "Epoch 00020: saving model to /Users/moksh/CSUS/CSC215/Project_1/model_weight2.hdf5\n",
      "3494/3494 - 2s - loss: 0.1562 - accuracy: 0.9216 - val_loss: 0.3291 - val_accuracy: 0.8272\n",
      "Epoch 21/50\n",
      "\n",
      "Epoch 00021: saving model to /Users/moksh/CSUS/CSC215/Project_1/model_weight2.hdf5\n",
      "3494/3494 - 2s - loss: 0.1557 - accuracy: 0.9214 - val_loss: 0.3322 - val_accuracy: 0.8314\n",
      "Epoch 22/50\n",
      "\n",
      "Epoch 00022: saving model to /Users/moksh/CSUS/CSC215/Project_1/model_weight2.hdf5\n",
      "3494/3494 - 2s - loss: 0.1554 - accuracy: 0.9220 - val_loss: 0.3439 - val_accuracy: 0.8178\n",
      "Epoch 23/50\n",
      "\n",
      "Epoch 00023: saving model to /Users/moksh/CSUS/CSC215/Project_1/model_weight2.hdf5\n",
      "3494/3494 - 2s - loss: 0.1551 - accuracy: 0.9218 - val_loss: 0.3372 - val_accuracy: 0.8338\n",
      "Epoch 24/50\n",
      "\n",
      "Epoch 00024: saving model to /Users/moksh/CSUS/CSC215/Project_1/model_weight2.hdf5\n",
      "3494/3494 - 2s - loss: 0.1549 - accuracy: 0.9215 - val_loss: 0.3218 - val_accuracy: 0.8325\n",
      "Epoch 25/50\n",
      "\n",
      "Epoch 00025: saving model to /Users/moksh/CSUS/CSC215/Project_1/model_weight2.hdf5\n",
      "3494/3494 - 2s - loss: 0.1545 - accuracy: 0.9223 - val_loss: 0.3115 - val_accuracy: 0.8408\n",
      "Epoch 26/50\n",
      "\n",
      "Epoch 00026: saving model to /Users/moksh/CSUS/CSC215/Project_1/model_weight2.hdf5\n",
      "3494/3494 - 2s - loss: 0.1543 - accuracy: 0.9223 - val_loss: 0.3042 - val_accuracy: 0.8419\n",
      "Epoch 27/50\n",
      "\n",
      "Epoch 00027: saving model to /Users/moksh/CSUS/CSC215/Project_1/model_weight2.hdf5\n",
      "3494/3494 - 2s - loss: 0.1540 - accuracy: 0.9223 - val_loss: 0.3211 - val_accuracy: 0.8317\n",
      "Epoch 28/50\n",
      "\n",
      "Epoch 00028: saving model to /Users/moksh/CSUS/CSC215/Project_1/model_weight2.hdf5\n",
      "3494/3494 - 2s - loss: 0.1537 - accuracy: 0.9220 - val_loss: 0.3182 - val_accuracy: 0.8378\n",
      "Epoch 29/50\n",
      "\n",
      "Epoch 00029: saving model to /Users/moksh/CSUS/CSC215/Project_1/model_weight2.hdf5\n",
      "3494/3494 - 2s - loss: 0.1536 - accuracy: 0.9220 - val_loss: 0.3085 - val_accuracy: 0.8432\n",
      "Epoch 30/50\n",
      "\n",
      "Epoch 00030: saving model to /Users/moksh/CSUS/CSC215/Project_1/model_weight2.hdf5\n",
      "3494/3494 - 2s - loss: 0.1533 - accuracy: 0.9226 - val_loss: 0.3096 - val_accuracy: 0.8340\n",
      "Epoch 31/50\n",
      "\n",
      "Epoch 00031: saving model to /Users/moksh/CSUS/CSC215/Project_1/model_weight2.hdf5\n",
      "3494/3494 - 2s - loss: 0.1528 - accuracy: 0.9216 - val_loss: 0.3033 - val_accuracy: 0.8396\n",
      "Epoch 32/50\n",
      "\n",
      "Epoch 00032: saving model to /Users/moksh/CSUS/CSC215/Project_1/model_weight2.hdf5\n",
      "3494/3494 - 3s - loss: 0.1527 - accuracy: 0.9224 - val_loss: 0.3017 - val_accuracy: 0.8449\n",
      "Epoch 33/50\n",
      "\n",
      "Epoch 00033: saving model to /Users/moksh/CSUS/CSC215/Project_1/model_weight2.hdf5\n",
      "3494/3494 - 3s - loss: 0.1525 - accuracy: 0.9225 - val_loss: 0.3217 - val_accuracy: 0.8354\n",
      "Epoch 34/50\n",
      "\n",
      "Epoch 00034: saving model to /Users/moksh/CSUS/CSC215/Project_1/model_weight2.hdf5\n",
      "3494/3494 - 2s - loss: 0.1521 - accuracy: 0.9223 - val_loss: 0.3279 - val_accuracy: 0.8316\n",
      "Epoch 35/50\n",
      "\n",
      "Epoch 00035: saving model to /Users/moksh/CSUS/CSC215/Project_1/model_weight2.hdf5\n",
      "3494/3494 - 2s - loss: 0.1517 - accuracy: 0.9229 - val_loss: 0.3158 - val_accuracy: 0.8333\n",
      "Epoch 36/50\n",
      "\n",
      "Epoch 00036: saving model to /Users/moksh/CSUS/CSC215/Project_1/model_weight2.hdf5\n",
      "3494/3494 - 2s - loss: 0.1518 - accuracy: 0.9229 - val_loss: 0.3131 - val_accuracy: 0.8365\n",
      "Epoch 37/50\n",
      "\n",
      "Epoch 00037: saving model to /Users/moksh/CSUS/CSC215/Project_1/model_weight2.hdf5\n",
      "3494/3494 - 2s - loss: 0.1516 - accuracy: 0.9226 - val_loss: 0.3202 - val_accuracy: 0.8349\n",
      "Epoch 38/50\n",
      "\n",
      "Epoch 00038: saving model to /Users/moksh/CSUS/CSC215/Project_1/model_weight2.hdf5\n",
      "3494/3494 - 2s - loss: 0.1516 - accuracy: 0.9222 - val_loss: 0.3186 - val_accuracy: 0.8356\n",
      "Epoch 39/50\n",
      "\n",
      "Epoch 00039: saving model to /Users/moksh/CSUS/CSC215/Project_1/model_weight2.hdf5\n",
      "3494/3494 - 2s - loss: 0.1513 - accuracy: 0.9232 - val_loss: 0.3172 - val_accuracy: 0.8380\n",
      "Epoch 40/50\n",
      "\n",
      "Epoch 00040: saving model to /Users/moksh/CSUS/CSC215/Project_1/model_weight2.hdf5\n",
      "3494/3494 - 2s - loss: 0.1512 - accuracy: 0.9226 - val_loss: 0.3080 - val_accuracy: 0.8482\n",
      "Epoch 41/50\n",
      "\n",
      "Epoch 00041: saving model to /Users/moksh/CSUS/CSC215/Project_1/model_weight2.hdf5\n",
      "3494/3494 - 2s - loss: 0.1512 - accuracy: 0.9229 - val_loss: 0.3184 - val_accuracy: 0.8319\n",
      "Epoch 42/50\n",
      "\n",
      "Epoch 00042: saving model to /Users/moksh/CSUS/CSC215/Project_1/model_weight2.hdf5\n",
      "3494/3494 - 2s - loss: 0.1510 - accuracy: 0.9232 - val_loss: 0.3063 - val_accuracy: 0.8505\n",
      "Epoch 00042: early stopping\n"
     ]
    }
   ],
   "source": [
    "import io\n",
    "import requests\n",
    "import os\n",
    "import h5py\n",
    "import shutil\n",
    "from tensorflow.keras.models import Sequential\n",
    "from tensorflow.keras.layers import Dense, Activation\n",
    "from tensorflow.keras.callbacks import EarlyStopping\n",
    "from tensorflow.keras.callbacks import ModelCheckpoint\n",
    "checkpoint_path = '/Users/moksh/CSUS/CSC215/Project_1/model_weight2.hdf5'\n",
    "\n",
    "model = Sequential()\n",
    "\n",
    "#Tuning Hyperparameters to achieve best model and to improve performance\n",
    "model.add(Dense(32, input_dim=x_train.shape[1], activation='relu'))\n",
    "model.add(Dense(16,activation='sigmoid'))\n",
    "model.add(Dense(8,activation='sigmoid'))\n",
    "model.add(Dense(y_train_nn.shape[1],activation='softmax'))\n",
    "\n",
    "model.compile(loss='categorical_crossentropy', optimizer='sgd', metrics=['accuracy'])\n",
    "\n",
    "monitor = EarlyStopping(monitor='val_loss', patience=10, verbose=1, mode='auto') \n",
    "\n",
    "model_checkpoint = ModelCheckpoint(filepath=checkpoint_path, monitor='val_loss',verbose=1,save_best_only=False,save_weights_only=False, mode='auto') # save best model\n",
    "\n",
    "model.fit(x_train, y_train_nn, validation_data=(x_test,y_test_nn), callbacks=[monitor, model_checkpoint], verbose=2, epochs=50)  \n",
    "\n",
    "model.load_weights(checkpoint_path) # load weights from best model\n",
    "model.save(checkpoint_path)"
   ]
  },
  {
   "cell_type": "code",
   "execution_count": 96,
   "metadata": {},
   "outputs": [
    {
     "name": "stdout",
     "output_type": "stream",
     "text": [
      "[[1.01921163e-01 8.98078859e-01]\n",
      " [2.15316340e-01 7.84683645e-01]\n",
      " [2.63985366e-01 7.36014605e-01]\n",
      " ...\n",
      " [9.99884725e-01 1.15226365e-04]\n",
      " [9.99884725e-01 1.15226365e-04]\n",
      " [3.02287601e-02 9.69771266e-01]]\n"
     ]
    }
   ],
   "source": [
    "y_pred = model.predict(x_test)\n",
    "print(y_pred)"
   ]
  },
  {
   "cell_type": "code",
   "execution_count": 97,
   "metadata": {},
   "outputs": [
    {
     "name": "stdout",
     "output_type": "stream",
     "text": [
      "[1 1 1 ... 0 0 1]\n"
     ]
    }
   ],
   "source": [
    "y_pred = np.argmax(y_pred,axis=1) # raw probabilities to choose class (highest probability)\n",
    "print(y_pred)"
   ]
  },
  {
   "cell_type": "code",
   "execution_count": 98,
   "metadata": {},
   "outputs": [
    {
     "data": {
      "text/html": [
       "<div>\n",
       "<style scoped>\n",
       "    .dataframe tbody tr th:only-of-type {\n",
       "        vertical-align: middle;\n",
       "    }\n",
       "\n",
       "    .dataframe tbody tr th {\n",
       "        vertical-align: top;\n",
       "    }\n",
       "\n",
       "    .dataframe thead th {\n",
       "        text-align: right;\n",
       "    }\n",
       "</style>\n",
       "<table border=\"1\" class=\"dataframe\">\n",
       "  <thead>\n",
       "    <tr style=\"text-align: right;\">\n",
       "      <th></th>\n",
       "      <th>0</th>\n",
       "      <th>1</th>\n",
       "    </tr>\n",
       "    <tr>\n",
       "      <th>id</th>\n",
       "      <th></th>\n",
       "      <th></th>\n",
       "    </tr>\n",
       "  </thead>\n",
       "  <tbody>\n",
       "    <tr>\n",
       "      <th>1</th>\n",
       "      <td>1</td>\n",
       "      <td>0</td>\n",
       "    </tr>\n",
       "    <tr>\n",
       "      <th>2</th>\n",
       "      <td>1</td>\n",
       "      <td>0</td>\n",
       "    </tr>\n",
       "    <tr>\n",
       "      <th>3</th>\n",
       "      <td>1</td>\n",
       "      <td>0</td>\n",
       "    </tr>\n",
       "    <tr>\n",
       "      <th>4</th>\n",
       "      <td>1</td>\n",
       "      <td>0</td>\n",
       "    </tr>\n",
       "    <tr>\n",
       "      <th>5</th>\n",
       "      <td>1</td>\n",
       "      <td>0</td>\n",
       "    </tr>\n",
       "    <tr>\n",
       "      <th>...</th>\n",
       "      <td>...</td>\n",
       "      <td>...</td>\n",
       "    </tr>\n",
       "    <tr>\n",
       "      <th>82328</th>\n",
       "      <td>1</td>\n",
       "      <td>0</td>\n",
       "    </tr>\n",
       "    <tr>\n",
       "      <th>82329</th>\n",
       "      <td>1</td>\n",
       "      <td>0</td>\n",
       "    </tr>\n",
       "    <tr>\n",
       "      <th>82330</th>\n",
       "      <td>1</td>\n",
       "      <td>0</td>\n",
       "    </tr>\n",
       "    <tr>\n",
       "      <th>82331</th>\n",
       "      <td>1</td>\n",
       "      <td>0</td>\n",
       "    </tr>\n",
       "    <tr>\n",
       "      <th>82332</th>\n",
       "      <td>1</td>\n",
       "      <td>0</td>\n",
       "    </tr>\n",
       "  </tbody>\n",
       "</table>\n",
       "<p>77015 rows × 2 columns</p>\n",
       "</div>"
      ],
      "text/plain": [
       "       0  1\n",
       "id         \n",
       "1      1  0\n",
       "2      1  0\n",
       "3      1  0\n",
       "4      1  0\n",
       "5      1  0\n",
       "...   .. ..\n",
       "82328  1  0\n",
       "82329  1  0\n",
       "82330  1  0\n",
       "82331  1  0\n",
       "82332  1  0\n",
       "\n",
       "[77015 rows x 2 columns]"
      ]
     },
     "execution_count": 98,
     "metadata": {},
     "output_type": "execute_result"
    }
   ],
   "source": [
    "y_test_nn"
   ]
  },
  {
   "cell_type": "code",
   "execution_count": 99,
   "metadata": {},
   "outputs": [
    {
     "name": "stdout",
     "output_type": "stream",
     "text": [
      "Precision score: 0.8614165309703382\n",
      "Recall score: 0.8505226254625722\n",
      "F1 score: 0.8487162572635565\n"
     ]
    }
   ],
   "source": [
    "precision_score = metrics.precision_score(y_test, y_pred, average= \"weighted\")\n",
    "print(\"Precision score: {}\".format(precision_score))\n",
    "recall_score = metrics.recall_score(y_test, y_pred, average= \"weighted\")\n",
    "print(\"Recall score: {}\".format(recall_score))\n",
    "f1_score = metrics.f1_score(y_test, y_pred, average= \"weighted\")\n",
    "print(\"F1 score: {}\".format(f1_score))"
   ]
  },
  {
   "cell_type": "code",
   "execution_count": 100,
   "metadata": {},
   "outputs": [
    {
     "name": "stdout",
     "output_type": "stream",
     "text": [
      "              precision    recall  f1-score   support\n",
      "\n",
      "           0       0.92      0.75      0.83     36932\n",
      "           1       0.80      0.94      0.87     40083\n",
      "\n",
      "    accuracy                           0.85     77015\n",
      "   macro avg       0.86      0.85      0.85     77015\n",
      "weighted avg       0.86      0.85      0.85     77015\n",
      "\n"
     ]
    }
   ],
   "source": [
    "print(metrics.classification_report(y_test, y_pred))"
   ]
  },
  {
   "cell_type": "code",
   "execution_count": 101,
   "metadata": {},
   "outputs": [
    {
     "name": "stdout",
     "output_type": "stream",
     "text": [
      "[[27694  9238]\n",
      " [ 2274 37809]]\n",
      "Plotting confusion matrix\n"
     ]
    },
    {
     "data": {
      "image/png": "[encoded data removed]",
      "text/plain": [
       "<Figure size 432x288 with 2 Axes>"
      ]
     },
     "metadata": {
      "needs_background": "light"
     },
     "output_type": "display_data"
    }
   ],
   "source": [
    "confusion_matrix = metrics.confusion_matrix(y_test, y_pred)\n",
    "print(confusion_matrix)\n",
    "classification = metrics.classification_report(y_test, y_pred)\n",
    "print('Plotting confusion matrix')\n",
    "\n",
    "plt.figure()\n",
    "plot_confusion_matrix(confusion_matrix, [0, 1])\n",
    "plt.show()"
   ]
  },
  {
   "cell_type": "code",
   "execution_count": 102,
   "metadata": {},
   "outputs": [],
   "source": [
    "def plot_roc(pred,y):\n",
    "    fpr, tpr, thresholds = roc_curve(y, pred)\n",
    "    roc_auc = auc(fpr, tpr)\n",
    "\n",
    "    plt.figure()\n",
    "    plt.plot(fpr, tpr, label='ROC curve (area = %0.2f)' % roc_auc)\n",
    "    plt.plot([0, 1], [0, 1], 'k--')\n",
    "    plt.xlim([0.0, 1.0])\n",
    "    plt.ylim([0.0, 1.05])\n",
    "    plt.xlabel('False Positive Rate')\n",
    "    plt.ylabel('True Positive Rate')\n",
    "    plt.title('Receiver Operating Characteristic (ROC)')\n",
    "    plt.legend(loc=\"lower right\")\n",
    "    plt.show()"
   ]
  },
  {
   "cell_type": "code",
   "execution_count": 103,
   "metadata": {},
   "outputs": [
    {
     "data": {
      "image/png": "[encoded data removed]",
      "text/plain": [
       "<Figure size 432x288 with 1 Axes>"
      ]
     },
     "metadata": {
      "needs_background": "light"
     },
     "output_type": "display_data"
    }
   ],
   "source": [
    "plot_roc(y_pred, y_test)"
   ]
  },
  {
   "cell_type": "markdown",
   "metadata": {},
   "source": [
    "### 3) Neural Network with tanh as Activation function and sgd as Optimizer"
   ]
  },
  {
   "cell_type": "code",
   "execution_count": 104,
   "metadata": {},
   "outputs": [
    {
     "name": "stdout",
     "output_type": "stream",
     "text": [
      "Epoch 1/10\n",
      "\n",
      "Epoch 00001: saving model to /Users/moksh/CSUS/CSC215/Project_1/model_weight3.hdf5\n",
      "3494/3494 - 2s - loss: 0.2130 - accuracy: 0.8978 - val_loss: 0.3846 - val_accuracy: 0.8101\n",
      "Epoch 2/10\n",
      "\n",
      "Epoch 00002: saving model to /Users/moksh/CSUS/CSC215/Project_1/model_weight3.hdf5\n",
      "3494/3494 - 2s - loss: 0.1721 - accuracy: 0.9148 - val_loss: 0.3269 - val_accuracy: 0.8355\n",
      "Epoch 3/10\n",
      "\n",
      "Epoch 00003: saving model to /Users/moksh/CSUS/CSC215/Project_1/model_weight3.hdf5\n",
      "3494/3494 - 2s - loss: 0.1656 - accuracy: 0.9171 - val_loss: 0.3683 - val_accuracy: 0.8190\n",
      "Epoch 4/10\n",
      "\n",
      "Epoch 00004: saving model to /Users/moksh/CSUS/CSC215/Project_1/model_weight3.hdf5\n",
      "3494/3494 - 2s - loss: 0.1626 - accuracy: 0.9187 - val_loss: 0.3565 - val_accuracy: 0.8200\n",
      "Epoch 5/10\n",
      "\n",
      "Epoch 00005: saving model to /Users/moksh/CSUS/CSC215/Project_1/model_weight3.hdf5\n",
      "3494/3494 - 2s - loss: 0.1606 - accuracy: 0.9194 - val_loss: 0.3645 - val_accuracy: 0.8178\n",
      "Epoch 6/10\n",
      "\n",
      "Epoch 00006: saving model to /Users/moksh/CSUS/CSC215/Project_1/model_weight3.hdf5\n",
      "3494/3494 - 2s - loss: 0.1591 - accuracy: 0.9194 - val_loss: 0.3315 - val_accuracy: 0.8314\n",
      "Epoch 7/10\n",
      "\n",
      "Epoch 00007: saving model to /Users/moksh/CSUS/CSC215/Project_1/model_weight3.hdf5\n",
      "3494/3494 - 2s - loss: 0.1583 - accuracy: 0.9206 - val_loss: 0.3573 - val_accuracy: 0.8253\n",
      "Epoch 8/10\n",
      "\n",
      "Epoch 00008: saving model to /Users/moksh/CSUS/CSC215/Project_1/model_weight3.hdf5\n",
      "3494/3494 - 2s - loss: 0.1575 - accuracy: 0.9197 - val_loss: 0.3311 - val_accuracy: 0.8370\n",
      "Epoch 9/10\n",
      "\n",
      "Epoch 00009: saving model to /Users/moksh/CSUS/CSC215/Project_1/model_weight3.hdf5\n",
      "3494/3494 - 2s - loss: 0.1570 - accuracy: 0.9206 - val_loss: 0.3268 - val_accuracy: 0.8374\n",
      "Epoch 10/10\n",
      "\n",
      "Epoch 00010: saving model to /Users/moksh/CSUS/CSC215/Project_1/model_weight3.hdf5\n",
      "3494/3494 - 2s - loss: 0.1561 - accuracy: 0.9205 - val_loss: 0.3418 - val_accuracy: 0.8247\n"
     ]
    }
   ],
   "source": [
    "import io\n",
    "import requests\n",
    "import os\n",
    "import h5py\n",
    "import shutil\n",
    "from tensorflow.keras.models import Sequential\n",
    "from tensorflow.keras.layers import Dense, Activation\n",
    "from tensorflow.keras.callbacks import EarlyStopping\n",
    "from tensorflow.keras.callbacks import ModelCheckpoint\n",
    "checkpoint_path = '/Users/moksh/CSUS/CSC215/Project_1/model_weight3.hdf5'\n",
    "\n",
    "model = Sequential()\n",
    "\n",
    "#Tuning Hyperparameters to achieve best model and to improve performance\n",
    "model.add(Dense(32, input_dim=x_train.shape[1], activation='relu'))\n",
    "model.add(Dense(16,activation='tanh'))\n",
    "model.add(Dense(8,activation='tanh'))\n",
    "model.add(Dense(y_train_nn.shape[1],activation='softmax'))\n",
    "\n",
    "model.compile(loss='categorical_crossentropy', optimizer='sgd', metrics=['accuracy'])\n",
    "\n",
    "monitor = EarlyStopping(monitor='val_loss', patience=10, verbose=1, mode='auto') \n",
    "\n",
    "model_checkpoint = ModelCheckpoint(filepath=checkpoint_path, monitor='val_loss',verbose=1,save_best_only=False,save_weights_only=False, mode='auto') # save best model\n",
    "\n",
    "model.fit(x_train, y_train_nn, validation_data=(x_test,y_test_nn), callbacks=[monitor, model_checkpoint], verbose=2, epochs=10)  \n",
    "\n",
    "model.load_weights(checkpoint_path) # load weights from best model\n",
    "model.save(checkpoint_path)\n"
   ]
  },
  {
   "cell_type": "code",
   "execution_count": 105,
   "metadata": {},
   "outputs": [
    {
     "name": "stdout",
     "output_type": "stream",
     "text": [
      "[[3.2780819e-02 9.6721917e-01]\n",
      " [2.0851837e-01 7.9148161e-01]\n",
      " [2.5498101e-01 7.4501896e-01]\n",
      " ...\n",
      " [9.9941266e-01 5.8732124e-04]\n",
      " [9.9941266e-01 5.8732124e-04]\n",
      " [9.2669716e-03 9.9073303e-01]]\n"
     ]
    }
   ],
   "source": [
    "y_pred = model.predict(x_test)\n",
    "print(y_pred)"
   ]
  },
  {
   "cell_type": "code",
   "execution_count": 106,
   "metadata": {},
   "outputs": [
    {
     "name": "stdout",
     "output_type": "stream",
     "text": [
      "[1 1 1 ... 0 0 1]\n"
     ]
    }
   ],
   "source": [
    "y_pred = np.argmax(y_pred,axis=1) # raw probabilities to choose class (highest probability)\n",
    "print(y_pred)"
   ]
  },
  {
   "cell_type": "code",
   "execution_count": 107,
   "metadata": {},
   "outputs": [
    {
     "name": "stdout",
     "output_type": "stream",
     "text": [
      "Precision score: 0.8530075002876665\n",
      "Recall score: 0.8246705187301175\n",
      "F1 score: 0.8197733832728928\n"
     ]
    }
   ],
   "source": [
    "precision_score = metrics.precision_score(y_test, y_pred, average= \"weighted\")\n",
    "print(\"Precision score: {}\".format(precision_score))\n",
    "recall_score = metrics.recall_score(y_test, y_pred, average= \"weighted\")\n",
    "print(\"Recall score: {}\".format(recall_score))\n",
    "f1_score = metrics.f1_score(y_test, y_pred, average= \"weighted\")\n",
    "print(\"F1 score: {}\".format(f1_score))\n"
   ]
  },
  {
   "cell_type": "code",
   "execution_count": 108,
   "metadata": {},
   "outputs": [
    {
     "name": "stdout",
     "output_type": "stream",
     "text": [
      "              precision    recall  f1-score   support\n",
      "\n",
      "           0       0.95      0.67      0.78     36932\n",
      "           1       0.76      0.97      0.85     40083\n",
      "\n",
      "    accuracy                           0.82     77015\n",
      "   macro avg       0.86      0.82      0.82     77015\n",
      "weighted avg       0.85      0.82      0.82     77015\n",
      "\n"
     ]
    }
   ],
   "source": [
    "print(metrics.classification_report(y_test, y_pred))\n"
   ]
  },
  {
   "cell_type": "code",
   "execution_count": 109,
   "metadata": {},
   "outputs": [
    {
     "name": "stdout",
     "output_type": "stream",
     "text": [
      "[[24596 12336]\n",
      " [ 1167 38916]]\n",
      "Plotting confusion matrix\n"
     ]
    }
   ],
   "source": [
    "confusion_matrix = metrics.confusion_matrix(y_test, y_pred)\n",
    "print(confusion_matrix)\n",
    "classification = metrics.classification_report(y_test, y_pred)\n",
    "print('Plotting confusion matrix')"
   ]
  },
  {
   "cell_type": "code",
   "execution_count": 110,
   "metadata": {},
   "outputs": [
    {
     "data": {
      "image/png": "[encoded data removed]",
      "text/plain": [
       "<Figure size 432x288 with 2 Axes>"
      ]
     },
     "metadata": {
      "needs_background": "light"
     },
     "output_type": "display_data"
    }
   ],
   "source": [
    "plt.figure()\n",
    "plot_confusion_matrix(confusion_matrix, [0, 1])\n",
    "plt.show()"
   ]
  },
  {
   "cell_type": "code",
   "execution_count": 111,
   "metadata": {},
   "outputs": [],
   "source": [
    "def plot_roc(pred,y):\n",
    "    fpr, tpr, thresholds = roc_curve(y, pred)\n",
    "    roc_auc = auc(fpr, tpr)\n",
    "\n",
    "    plt.figure()\n",
    "    plt.plot(fpr, tpr, label='ROC curve (area = %0.2f)' % roc_auc)\n",
    "    plt.plot([0, 1], [0, 1], 'k--')\n",
    "    plt.xlim([0.0, 1.0])\n",
    "    plt.ylim([0.0, 1.05])\n",
    "    plt.xlabel('False Positive Rate')\n",
    "    plt.ylabel('True Positive Rate')\n",
    "    plt.title('Receiver Operating Characteristic (ROC)')\n",
    "    plt.legend(loc=\"lower right\")\n",
    "    plt.show()"
   ]
  },
  {
   "cell_type": "code",
   "execution_count": 112,
   "metadata": {},
   "outputs": [
    {
     "data": {
      "image/png": "[encoded data removed]",
      "text/plain": [
       "<Figure size 432x288 with 1 Axes>"
      ]
     },
     "metadata": {
      "needs_background": "light"
     },
     "output_type": "display_data"
    }
   ],
   "source": [
    "plot_roc(y_pred, y_test)"
   ]
  },
  {
   "cell_type": "markdown",
   "metadata": {},
   "source": [
    "### 4) Neural Network with tanh as Activation function and Adam as Optimizer"
   ]
  },
  {
   "cell_type": "code",
   "execution_count": 113,
   "metadata": {},
   "outputs": [
    {
     "name": "stdout",
     "output_type": "stream",
     "text": [
      "Epoch 1/10\n",
      "\n",
      "Epoch 00001: saving model to /Users/moksh/CSUS/CSC215/Project_1/model_weight4.hdf5\n",
      "3494/3494 - 3s - loss: 0.1811 - accuracy: 0.9107 - val_loss: 0.3188 - val_accuracy: 0.8379\n",
      "Epoch 2/10\n",
      "\n",
      "Epoch 00002: saving model to /Users/moksh/CSUS/CSC215/Project_1/model_weight4.hdf5\n",
      "3494/3494 - 3s - loss: 0.1605 - accuracy: 0.9186 - val_loss: 0.3319 - val_accuracy: 0.8381\n",
      "Epoch 3/10\n",
      "\n",
      "Epoch 00003: saving model to /Users/moksh/CSUS/CSC215/Project_1/model_weight4.hdf5\n",
      "3494/3494 - 3s - loss: 0.1578 - accuracy: 0.9205 - val_loss: 0.3275 - val_accuracy: 0.8349\n",
      "Epoch 4/10\n",
      "\n",
      "Epoch 00004: saving model to /Users/moksh/CSUS/CSC215/Project_1/model_weight4.hdf5\n",
      "3494/3494 - 3s - loss: 0.1555 - accuracy: 0.9210 - val_loss: 0.3423 - val_accuracy: 0.8241\n",
      "Epoch 5/10\n",
      "\n",
      "Epoch 00005: saving model to /Users/moksh/CSUS/CSC215/Project_1/model_weight4.hdf5\n",
      "3494/3494 - 3s - loss: 0.1539 - accuracy: 0.9215 - val_loss: 0.3162 - val_accuracy: 0.8387\n",
      "Epoch 6/10\n",
      "\n",
      "Epoch 00006: saving model to /Users/moksh/CSUS/CSC215/Project_1/model_weight4.hdf5\n",
      "3494/3494 - 3s - loss: 0.1531 - accuracy: 0.9219 - val_loss: 0.3253 - val_accuracy: 0.8383\n",
      "Epoch 7/10\n",
      "\n",
      "Epoch 00007: saving model to /Users/moksh/CSUS/CSC215/Project_1/model_weight4.hdf5\n",
      "3494/3494 - 3s - loss: 0.1521 - accuracy: 0.9227 - val_loss: 0.3014 - val_accuracy: 0.8472\n",
      "Epoch 8/10\n",
      "\n",
      "Epoch 00008: saving model to /Users/moksh/CSUS/CSC215/Project_1/model_weight4.hdf5\n",
      "3494/3494 - 3s - loss: 0.1514 - accuracy: 0.9227 - val_loss: 0.3124 - val_accuracy: 0.8436\n",
      "Epoch 9/10\n",
      "\n",
      "Epoch 00009: saving model to /Users/moksh/CSUS/CSC215/Project_1/model_weight4.hdf5\n",
      "3494/3494 - 3s - loss: 0.1512 - accuracy: 0.9234 - val_loss: 0.3009 - val_accuracy: 0.8443\n",
      "Epoch 10/10\n",
      "\n",
      "Epoch 00010: saving model to /Users/moksh/CSUS/CSC215/Project_1/model_weight4.hdf5\n",
      "3494/3494 - 3s - loss: 0.1502 - accuracy: 0.9235 - val_loss: 0.2924 - val_accuracy: 0.8552\n"
     ]
    }
   ],
   "source": [
    "import io\n",
    "import requests\n",
    "import os\n",
    "import h5py\n",
    "import shutil\n",
    "from tensorflow.keras.models import Sequential\n",
    "from tensorflow.keras.layers import Dense, Activation\n",
    "from tensorflow.keras.callbacks import EarlyStopping\n",
    "from tensorflow.keras.callbacks import ModelCheckpoint\n",
    "checkpoint_path = '/Users/moksh/CSUS/CSC215/Project_1/model_weight4.hdf5'\n",
    "\n",
    "model = Sequential()\n",
    "\n",
    "#Tuning Hyperparameters to achieve best model and to improve performance\n",
    "model.add(Dense(32, input_dim=x_train.shape[1], activation='relu'))\n",
    "model.add(Dense(16,activation='tanh'))\n",
    "model.add(Dense(8,activation='tanh'))\n",
    "model.add(Dense(y_train_nn.shape[1],activation='softmax'))\n",
    "\n",
    "model.compile(loss='categorical_crossentropy', optimizer='Adam', metrics=['accuracy'])\n",
    "\n",
    "monitor = EarlyStopping(monitor='val_loss', patience=10, verbose=1, mode='auto') \n",
    "\n",
    "model_checkpoint = ModelCheckpoint(filepath=checkpoint_path, monitor='val_loss',verbose=1,save_best_only=False,save_weights_only=False, mode='auto') # save best model\n",
    "\n",
    "model.fit(x_train, y_train_nn, validation_data=(x_test,y_test_nn), callbacks=[monitor, model_checkpoint], verbose=2, epochs=10)  \n",
    "\n",
    "model.load_weights(checkpoint_path) # load weights from best model\n",
    "model.save(checkpoint_path)\n"
   ]
  },
  {
   "cell_type": "code",
   "execution_count": 114,
   "metadata": {},
   "outputs": [
    {
     "name": "stdout",
     "output_type": "stream",
     "text": [
      "[[8.1938185e-02 9.1806179e-01]\n",
      " [2.9675838e-01 7.0324165e-01]\n",
      " [3.7056971e-01 6.2943029e-01]\n",
      " ...\n",
      " [9.9990189e-01 9.8086683e-05]\n",
      " [9.9990189e-01 9.8086683e-05]\n",
      " [9.2416793e-02 9.0758318e-01]]\n"
     ]
    }
   ],
   "source": [
    "y_pred = model.predict(x_test)\n",
    "print(y_pred)"
   ]
  },
  {
   "cell_type": "code",
   "execution_count": 115,
   "metadata": {},
   "outputs": [
    {
     "name": "stdout",
     "output_type": "stream",
     "text": [
      "[1 1 1 ... 0 0 1]\n"
     ]
    }
   ],
   "source": [
    "y_pred = np.argmax(y_pred,axis=1) # raw probabilities to choose class (highest probability)\n",
    "print(y_pred)\n"
   ]
  },
  {
   "cell_type": "code",
   "execution_count": 116,
   "metadata": {},
   "outputs": [
    {
     "name": "stdout",
     "output_type": "stream",
     "text": [
      "Precision score: 0.8636767821680326\n",
      "Recall score: 0.8551840550542102\n",
      "F1 score: 0.8537617492252075\n"
     ]
    }
   ],
   "source": [
    "precision_score = metrics.precision_score(y_test, y_pred, average= \"weighted\")\n",
    "print(\"Precision score: {}\".format(precision_score))\n",
    "recall_score = metrics.recall_score(y_test, y_pred, average= \"weighted\")\n",
    "print(\"Recall score: {}\".format(recall_score))\n",
    "f1_score = metrics.f1_score(y_test, y_pred, average= \"weighted\")\n",
    "print(\"F1 score: {}\".format(f1_score))\n"
   ]
  },
  {
   "cell_type": "code",
   "execution_count": 117,
   "metadata": {},
   "outputs": [
    {
     "name": "stdout",
     "output_type": "stream",
     "text": [
      "              precision    recall  f1-score   support\n",
      "\n",
      "           0       0.92      0.77      0.84     36932\n",
      "           1       0.81      0.94      0.87     40083\n",
      "\n",
      "    accuracy                           0.86     77015\n",
      "   macro avg       0.87      0.85      0.85     77015\n",
      "weighted avg       0.86      0.86      0.85     77015\n",
      "\n"
     ]
    }
   ],
   "source": [
    "print(metrics.classification_report(y_test, y_pred))"
   ]
  },
  {
   "cell_type": "code",
   "execution_count": 118,
   "metadata": {},
   "outputs": [
    {
     "name": "stdout",
     "output_type": "stream",
     "text": [
      "[[28274  8658]\n",
      " [ 2495 37588]]\n",
      "Plotting confusion matrix\n"
     ]
    }
   ],
   "source": [
    "confusion_matrix = metrics.confusion_matrix(y_test, y_pred)\n",
    "print(confusion_matrix)\n",
    "classification = metrics.classification_report(y_test, y_pred)\n",
    "print('Plotting confusion matrix')"
   ]
  },
  {
   "cell_type": "code",
   "execution_count": 119,
   "metadata": {},
   "outputs": [
    {
     "data": {
      "image/png": "[encoded data removed]",
      "text/plain": [
       "<Figure size 432x288 with 2 Axes>"
      ]
     },
     "metadata": {
      "needs_background": "light"
     },
     "output_type": "display_data"
    }
   ],
   "source": [
    "plt.figure()\n",
    "plot_confusion_matrix(confusion_matrix, [0, 1])\n",
    "plt.show()"
   ]
  },
  {
   "cell_type": "code",
   "execution_count": 120,
   "metadata": {},
   "outputs": [],
   "source": [
    "def plot_roc(pred,y):\n",
    "    fpr, tpr, thresholds = roc_curve(y, pred)\n",
    "    roc_auc = auc(fpr, tpr)\n",
    "\n",
    "    plt.figure()\n",
    "    plt.plot(fpr, tpr, label='ROC curve (area = %0.2f)' % roc_auc)\n",
    "    plt.plot([0, 1], [0, 1], 'k--')\n",
    "    plt.xlim([0.0, 1.0])\n",
    "    plt.ylim([0.0, 1.05])\n",
    "    plt.xlabel('False Positive Rate')\n",
    "    plt.ylabel('True Positive Rate')\n",
    "    plt.title('Receiver Operating Characteristic (ROC)')\n",
    "    plt.legend(loc=\"lower right\")\n",
    "    plt.show()\n"
   ]
  },
  {
   "cell_type": "code",
   "execution_count": 121,
   "metadata": {},
   "outputs": [
    {
     "data": {
      "image/png": "[encoded data removed]",
      "text/plain": [
       "<Figure size 432x288 with 1 Axes>"
      ]
     },
     "metadata": {
      "needs_background": "light"
     },
     "output_type": "display_data"
    }
   ],
   "source": [
    "plot_roc(y_pred, y_test)"
   ]
  },
  {
   "cell_type": "markdown",
   "metadata": {},
   "source": [
    "## Additional Features"
   ]
  },
  {
   "cell_type": "code",
   "execution_count": 122,
   "metadata": {},
   "outputs": [],
   "source": [
    "import pandas as pd\n",
    "train_data = pd.read_csv(\"UNSW_NB15_training-set.csv\", index_col='id')\n",
    "test_data = pd.read_csv(\"UNSW_NB15_testing-set.csv\", index_col='id')"
   ]
  },
  {
   "cell_type": "code",
   "execution_count": 123,
   "metadata": {},
   "outputs": [],
   "source": [
    "#sort by dtype, we'll mostly treat the numerics the same though\n",
    "\n",
    "discrete_vars=['dur','spkts','dpkts','sbytes','dbytes','sttl','dttl','sloss','dloss','swin',\n",
    "               'smean','dmean','trans_depth','response_body_len','ct_srv_src','ct_state_ttl',\n",
    "               'ct_dst_ltm','ct_dst_sport_ltm','ct_dst_src_ltm','is_ftp_login','ct_ftp_cmd',\n",
    "               'ct_flw_http_mthd','ct_src_ltm','ct_srv_dst','is_sm_ips_ports']\n",
    "continuous_vars=['rate','sload','dload','sinpkt','dinpkt', 'sjit','djit','synack','ackdat']\n",
    "categorical_vars=['proto','state','attack_cat''stcpb','dtcpb', 'tcprtt']\n",
    "dep_var=['label']\n"
   ]
  },
  {
   "cell_type": "code",
   "execution_count": 124,
   "metadata": {},
   "outputs": [
    {
     "data": {
      "text/html": [
       "<div>\n",
       "<style scoped>\n",
       "    .dataframe tbody tr th:only-of-type {\n",
       "        vertical-align: middle;\n",
       "    }\n",
       "\n",
       "    .dataframe tbody tr th {\n",
       "        vertical-align: top;\n",
       "    }\n",
       "\n",
       "    .dataframe thead th {\n",
       "        text-align: right;\n",
       "    }\n",
       "</style>\n",
       "<table border=\"1\" class=\"dataframe\">\n",
       "  <thead>\n",
       "    <tr style=\"text-align: right;\">\n",
       "      <th></th>\n",
       "      <th>label</th>\n",
       "      <th>dur</th>\n",
       "      <th>spkts</th>\n",
       "      <th>dpkts</th>\n",
       "      <th>sbytes</th>\n",
       "      <th>dbytes</th>\n",
       "      <th>sttl</th>\n",
       "      <th>dttl</th>\n",
       "      <th>sloss</th>\n",
       "      <th>dloss</th>\n",
       "      <th>...</th>\n",
       "      <th>is_sm_ips_ports</th>\n",
       "      <th>rate</th>\n",
       "      <th>sload</th>\n",
       "      <th>dload</th>\n",
       "      <th>sinpkt</th>\n",
       "      <th>dinpkt</th>\n",
       "      <th>sjit</th>\n",
       "      <th>djit</th>\n",
       "      <th>synack</th>\n",
       "      <th>ackdat</th>\n",
       "    </tr>\n",
       "  </thead>\n",
       "  <tbody>\n",
       "    <tr>\n",
       "      <th>count</th>\n",
       "      <td>175341.000000</td>\n",
       "      <td>175341.000000</td>\n",
       "      <td>175341.000000</td>\n",
       "      <td>175341.000000</td>\n",
       "      <td>1.753410e+05</td>\n",
       "      <td>1.753410e+05</td>\n",
       "      <td>175341.000000</td>\n",
       "      <td>175341.000000</td>\n",
       "      <td>175341.000000</td>\n",
       "      <td>175341.000000</td>\n",
       "      <td>...</td>\n",
       "      <td>175341.000000</td>\n",
       "      <td>1.753410e+05</td>\n",
       "      <td>1.753410e+05</td>\n",
       "      <td>1.753410e+05</td>\n",
       "      <td>175341.000000</td>\n",
       "      <td>175341.000000</td>\n",
       "      <td>1.753410e+05</td>\n",
       "      <td>175341.000000</td>\n",
       "      <td>175341.000000</td>\n",
       "      <td>175341.000000</td>\n",
       "    </tr>\n",
       "    <tr>\n",
       "      <th>mean</th>\n",
       "      <td>0.680622</td>\n",
       "      <td>1.359389</td>\n",
       "      <td>20.298664</td>\n",
       "      <td>18.969591</td>\n",
       "      <td>8.844844e+03</td>\n",
       "      <td>1.492892e+04</td>\n",
       "      <td>179.546997</td>\n",
       "      <td>79.609567</td>\n",
       "      <td>4.953000</td>\n",
       "      <td>6.948010</td>\n",
       "      <td>...</td>\n",
       "      <td>0.015752</td>\n",
       "      <td>9.540619e+04</td>\n",
       "      <td>7.345403e+07</td>\n",
       "      <td>6.712056e+05</td>\n",
       "      <td>985.976864</td>\n",
       "      <td>88.216296</td>\n",
       "      <td>4.976254e+03</td>\n",
       "      <td>604.353826</td>\n",
       "      <td>0.021020</td>\n",
       "      <td>0.020375</td>\n",
       "    </tr>\n",
       "    <tr>\n",
       "      <th>std</th>\n",
       "      <td>0.466237</td>\n",
       "      <td>6.480249</td>\n",
       "      <td>136.887597</td>\n",
       "      <td>110.258271</td>\n",
       "      <td>1.747656e+05</td>\n",
       "      <td>1.436542e+05</td>\n",
       "      <td>102.940011</td>\n",
       "      <td>110.506863</td>\n",
       "      <td>66.005059</td>\n",
       "      <td>52.732999</td>\n",
       "      <td>...</td>\n",
       "      <td>0.124516</td>\n",
       "      <td>1.654010e+05</td>\n",
       "      <td>1.883574e+08</td>\n",
       "      <td>2.421312e+06</td>\n",
       "      <td>7242.245841</td>\n",
       "      <td>987.093195</td>\n",
       "      <td>4.496585e+04</td>\n",
       "      <td>4061.043281</td>\n",
       "      <td>0.043400</td>\n",
       "      <td>0.040506</td>\n",
       "    </tr>\n",
       "    <tr>\n",
       "      <th>min</th>\n",
       "      <td>0.000000</td>\n",
       "      <td>0.000000</td>\n",
       "      <td>1.000000</td>\n",
       "      <td>0.000000</td>\n",
       "      <td>2.800000e+01</td>\n",
       "      <td>0.000000e+00</td>\n",
       "      <td>0.000000</td>\n",
       "      <td>0.000000</td>\n",
       "      <td>0.000000</td>\n",
       "      <td>0.000000</td>\n",
       "      <td>...</td>\n",
       "      <td>0.000000</td>\n",
       "      <td>0.000000e+00</td>\n",
       "      <td>0.000000e+00</td>\n",
       "      <td>0.000000e+00</td>\n",
       "      <td>0.000000</td>\n",
       "      <td>0.000000</td>\n",
       "      <td>0.000000e+00</td>\n",
       "      <td>0.000000</td>\n",
       "      <td>0.000000</td>\n",
       "      <td>0.000000</td>\n",
       "    </tr>\n",
       "    <tr>\n",
       "      <th>25%</th>\n",
       "      <td>0.000000</td>\n",
       "      <td>0.000008</td>\n",
       "      <td>2.000000</td>\n",
       "      <td>0.000000</td>\n",
       "      <td>1.140000e+02</td>\n",
       "      <td>0.000000e+00</td>\n",
       "      <td>62.000000</td>\n",
       "      <td>0.000000</td>\n",
       "      <td>0.000000</td>\n",
       "      <td>0.000000</td>\n",
       "      <td>...</td>\n",
       "      <td>0.000000</td>\n",
       "      <td>3.278614e+01</td>\n",
       "      <td>1.305334e+04</td>\n",
       "      <td>0.000000e+00</td>\n",
       "      <td>0.008000</td>\n",
       "      <td>0.000000</td>\n",
       "      <td>0.000000e+00</td>\n",
       "      <td>0.000000</td>\n",
       "      <td>0.000000</td>\n",
       "      <td>0.000000</td>\n",
       "    </tr>\n",
       "    <tr>\n",
       "      <th>50%</th>\n",
       "      <td>1.000000</td>\n",
       "      <td>0.001582</td>\n",
       "      <td>2.000000</td>\n",
       "      <td>2.000000</td>\n",
       "      <td>4.300000e+02</td>\n",
       "      <td>1.640000e+02</td>\n",
       "      <td>254.000000</td>\n",
       "      <td>29.000000</td>\n",
       "      <td>0.000000</td>\n",
       "      <td>0.000000</td>\n",
       "      <td>...</td>\n",
       "      <td>0.000000</td>\n",
       "      <td>3.225807e+03</td>\n",
       "      <td>8.796748e+05</td>\n",
       "      <td>1.447023e+03</td>\n",
       "      <td>0.279733</td>\n",
       "      <td>0.006000</td>\n",
       "      <td>0.000000e+00</td>\n",
       "      <td>0.000000</td>\n",
       "      <td>0.000000</td>\n",
       "      <td>0.000000</td>\n",
       "    </tr>\n",
       "    <tr>\n",
       "      <th>75%</th>\n",
       "      <td>1.000000</td>\n",
       "      <td>0.668069</td>\n",
       "      <td>12.000000</td>\n",
       "      <td>10.000000</td>\n",
       "      <td>1.418000e+03</td>\n",
       "      <td>1.102000e+03</td>\n",
       "      <td>254.000000</td>\n",
       "      <td>252.000000</td>\n",
       "      <td>3.000000</td>\n",
       "      <td>2.000000</td>\n",
       "      <td>...</td>\n",
       "      <td>0.000000</td>\n",
       "      <td>1.250000e+05</td>\n",
       "      <td>8.888889e+07</td>\n",
       "      <td>2.784487e+04</td>\n",
       "      <td>55.156896</td>\n",
       "      <td>51.053000</td>\n",
       "      <td>2.513295e+03</td>\n",
       "      <td>114.990625</td>\n",
       "      <td>0.023268</td>\n",
       "      <td>0.038906</td>\n",
       "    </tr>\n",
       "    <tr>\n",
       "      <th>max</th>\n",
       "      <td>1.000000</td>\n",
       "      <td>59.999989</td>\n",
       "      <td>9616.000000</td>\n",
       "      <td>10974.000000</td>\n",
       "      <td>1.296523e+07</td>\n",
       "      <td>1.465555e+07</td>\n",
       "      <td>255.000000</td>\n",
       "      <td>254.000000</td>\n",
       "      <td>4803.000000</td>\n",
       "      <td>5484.000000</td>\n",
       "      <td>...</td>\n",
       "      <td>1.000000</td>\n",
       "      <td>1.000000e+06</td>\n",
       "      <td>5.988000e+09</td>\n",
       "      <td>2.242273e+07</td>\n",
       "      <td>84371.496000</td>\n",
       "      <td>56716.824000</td>\n",
       "      <td>1.460480e+06</td>\n",
       "      <td>289388.269700</td>\n",
       "      <td>2.100352</td>\n",
       "      <td>1.520884</td>\n",
       "    </tr>\n",
       "  </tbody>\n",
       "</table>\n",
       "<p>8 rows × 35 columns</p>\n",
       "</div>"
      ],
      "text/plain": [
       "               label            dur          spkts          dpkts  \\\n",
       "count  175341.000000  175341.000000  175341.000000  175341.000000   \n",
       "mean        0.680622       1.359389      20.298664      18.969591   \n",
       "std         0.466237       6.480249     136.887597     110.258271   \n",
       "min         0.000000       0.000000       1.000000       0.000000   \n",
       "25%         0.000000       0.000008       2.000000       0.000000   \n",
       "50%         1.000000       0.001582       2.000000       2.000000   \n",
       "75%         1.000000       0.668069      12.000000      10.000000   \n",
       "max         1.000000      59.999989    9616.000000   10974.000000   \n",
       "\n",
       "             sbytes        dbytes           sttl           dttl  \\\n",
       "count  1.753410e+05  1.753410e+05  175341.000000  175341.000000   \n",
       "mean   8.844844e+03  1.492892e+04     179.546997      79.609567   \n",
       "std    1.747656e+05  1.436542e+05     102.940011     110.506863   \n",
       "min    2.800000e+01  0.000000e+00       0.000000       0.000000   \n",
       "25%    1.140000e+02  0.000000e+00      62.000000       0.000000   \n",
       "50%    4.300000e+02  1.640000e+02     254.000000      29.000000   \n",
       "75%    1.418000e+03  1.102000e+03     254.000000     252.000000   \n",
       "max    1.296523e+07  1.465555e+07     255.000000     254.000000   \n",
       "\n",
       "               sloss          dloss  ...  is_sm_ips_ports          rate  \\\n",
       "count  175341.000000  175341.000000  ...    175341.000000  1.753410e+05   \n",
       "mean        4.953000       6.948010  ...         0.015752  9.540619e+04   \n",
       "std        66.005059      52.732999  ...         0.124516  1.654010e+05   \n",
       "min         0.000000       0.000000  ...         0.000000  0.000000e+00   \n",
       "25%         0.000000       0.000000  ...         0.000000  3.278614e+01   \n",
       "50%         0.000000       0.000000  ...         0.000000  3.225807e+03   \n",
       "75%         3.000000       2.000000  ...         0.000000  1.250000e+05   \n",
       "max      4803.000000    5484.000000  ...         1.000000  1.000000e+06   \n",
       "\n",
       "              sload         dload         sinpkt         dinpkt          sjit  \\\n",
       "count  1.753410e+05  1.753410e+05  175341.000000  175341.000000  1.753410e+05   \n",
       "mean   7.345403e+07  6.712056e+05     985.976864      88.216296  4.976254e+03   \n",
       "std    1.883574e+08  2.421312e+06    7242.245841     987.093195  4.496585e+04   \n",
       "min    0.000000e+00  0.000000e+00       0.000000       0.000000  0.000000e+00   \n",
       "25%    1.305334e+04  0.000000e+00       0.008000       0.000000  0.000000e+00   \n",
       "50%    8.796748e+05  1.447023e+03       0.279733       0.006000  0.000000e+00   \n",
       "75%    8.888889e+07  2.784487e+04      55.156896      51.053000  2.513295e+03   \n",
       "max    5.988000e+09  2.242273e+07   84371.496000   56716.824000  1.460480e+06   \n",
       "\n",
       "                djit         synack         ackdat  \n",
       "count  175341.000000  175341.000000  175341.000000  \n",
       "mean      604.353826       0.021020       0.020375  \n",
       "std      4061.043281       0.043400       0.040506  \n",
       "min         0.000000       0.000000       0.000000  \n",
       "25%         0.000000       0.000000       0.000000  \n",
       "50%         0.000000       0.000000       0.000000  \n",
       "75%       114.990625       0.023268       0.038906  \n",
       "max    289388.269700       2.100352       1.520884  \n",
       "\n",
       "[8 rows x 35 columns]"
      ]
     },
     "execution_count": 124,
     "metadata": {},
     "output_type": "execute_result"
    }
   ],
   "source": [
    "train_data.loc[:, dep_var + discrete_vars + continuous_vars].describe()"
   ]
  },
  {
   "cell_type": "code",
   "execution_count": 125,
   "metadata": {},
   "outputs": [
    {
     "data": {
      "text/plain": [
       "<matplotlib.axes._subplots.AxesSubplot at 0x7f8c091ed400>"
      ]
     },
     "execution_count": 125,
     "metadata": {},
     "output_type": "execute_result"
    },
    {
     "data": {
      "image/png": "[encoded data removed]",
      "text/plain": [
       "<Figure size 432x288 with 1 Axes>"
      ]
     },
     "metadata": {
      "needs_background": "light"
     },
     "output_type": "display_data"
    }
   ],
   "source": [
    "sns.distplot(train_data['label'])"
   ]
  },
  {
   "cell_type": "code",
   "execution_count": 126,
   "metadata": {},
   "outputs": [
    {
     "data": {
      "image/png": "[encoded data removed]",
      "text/plain": [
       "<Figure size 1440x1080 with 36 Axes>"
      ]
     },
     "metadata": {
      "needs_background": "light"
     },
     "output_type": "display_data"
    }
   ],
   "source": [
    "train_data.loc[:, discrete_vars + continuous_vars].hist(bins=50, figsize=(20,15))\n",
    "plt.show()"
   ]
  },
  {
   "cell_type": "code",
   "execution_count": 127,
   "metadata": {},
   "outputs": [],
   "source": [
    "d = {'INT':'INT', 'FIN':'FIN', 'CON':'CON', 'ECO':'OTHER', 'REQ':'REQ', 'RST':'RST', 'PAR':'OTHER', 'URN':'OTHER', 'no':'OTHER', 'ACC':'OTHER', 'CLO':'OTHER'}\n",
    "train_data['state'] = train_data['state'].map(lambda s: d[s])"
   ]
  },
  {
   "cell_type": "code",
   "execution_count": 128,
   "metadata": {},
   "outputs": [
    {
     "data": {
      "image/png": "[encoded data removed]",
      "text/plain": [
       "<Figure size 432x288 with 1 Axes>"
      ]
     },
     "metadata": {
      "needs_background": "light"
     },
     "output_type": "display_data"
    }
   ],
   "source": [
    "sns.countplot(train_data['state'])\n",
    "plt.show()"
   ]
  },
  {
   "cell_type": "code",
   "execution_count": 129,
   "metadata": {},
   "outputs": [],
   "source": [
    "most_occured = ['tcp', 'udp', 'unas']\n",
    "def encoding_categoricals(column):\n",
    "    if column in most_occured:\n",
    "        return column\n",
    "    else:\n",
    "        return \"other\""
   ]
  },
  {
   "cell_type": "code",
   "execution_count": 130,
   "metadata": {},
   "outputs": [],
   "source": [
    "train_data['proto'] = train_data['proto'].apply(encoding_categoricals)\n",
    "\n",
    "test_data['proto'] = test_data['proto'].apply(encoding_categoricals)"
   ]
  },
  {
   "cell_type": "code",
   "execution_count": 131,
   "metadata": {},
   "outputs": [],
   "source": [
    "d = {'INT':'INT', 'FIN':'FIN', 'CON':'CON', 'REQ':'REQ', 'RST':'RST', 'ACC':'OTHER', 'CLO':'OTHER','PAR':'OTHER', 'URN':'OTHER', 'no':'OTHER'}\n",
    "test_data['state'] = test_data['state'].map(lambda s: d[s])"
   ]
  },
  {
   "cell_type": "code",
   "execution_count": 132,
   "metadata": {},
   "outputs": [],
   "source": [
    "most_occured = ['INT', 'FIN', 'CON', 'REQ']\n",
    "\n",
    "train_data = train_data[train_data['state'].isin(most_occured)]\n",
    "\n",
    "test_data = test_data[test_data['state'].isin(most_occured)]"
   ]
  },
  {
   "cell_type": "code",
   "execution_count": 133,
   "metadata": {},
   "outputs": [],
   "source": [
    "def encode_text_dummy(df, name):\n",
    "    dummies = pd.get_dummies(df[name])\n",
    "    for x in dummies.columns:\n",
    "        dummy_name = \"{}-{}\".format(name, x)\n",
    "        df[dummy_name] = dummies[x]\n",
    "    df.drop(name, axis=1, inplace=True)"
   ]
  },
  {
   "cell_type": "code",
   "execution_count": 134,
   "metadata": {},
   "outputs": [],
   "source": [
    "encode_text_dummy(train_data,\"proto\")  \n",
    "encode_text_dummy(train_data,\"state\")\n",
    "\n",
    "encode_text_dummy(test_data,\"proto\")  \n",
    "encode_text_dummy(test_data,\"state\")"
   ]
  },
  {
   "cell_type": "code",
   "execution_count": 135,
   "metadata": {},
   "outputs": [],
   "source": [
    "train_data.drop(['swin','service','label', 'spkts', 'dinpkt', 'sjit', 'djit', 'response_body_len'],axis = 1, inplace = True)"
   ]
  },
  {
   "cell_type": "code",
   "execution_count": 136,
   "metadata": {},
   "outputs": [],
   "source": [
    "test_data.drop(['swin','service','label', 'spkts', 'dinpkt', 'sjit', 'djit', 'response_body_len'],axis = 1, inplace = True)"
   ]
  },
  {
   "cell_type": "code",
   "execution_count": 137,
   "metadata": {},
   "outputs": [
    {
     "data": {
      "text/plain": [
       "42"
      ]
     },
     "execution_count": 137,
     "metadata": {},
     "output_type": "execute_result"
    }
   ],
   "source": [
    "test_data.shape[1]"
   ]
  },
  {
   "cell_type": "code",
   "execution_count": 138,
   "metadata": {},
   "outputs": [
    {
     "data": {
      "text/plain": [
       "42"
      ]
     },
     "execution_count": 138,
     "metadata": {},
     "output_type": "execute_result"
    }
   ],
   "source": [
    "train_data.shape[1]"
   ]
  },
  {
   "cell_type": "code",
   "execution_count": 139,
   "metadata": {},
   "outputs": [
    {
     "name": "stdout",
     "output_type": "stream",
     "text": [
      "Number of missing values:\n"
     ]
    },
    {
     "data": {
      "text/plain": [
       "[]"
      ]
     },
     "execution_count": 139,
     "metadata": {},
     "output_type": "execute_result"
    }
   ],
   "source": [
    "print('Number of missing values:')\n",
    "[(x, y) for x, y in zip(test_data.isna().sum(), test_data.isna().sum().index) if x > 0]"
   ]
  },
  {
   "cell_type": "code",
   "execution_count": 140,
   "metadata": {},
   "outputs": [
    {
     "name": "stdout",
     "output_type": "stream",
     "text": [
      "\tdur: 0\n",
      "\tdpkts: 0\n",
      "\tsbytes: 0\n",
      "\tdbytes: 0\n",
      "\trate: 0\n",
      "\tsttl: 0\n",
      "\tdttl: 0\n",
      "\tsload: 0\n",
      "\tdload: 0\n",
      "\tsloss: 0\n",
      "\tdloss: 0\n",
      "\tsinpkt: 0\n",
      "\tstcpb: 0\n",
      "\tdtcpb: 0\n",
      "\tdwin: 0\n",
      "\ttcprtt: 0\n",
      "\tsynack: 0\n",
      "\tackdat: 0\n",
      "\tsmean: 0\n",
      "\tdmean: 0\n",
      "\ttrans_depth: 0\n",
      "\tct_srv_src: 0\n",
      "\tct_state_ttl: 0\n",
      "\tct_dst_ltm: 0\n",
      "\tct_src_dport_ltm: 0\n",
      "\tct_dst_sport_ltm: 0\n",
      "\tct_dst_src_ltm: 0\n",
      "\tis_ftp_login: 0\n",
      "\tct_ftp_cmd: 0\n",
      "\tct_flw_http_mthd: 0\n",
      "\tct_src_ltm: 0\n",
      "\tct_srv_dst: 0\n",
      "\tis_sm_ips_ports: 0\n",
      "\tattack_cat: 0\n",
      "\tproto-other: 0\n",
      "\tproto-tcp: 0\n",
      "\tproto-udp: 0\n",
      "\tproto-unas: 0\n",
      "\tstate-CON: 0\n",
      "\tstate-FIN: 0\n",
      "\tstate-INT: 0\n",
      "\tstate-REQ: 0\n"
     ]
    }
   ],
   "source": [
    "train_data=train_data.replace('-',np.nan)\n",
    "for column in train_data.columns:\n",
    "    print('\\t%s: %d'%(column,train_data[column].isnull().sum()))"
   ]
  },
  {
   "cell_type": "code",
   "execution_count": 141,
   "metadata": {},
   "outputs": [],
   "source": [
    "from sklearn import preprocessing\n",
    "def encode_text_index(df, name):\n",
    "    le = preprocessing.LabelEncoder()\n",
    "    df[name] = le.fit_transform(df[name])\n",
    "    return le.classes_\n",
    "\n",
    "def encode_numeric_zscore(df, name, mean=None, sd=None):\n",
    "    if mean is None:\n",
    "        mean = df[name].mean()\n",
    "\n",
    "    if sd is None:\n",
    "        sd = df[name].std()\n",
    "\n",
    "    df[name] = (df[name] - mean) / sd"
   ]
  },
  {
   "cell_type": "code",
   "execution_count": 142,
   "metadata": {},
   "outputs": [
    {
     "data": {
      "text/plain": [
       "array(['Analysis', 'Backdoor', 'DoS', 'Exploits', 'Fuzzers', 'Generic',\n",
       "       'Normal', 'Reconnaissance', 'Shellcode', 'Worms'], dtype=object)"
      ]
     },
     "execution_count": 142,
     "metadata": {},
     "output_type": "execute_result"
    }
   ],
   "source": [
    "encode_text_index(train_data,\"attack_cat\")\n",
    "encode_text_index(test_data,\"attack_cat\")"
   ]
  },
  {
   "cell_type": "code",
   "execution_count": 143,
   "metadata": {},
   "outputs": [],
   "source": [
    "x_train = train_data.drop(['attack_cat'], axis = 1)\n",
    "y_train = train_data.loc[:, ['attack_cat']]\n",
    "\n",
    "x_test = test_data.drop(['attack_cat'], axis = 1)\n",
    "y_test = test_data.loc[:, ['attack_cat']]\n"
   ]
  },
  {
   "cell_type": "code",
   "execution_count": 144,
   "metadata": {},
   "outputs": [],
   "source": [
    "x_train = x_train.astype('float')\n",
    "x_test = x_test.astype('float')\n",
    "for col in x_train.columns:\n",
    "        encode_numeric_zscore(x_train,col)\n",
    "\n",
    "for col in x_test.columns:\n",
    "        encode_numeric_zscore(x_test,col)\n",
    " "
   ]
  },
  {
   "cell_type": "code",
   "execution_count": 145,
   "metadata": {},
   "outputs": [],
   "source": [
    "target = 'attack_cat'\n",
    "features = list(train_data.columns)\n",
    "features = [f for f in features if f!=target]"
   ]
  },
  {
   "cell_type": "code",
   "execution_count": 146,
   "metadata": {},
   "outputs": [
    {
     "data": {
      "image/png": "[encoded data removed]",
      "text/plain": [
       "<Figure size 432x288 with 1 Axes>"
      ]
     },
     "metadata": {
      "needs_background": "light"
     },
     "output_type": "display_data"
    }
   ],
   "source": [
    "sns.countplot(y_train[target])\n",
    "plt.show()"
   ]
  },
  {
   "cell_type": "code",
   "execution_count": 147,
   "metadata": {},
   "outputs": [
    {
     "name": "stdout",
     "output_type": "stream",
     "text": [
      "(175243, 41) (175243, 10)\n"
     ]
    }
   ],
   "source": [
    "y_train= pd.get_dummies(y_train[target])\n",
    "y_test = test_data.loc[:, ['attack_cat']]\n",
    "print(x_train.shape, y_train.shape)"
   ]
  },
  {
   "cell_type": "code",
   "execution_count": 148,
   "metadata": {},
   "outputs": [
    {
     "name": "stdout",
     "output_type": "stream",
     "text": [
      "(82326, 41) (82326, 10)\n"
     ]
    }
   ],
   "source": [
    "y_test = pd.get_dummies(y_test[target])\n",
    "\n",
    "print(x_test.shape, y_test.shape)"
   ]
  },
  {
   "cell_type": "markdown",
   "metadata": {},
   "source": [
    "- #### Most correlated features are :\n",
    "\n",
    "#### spkts, sbytes, sloss, dpkts, dbytes, dloss, sinpkt, is_sm_ips_ports, swin, dwin, tcprtt, synack, ct_srv_src, ct_srv_dst, ct_dst_src_ltm, ct_src_dport_ltm, ct_dst_sport_ltm, is_ftp_login ct_ftp_cmd"
   ]
  },
  {
   "cell_type": "code",
   "execution_count": 149,
   "metadata": {},
   "outputs": [
    {
     "name": "stdout",
     "output_type": "stream",
     "text": [
      "Epoch 1/100\n",
      "\n",
      "Epoch 00001: saving model to /Users/moksh/CSUS/CSC215/Project_1/model_weight5.hdf5\n",
      "5477/5477 - 4s - loss: 0.6205 - accuracy: 0.7623 - val_loss: 0.6967 - val_accuracy: 0.6959\n",
      "Epoch 2/100\n",
      "\n",
      "Epoch 00002: saving model to /Users/moksh/CSUS/CSC215/Project_1/model_weight5.hdf5\n",
      "5477/5477 - 4s - loss: 0.5507 - accuracy: 0.7854 - val_loss: 0.7512 - val_accuracy: 0.6979\n",
      "Epoch 3/100\n",
      "\n",
      "Epoch 00003: saving model to /Users/moksh/CSUS/CSC215/Project_1/model_weight5.hdf5\n",
      "5477/5477 - 4s - loss: 0.5343 - accuracy: 0.7910 - val_loss: 0.7710 - val_accuracy: 0.6617\n",
      "Epoch 4/100\n",
      "\n",
      "Epoch 00004: saving model to /Users/moksh/CSUS/CSC215/Project_1/model_weight5.hdf5\n",
      "5477/5477 - 4s - loss: 0.5224 - accuracy: 0.7952 - val_loss: 0.7328 - val_accuracy: 0.6805\n",
      "Epoch 5/100\n",
      "\n",
      "Epoch 00005: saving model to /Users/moksh/CSUS/CSC215/Project_1/model_weight5.hdf5\n",
      "5477/5477 - 4s - loss: 0.5158 - accuracy: 0.7968 - val_loss: 0.7730 - val_accuracy: 0.6668\n",
      "Epoch 6/100\n",
      "\n",
      "Epoch 00006: saving model to /Users/moksh/CSUS/CSC215/Project_1/model_weight5.hdf5\n",
      "5477/5477 - 4s - loss: 0.5096 - accuracy: 0.7994 - val_loss: 0.8046 - val_accuracy: 0.6623\n",
      "Epoch 7/100\n",
      "\n",
      "Epoch 00007: saving model to /Users/moksh/CSUS/CSC215/Project_1/model_weight5.hdf5\n",
      "5477/5477 - 4s - loss: 0.5038 - accuracy: 0.7999 - val_loss: 0.7936 - val_accuracy: 0.6823\n",
      "Epoch 8/100\n",
      "\n",
      "Epoch 00008: saving model to /Users/moksh/CSUS/CSC215/Project_1/model_weight5.hdf5\n",
      "5477/5477 - 4s - loss: 0.4995 - accuracy: 0.8011 - val_loss: 0.7563 - val_accuracy: 0.6955\n",
      "Epoch 9/100\n",
      "\n",
      "Epoch 00009: saving model to /Users/moksh/CSUS/CSC215/Project_1/model_weight5.hdf5\n",
      "5477/5477 - 4s - loss: 0.4950 - accuracy: 0.8027 - val_loss: 0.8651 - val_accuracy: 0.6588\n",
      "Epoch 10/100\n",
      "\n",
      "Epoch 00010: saving model to /Users/moksh/CSUS/CSC215/Project_1/model_weight5.hdf5\n",
      "5477/5477 - 4s - loss: 0.4916 - accuracy: 0.8038 - val_loss: 0.8610 - val_accuracy: 0.6920\n",
      "Epoch 11/100\n",
      "\n",
      "Epoch 00011: saving model to /Users/moksh/CSUS/CSC215/Project_1/model_weight5.hdf5\n",
      "5477/5477 - 4s - loss: 0.4884 - accuracy: 0.8048 - val_loss: 0.8139 - val_accuracy: 0.6713\n",
      "Epoch 00011: early stopping\n"
     ]
    }
   ],
   "source": [
    "import io\n",
    "import requests\n",
    "import os\n",
    "import h5py\n",
    "import shutil\n",
    "from tensorflow.keras.models import Sequential\n",
    "from tensorflow.keras.layers import Dense, Activation\n",
    "from tensorflow.keras.callbacks import EarlyStopping\n",
    "from tensorflow.keras.callbacks import ModelCheckpoint\n",
    "checkpoint_path = '/Users/moksh/CSUS/CSC215/Project_1/model_weight5.hdf5'\n",
    "\n",
    "model = Sequential()\n",
    "\n",
    "#Tuning Hyperparameters to achieve best model and to improve performance\n",
    "model.add(Dense(64, input_dim=x_train.shape[1], activation='relu'))\n",
    "model.add(Dense(32,activation='relu'))\n",
    "model.add(Dense(16,activation='relu'))\n",
    "model.add(Dense(y_train.shape[1],activation='softmax'))\n",
    "\n",
    "model.compile(loss='categorical_crossentropy', optimizer='adam', metrics=['accuracy'])\n",
    "\n",
    "monitor = EarlyStopping(monitor='val_loss', patience=10, verbose=1, mode='auto') \n",
    "\n",
    "model_checkpoint = ModelCheckpoint(filepath=checkpoint_path, monitor='val_loss',verbose=1,save_best_only=False,save_weights_only=False, mode='auto') # save best model\n",
    "\n",
    "model.fit(x_train, y_train, validation_data=(x_test,y_test), callbacks=[monitor, model_checkpoint], verbose=2, epochs=100)  \n",
    "\n",
    "model.load_weights(checkpoint_path) # load weights from best model\n",
    "model.save(checkpoint_path)"
   ]
  },
  {
   "cell_type": "code",
   "execution_count": 150,
   "metadata": {},
   "outputs": [
    {
     "name": "stdout",
     "output_type": "stream",
     "text": [
      "[3.96085874e-04 3.91620488e-05 1.13576865e-02 3.88594680e-02\n",
      " 6.80480957e-01 6.48034550e-03 2.09338188e-01 6.30585491e-05\n",
      " 5.18160351e-02 1.16906362e-03]\n"
     ]
    }
   ],
   "source": [
    "pred = model.predict(x_test)\n",
    "print(pred[0])"
   ]
  },
  {
   "cell_type": "code",
   "execution_count": 151,
   "metadata": {},
   "outputs": [
    {
     "name": "stdout",
     "output_type": "stream",
     "text": [
      "[4 4 4 ... 6 6 4]\n"
     ]
    }
   ],
   "source": [
    "pred = np.argmax(pred,axis=1) # raw probabilities to choose class (highest probability)\n",
    "print(pred)"
   ]
  },
  {
   "cell_type": "code",
   "execution_count": 152,
   "metadata": {},
   "outputs": [
    {
     "name": "stdout",
     "output_type": "stream",
     "text": [
      "[6 6 6 ... 6 6 6]\n"
     ]
    }
   ],
   "source": [
    "y_test = np.argmax(y_test.values, axis = 1)\n",
    "print(y_test)"
   ]
  },
  {
   "cell_type": "code",
   "execution_count": 153,
   "metadata": {},
   "outputs": [
    {
     "name": "stdout",
     "output_type": "stream",
     "text": [
      "              precision    recall  f1-score   support\n",
      "\n",
      "           0       0.00      0.00      0.00       677\n",
      "           1       0.20      0.01      0.01       583\n",
      "           2       0.38      0.17      0.24      4089\n",
      "           3       0.58      0.80      0.67     11131\n",
      "           4       0.18      0.61      0.28      6061\n",
      "           5       0.99      0.74      0.85     18871\n",
      "           6       0.93      0.69      0.80     36997\n",
      "           7       0.74      0.69      0.71      3495\n",
      "           8       0.48      0.03      0.06       378\n",
      "           9       0.43      0.07      0.12        44\n",
      "\n",
      "    accuracy                           0.67     82326\n",
      "   macro avg       0.49      0.38      0.37     82326\n",
      "weighted avg       0.79      0.67      0.71     82326\n",
      "\n"
     ]
    }
   ],
   "source": [
    "from sklearn import metrics\n",
    "from sklearn.metrics import precision_recall_curve\n",
    "from sklearn.metrics import classification_report\n",
    "from sklearn.metrics import confusion_matrix\n",
    "print(metrics.classification_report(y_test, pred))"
   ]
  },
  {
   "cell_type": "code",
   "execution_count": 154,
   "metadata": {},
   "outputs": [],
   "source": [
    "def confusion_matrix(cm, names, title='Confusion matrix', cmap=plt.cm.Blues):\n",
    "    plt.imshow(cm, interpolation='nearest', cmap=cmap)\n",
    "    plt.title(title)\n",
    "    plt.colorbar()\n",
    "    tick_marks = np.arange(len(names))\n",
    "    plt.xticks(tick_marks, names, rotation=45)\n",
    "    plt.yticks(tick_marks, names)\n",
    "    plt.tight_layout()\n",
    "    plt.ylabel('True label')\n",
    "    plt.xlabel('Predicted label')"
   ]
  },
  {
   "cell_type": "code",
   "execution_count": 155,
   "metadata": {},
   "outputs": [
    {
     "name": "stdout",
     "output_type": "stream",
     "text": [
      "[[    0     0    81   538     0     0    58     0     0     0]\n",
      " [    0     4    84   465    24     0     2     4     0     0]\n",
      " [    0    12   710  2990   229     4   102    42     0     0]\n",
      " [   16     3   665  8863   833     2   355   391     2     1]\n",
      " [    0     0   225  1136  3668     0   890   142     0     0]\n",
      " [    0     0     7   491  3970 13901   493     5     1     3]\n",
      " [  177     0     8   316 10524    58 25689   216     9     0]\n",
      " [    0     0    70   363   620    19     7  2415     1     0]\n",
      " [    0     1     0    36   244     6    10    69    12     0]\n",
      " [    0     0     0    28    10     0     2     1     0     3]]\n",
      "Plotting confusion matrix\n"
     ]
    },
    {
     "data": {
      "image/png": "[encoded data removed]",
      "text/plain": [
       "<Figure size 432x288 with 2 Axes>"
      ]
     },
     "metadata": {
      "needs_background": "light"
     },
     "output_type": "display_data"
    }
   ],
   "source": [
    "confusion_matrix = metrics.confusion_matrix(y_test, pred)\n",
    "print(confusion_matrix)\n",
    "classification = metrics.classification_report(y_test, pred)\n",
    "print('Plotting confusion matrix')\n",
    "\n",
    "plt.figure()\n",
    "plot_confusion_matrix(confusion_matrix, [0, 1, 2, 3, 4, 5, 6 ,7 ,8, 9])\n",
    "plt.show()"
   ]
  },
  {
   "cell_type": "markdown",
   "metadata": {},
   "source": [
    "## Top features\n"
   ]
  },
  {
   "cell_type": "code",
   "execution_count": 156,
   "metadata": {},
   "outputs": [],
   "source": [
    "import pandas as pd\n",
    "import sys, os, time, warnings\n",
    "\n",
    "\n",
    "import seaborn as sns\n",
    "import pandas as pd\n",
    "\n",
    "train_data = pd.read_csv(\"UNSW_NB15_training-set.csv\", index_col='id')\n",
    "test_data = pd.read_csv(\"UNSW_NB15_testing-set.csv\", index_col='id')"
   ]
  },
  {
   "cell_type": "code",
   "execution_count": 157,
   "metadata": {},
   "outputs": [],
   "source": [
    "train_data_copy=train_data\n",
    "test_data_copy=test_data"
   ]
  },
  {
   "cell_type": "code",
   "execution_count": 158,
   "metadata": {},
   "outputs": [],
   "source": [
    "discrete_vars=['dur','spkts','dpkts','sbytes','dbytes','sttl','dttl','sloss','dloss','swin',\n",
    "               'smean','dmean','trans_depth','response_body_len','ct_srv_src','ct_state_ttl',\n",
    "               'ct_dst_ltm','ct_dst_sport_ltm','ct_dst_src_ltm','is_ftp_login','ct_ftp_cmd',\n",
    "               'ct_flw_http_mthd','ct_src_ltm','ct_srv_dst','is_sm_ips_ports']\n",
    "continuous_vars=['rate','sload','dload','sinpkt','dinpkt', 'sjit','djit','synack','ackdat']\n",
    "categorical_vars=['proto','state','attack_cat''stcpb','dtcpb', 'tcprtt']\n",
    "dep_var=['label']"
   ]
  },
  {
   "cell_type": "code",
   "execution_count": 159,
   "metadata": {},
   "outputs": [],
   "source": [
    "most_occured = ['tcp', 'udp', 'unas']\n",
    "def encoding_categoricals(column):\n",
    "    if column in most_occured:\n",
    "        return column\n",
    "    else:\n",
    "        return \"other\""
   ]
  },
  {
   "cell_type": "code",
   "execution_count": 160,
   "metadata": {},
   "outputs": [],
   "source": [
    "train_data['proto'] = train_data['proto'].apply(encoding_categoricals)\n",
    "\n",
    "test_data['proto'] = test_data['proto'].apply(encoding_categoricals)"
   ]
  },
  {
   "cell_type": "code",
   "execution_count": 161,
   "metadata": {},
   "outputs": [],
   "source": [
    "d = {'INT':'INT', 'FIN':'FIN', 'CON':'CON', 'REQ':'REQ', 'RST':'RST', 'ACC':'OTHER', 'CLO':'OTHER','PAR':'OTHER', 'URN':'OTHER', 'no':'OTHER'}\n",
    "test_data['state'] = test_data['state'].map(lambda s: d[s])"
   ]
  },
  {
   "cell_type": "code",
   "execution_count": 162,
   "metadata": {},
   "outputs": [],
   "source": [
    "most_occured = ['INT', 'FIN', 'CON', 'REQ']\n",
    "\n",
    "train_data = train_data[train_data['state'].isin(most_occured)]\n",
    "\n",
    "test_data = test_data[test_data['state'].isin(most_occured)]"
   ]
  },
  {
   "cell_type": "code",
   "execution_count": 163,
   "metadata": {},
   "outputs": [],
   "source": [
    "def encode_text_dummy(df, name):\n",
    "    dummies = pd.get_dummies(df[name])\n",
    "    for x in dummies.columns:\n",
    "        dummy_name = \"{}-{}\".format(name, x)\n",
    "        df[dummy_name] = dummies[x]\n",
    "    df.drop(name, axis=1, inplace=True)"
   ]
  },
  {
   "cell_type": "code",
   "execution_count": 164,
   "metadata": {},
   "outputs": [],
   "source": [
    "encode_text_dummy(train_data,\"proto\")  \n",
    "encode_text_dummy(train_data,\"state\")\n",
    "\n",
    "encode_text_dummy(test_data,\"proto\")  \n",
    "encode_text_dummy(test_data,\"state\")"
   ]
  },
  {
   "cell_type": "code",
   "execution_count": 165,
   "metadata": {},
   "outputs": [
    {
     "data": {
      "text/html": [
       "<div>\n",
       "<style scoped>\n",
       "    .dataframe tbody tr th:only-of-type {\n",
       "        vertical-align: middle;\n",
       "    }\n",
       "\n",
       "    .dataframe tbody tr th {\n",
       "        vertical-align: top;\n",
       "    }\n",
       "\n",
       "    .dataframe thead th {\n",
       "        text-align: right;\n",
       "    }\n",
       "</style>\n",
       "<table border=\"1\" class=\"dataframe\">\n",
       "  <thead>\n",
       "    <tr style=\"text-align: right;\">\n",
       "      <th></th>\n",
       "      <th>label</th>\n",
       "      <th>rate</th>\n",
       "      <th>sload</th>\n",
       "      <th>dload</th>\n",
       "      <th>sinpkt</th>\n",
       "      <th>dinpkt</th>\n",
       "      <th>sjit</th>\n",
       "      <th>djit</th>\n",
       "      <th>synack</th>\n",
       "      <th>ackdat</th>\n",
       "    </tr>\n",
       "  </thead>\n",
       "  <tbody>\n",
       "    <tr>\n",
       "      <th>label</th>\n",
       "      <td>1.000000</td>\n",
       "      <td>0.337980</td>\n",
       "      <td>0.182804</td>\n",
       "      <td>-0.394145</td>\n",
       "      <td>-0.176246</td>\n",
       "      <td>-0.022936</td>\n",
       "      <td>-0.006478</td>\n",
       "      <td>-0.060998</td>\n",
       "      <td>0.058697</td>\n",
       "      <td>0.097729</td>\n",
       "    </tr>\n",
       "    <tr>\n",
       "      <th>rate</th>\n",
       "      <td>0.337980</td>\n",
       "      <td>1.000000</td>\n",
       "      <td>0.602417</td>\n",
       "      <td>-0.153145</td>\n",
       "      <td>-0.075769</td>\n",
       "      <td>-0.051551</td>\n",
       "      <td>-0.063241</td>\n",
       "      <td>-0.085844</td>\n",
       "      <td>-0.279167</td>\n",
       "      <td>-0.289993</td>\n",
       "    </tr>\n",
       "    <tr>\n",
       "      <th>sload</th>\n",
       "      <td>0.182804</td>\n",
       "      <td>0.602417</td>\n",
       "      <td>1.000000</td>\n",
       "      <td>-0.106348</td>\n",
       "      <td>-0.048768</td>\n",
       "      <td>-0.034845</td>\n",
       "      <td>-0.042355</td>\n",
       "      <td>-0.058044</td>\n",
       "      <td>-0.188666</td>\n",
       "      <td>-0.195973</td>\n",
       "    </tr>\n",
       "    <tr>\n",
       "      <th>dload</th>\n",
       "      <td>-0.394145</td>\n",
       "      <td>-0.153145</td>\n",
       "      <td>-0.106348</td>\n",
       "      <td>1.000000</td>\n",
       "      <td>-0.037661</td>\n",
       "      <td>-0.024329</td>\n",
       "      <td>-0.029395</td>\n",
       "      <td>-0.032986</td>\n",
       "      <td>-0.125133</td>\n",
       "      <td>-0.131290</td>\n",
       "    </tr>\n",
       "    <tr>\n",
       "      <th>sinpkt</th>\n",
       "      <td>-0.176246</td>\n",
       "      <td>-0.075769</td>\n",
       "      <td>-0.048768</td>\n",
       "      <td>-0.037661</td>\n",
       "      <td>1.000000</td>\n",
       "      <td>0.095750</td>\n",
       "      <td>0.048104</td>\n",
       "      <td>0.010495</td>\n",
       "      <td>-0.052384</td>\n",
       "      <td>-0.055013</td>\n",
       "    </tr>\n",
       "    <tr>\n",
       "      <th>dinpkt</th>\n",
       "      <td>-0.022936</td>\n",
       "      <td>-0.051551</td>\n",
       "      <td>-0.034845</td>\n",
       "      <td>-0.024329</td>\n",
       "      <td>0.095750</td>\n",
       "      <td>1.000000</td>\n",
       "      <td>0.674203</td>\n",
       "      <td>0.304709</td>\n",
       "      <td>0.089955</td>\n",
       "      <td>0.085649</td>\n",
       "    </tr>\n",
       "    <tr>\n",
       "      <th>sjit</th>\n",
       "      <td>-0.006478</td>\n",
       "      <td>-0.063241</td>\n",
       "      <td>-0.042355</td>\n",
       "      <td>-0.029395</td>\n",
       "      <td>0.048104</td>\n",
       "      <td>0.674203</td>\n",
       "      <td>1.000000</td>\n",
       "      <td>0.467709</td>\n",
       "      <td>0.132376</td>\n",
       "      <td>0.128446</td>\n",
       "    </tr>\n",
       "    <tr>\n",
       "      <th>djit</th>\n",
       "      <td>-0.060998</td>\n",
       "      <td>-0.085844</td>\n",
       "      <td>-0.058044</td>\n",
       "      <td>-0.032986</td>\n",
       "      <td>0.010495</td>\n",
       "      <td>0.304709</td>\n",
       "      <td>0.467709</td>\n",
       "      <td>1.000000</td>\n",
       "      <td>0.077399</td>\n",
       "      <td>0.080356</td>\n",
       "    </tr>\n",
       "    <tr>\n",
       "      <th>synack</th>\n",
       "      <td>0.058697</td>\n",
       "      <td>-0.279167</td>\n",
       "      <td>-0.188666</td>\n",
       "      <td>-0.125133</td>\n",
       "      <td>-0.052384</td>\n",
       "      <td>0.089955</td>\n",
       "      <td>0.132376</td>\n",
       "      <td>0.077399</td>\n",
       "      <td>1.000000</td>\n",
       "      <td>0.788922</td>\n",
       "    </tr>\n",
       "    <tr>\n",
       "      <th>ackdat</th>\n",
       "      <td>0.097729</td>\n",
       "      <td>-0.289993</td>\n",
       "      <td>-0.195973</td>\n",
       "      <td>-0.131290</td>\n",
       "      <td>-0.055013</td>\n",
       "      <td>0.085649</td>\n",
       "      <td>0.128446</td>\n",
       "      <td>0.080356</td>\n",
       "      <td>0.788922</td>\n",
       "      <td>1.000000</td>\n",
       "    </tr>\n",
       "  </tbody>\n",
       "</table>\n",
       "</div>"
      ],
      "text/plain": [
       "           label      rate     sload     dload    sinpkt    dinpkt      sjit  \\\n",
       "label   1.000000  0.337980  0.182804 -0.394145 -0.176246 -0.022936 -0.006478   \n",
       "rate    0.337980  1.000000  0.602417 -0.153145 -0.075769 -0.051551 -0.063241   \n",
       "sload   0.182804  0.602417  1.000000 -0.106348 -0.048768 -0.034845 -0.042355   \n",
       "dload  -0.394145 -0.153145 -0.106348  1.000000 -0.037661 -0.024329 -0.029395   \n",
       "sinpkt -0.176246 -0.075769 -0.048768 -0.037661  1.000000  0.095750  0.048104   \n",
       "dinpkt -0.022936 -0.051551 -0.034845 -0.024329  0.095750  1.000000  0.674203   \n",
       "sjit   -0.006478 -0.063241 -0.042355 -0.029395  0.048104  0.674203  1.000000   \n",
       "djit   -0.060998 -0.085844 -0.058044 -0.032986  0.010495  0.304709  0.467709   \n",
       "synack  0.058697 -0.279167 -0.188666 -0.125133 -0.052384  0.089955  0.132376   \n",
       "ackdat  0.097729 -0.289993 -0.195973 -0.131290 -0.055013  0.085649  0.128446   \n",
       "\n",
       "            djit    synack    ackdat  \n",
       "label  -0.060998  0.058697  0.097729  \n",
       "rate   -0.085844 -0.279167 -0.289993  \n",
       "sload  -0.058044 -0.188666 -0.195973  \n",
       "dload  -0.032986 -0.125133 -0.131290  \n",
       "sinpkt  0.010495 -0.052384 -0.055013  \n",
       "dinpkt  0.304709  0.089955  0.085649  \n",
       "sjit    0.467709  0.132376  0.128446  \n",
       "djit    1.000000  0.077399  0.080356  \n",
       "synack  0.077399  1.000000  0.788922  \n",
       "ackdat  0.080356  0.788922  1.000000  "
      ]
     },
     "execution_count": 165,
     "metadata": {},
     "output_type": "execute_result"
    }
   ],
   "source": [
    "corr_matrix = train_data.loc[:, ['label'] + continuous_vars].corr(method='pearson')\n",
    "corr_matrix['label'].sort_values(ascending=False)\n",
    "corr_matrix"
   ]
  },
  {
   "cell_type": "code",
   "execution_count": 166,
   "metadata": {},
   "outputs": [
    {
     "data": {
      "text/plain": [
       "label                1.000000\n",
       "sttl                 0.693542\n",
       "ct_state_ttl         0.577402\n",
       "ct_dst_sport_ltm     0.357060\n",
       "ct_dst_src_ltm       0.304564\n",
       "ct_src_ltm           0.238332\n",
       "ct_dst_ltm           0.230034\n",
       "ct_srv_src           0.229704\n",
       "ct_srv_dst           0.228689\n",
       "dttl                 0.094898\n",
       "dur                  0.036454\n",
       "sbytes               0.018507\n",
       "ct_flw_http_mthd     0.015613\n",
       "trans_depth          0.010691\n",
       "sloss               -0.000736\n",
       "smean               -0.011134\n",
       "ct_ftp_cmd          -0.011140\n",
       "is_ftp_login        -0.011140\n",
       "response_body_len   -0.021399\n",
       "spkts               -0.052339\n",
       "dbytes              -0.076982\n",
       "dloss               -0.094813\n",
       "dpkts               -0.118769\n",
       "is_sm_ips_ports     -0.184865\n",
       "swin                -0.333439\n",
       "dmean               -0.342227\n",
       "Name: label, dtype: float64"
      ]
     },
     "execution_count": 166,
     "metadata": {},
     "output_type": "execute_result"
    }
   ],
   "source": [
    "corr_matrix = train_data.loc[:, ['label'] + discrete_vars].corr(method='pearson')\n",
    "corr_matrix['label'].sort_values(ascending=False)"
   ]
  },
  {
   "cell_type": "code",
   "execution_count": 167,
   "metadata": {},
   "outputs": [],
   "source": [
    "corr_matrix = corr_matrix[0:10]"
   ]
  },
  {
   "cell_type": "code",
   "execution_count": 168,
   "metadata": {},
   "outputs": [
    {
     "data": {
      "text/html": [
       "<div>\n",
       "<style scoped>\n",
       "    .dataframe tbody tr th:only-of-type {\n",
       "        vertical-align: middle;\n",
       "    }\n",
       "\n",
       "    .dataframe tbody tr th {\n",
       "        vertical-align: top;\n",
       "    }\n",
       "\n",
       "    .dataframe thead th {\n",
       "        text-align: right;\n",
       "    }\n",
       "</style>\n",
       "<table border=\"1\" class=\"dataframe\">\n",
       "  <thead>\n",
       "    <tr style=\"text-align: right;\">\n",
       "      <th></th>\n",
       "      <th>label</th>\n",
       "      <th>dur</th>\n",
       "      <th>spkts</th>\n",
       "      <th>dpkts</th>\n",
       "      <th>sbytes</th>\n",
       "      <th>dbytes</th>\n",
       "      <th>sttl</th>\n",
       "      <th>dttl</th>\n",
       "      <th>sloss</th>\n",
       "      <th>dloss</th>\n",
       "      <th>...</th>\n",
       "      <th>ct_state_ttl</th>\n",
       "      <th>ct_dst_ltm</th>\n",
       "      <th>ct_dst_sport_ltm</th>\n",
       "      <th>ct_dst_src_ltm</th>\n",
       "      <th>is_ftp_login</th>\n",
       "      <th>ct_ftp_cmd</th>\n",
       "      <th>ct_flw_http_mthd</th>\n",
       "      <th>ct_src_ltm</th>\n",
       "      <th>ct_srv_dst</th>\n",
       "      <th>is_sm_ips_ports</th>\n",
       "    </tr>\n",
       "  </thead>\n",
       "  <tbody>\n",
       "    <tr>\n",
       "      <th>label</th>\n",
       "      <td>1.000000</td>\n",
       "      <td>0.036454</td>\n",
       "      <td>-0.052339</td>\n",
       "      <td>-0.118769</td>\n",
       "      <td>0.018507</td>\n",
       "      <td>-0.076982</td>\n",
       "      <td>0.693542</td>\n",
       "      <td>0.094898</td>\n",
       "      <td>-0.000736</td>\n",
       "      <td>-0.094813</td>\n",
       "      <td>...</td>\n",
       "      <td>0.577402</td>\n",
       "      <td>0.230034</td>\n",
       "      <td>0.357060</td>\n",
       "      <td>0.304564</td>\n",
       "      <td>-0.011140</td>\n",
       "      <td>-0.011140</td>\n",
       "      <td>0.015613</td>\n",
       "      <td>0.238332</td>\n",
       "      <td>0.228689</td>\n",
       "      <td>-0.184865</td>\n",
       "    </tr>\n",
       "    <tr>\n",
       "      <th>dur</th>\n",
       "      <td>0.036454</td>\n",
       "      <td>1.000000</td>\n",
       "      <td>0.254543</td>\n",
       "      <td>0.181298</td>\n",
       "      <td>0.199650</td>\n",
       "      <td>0.144261</td>\n",
       "      <td>0.012038</td>\n",
       "      <td>0.044126</td>\n",
       "      <td>0.198506</td>\n",
       "      <td>0.143088</td>\n",
       "      <td>...</td>\n",
       "      <td>0.186840</td>\n",
       "      <td>-0.086466</td>\n",
       "      <td>-0.093879</td>\n",
       "      <td>-0.101790</td>\n",
       "      <td>0.020683</td>\n",
       "      <td>0.020683</td>\n",
       "      <td>0.024811</td>\n",
       "      <td>-0.081007</td>\n",
       "      <td>-0.115370</td>\n",
       "      <td>0.035425</td>\n",
       "    </tr>\n",
       "    <tr>\n",
       "      <th>spkts</th>\n",
       "      <td>-0.052339</td>\n",
       "      <td>0.254543</td>\n",
       "      <td>1.000000</td>\n",
       "      <td>0.390083</td>\n",
       "      <td>0.963775</td>\n",
       "      <td>0.206653</td>\n",
       "      <td>-0.102789</td>\n",
       "      <td>0.068139</td>\n",
       "      <td>0.971057</td>\n",
       "      <td>0.207847</td>\n",
       "      <td>...</td>\n",
       "      <td>-0.086218</td>\n",
       "      <td>-0.060174</td>\n",
       "      <td>-0.072511</td>\n",
       "      <td>-0.077513</td>\n",
       "      <td>0.009954</td>\n",
       "      <td>0.009954</td>\n",
       "      <td>0.006099</td>\n",
       "      <td>-0.061563</td>\n",
       "      <td>-0.069547</td>\n",
       "      <td>-0.017772</td>\n",
       "    </tr>\n",
       "    <tr>\n",
       "      <th>dpkts</th>\n",
       "      <td>-0.118769</td>\n",
       "      <td>0.181298</td>\n",
       "      <td>0.390083</td>\n",
       "      <td>1.000000</td>\n",
       "      <td>0.188450</td>\n",
       "      <td>0.971913</td>\n",
       "      <td>-0.192585</td>\n",
       "      <td>0.053826</td>\n",
       "      <td>0.204862</td>\n",
       "      <td>0.978643</td>\n",
       "      <td>...</td>\n",
       "      <td>-0.150204</td>\n",
       "      <td>-0.071907</td>\n",
       "      <td>-0.094318</td>\n",
       "      <td>-0.094051</td>\n",
       "      <td>0.013482</td>\n",
       "      <td>0.013482</td>\n",
       "      <td>0.047988</td>\n",
       "      <td>-0.075193</td>\n",
       "      <td>-0.078306</td>\n",
       "      <td>-0.021775</td>\n",
       "    </tr>\n",
       "    <tr>\n",
       "      <th>sbytes</th>\n",
       "      <td>0.018507</td>\n",
       "      <td>0.199650</td>\n",
       "      <td>0.963775</td>\n",
       "      <td>0.188450</td>\n",
       "      <td>1.000000</td>\n",
       "      <td>0.009930</td>\n",
       "      <td>-0.020909</td>\n",
       "      <td>0.062906</td>\n",
       "      <td>0.996108</td>\n",
       "      <td>0.006812</td>\n",
       "      <td>...</td>\n",
       "      <td>-0.011999</td>\n",
       "      <td>-0.026630</td>\n",
       "      <td>-0.027277</td>\n",
       "      <td>-0.032015</td>\n",
       "      <td>-0.004511</td>\n",
       "      <td>-0.004511</td>\n",
       "      <td>-0.002172</td>\n",
       "      <td>-0.027444</td>\n",
       "      <td>-0.034500</td>\n",
       "      <td>-0.006363</td>\n",
       "    </tr>\n",
       "    <tr>\n",
       "      <th>dbytes</th>\n",
       "      <td>-0.076982</td>\n",
       "      <td>0.144261</td>\n",
       "      <td>0.206653</td>\n",
       "      <td>0.971913</td>\n",
       "      <td>0.009930</td>\n",
       "      <td>1.000000</td>\n",
       "      <td>-0.135512</td>\n",
       "      <td>0.023547</td>\n",
       "      <td>0.017373</td>\n",
       "      <td>0.996504</td>\n",
       "      <td>...</td>\n",
       "      <td>-0.090069</td>\n",
       "      <td>-0.042635</td>\n",
       "      <td>-0.056937</td>\n",
       "      <td>-0.054612</td>\n",
       "      <td>-0.010467</td>\n",
       "      <td>-0.010467</td>\n",
       "      <td>0.051415</td>\n",
       "      <td>-0.045599</td>\n",
       "      <td>-0.044509</td>\n",
       "      <td>-0.013154</td>\n",
       "    </tr>\n",
       "    <tr>\n",
       "      <th>sttl</th>\n",
       "      <td>0.693542</td>\n",
       "      <td>0.012038</td>\n",
       "      <td>-0.102789</td>\n",
       "      <td>-0.192585</td>\n",
       "      <td>-0.020909</td>\n",
       "      <td>-0.135512</td>\n",
       "      <td>1.000000</td>\n",
       "      <td>-0.032822</td>\n",
       "      <td>-0.044728</td>\n",
       "      <td>-0.162629</td>\n",
       "      <td>...</td>\n",
       "      <td>0.673158</td>\n",
       "      <td>0.271352</td>\n",
       "      <td>0.380171</td>\n",
       "      <td>0.404176</td>\n",
       "      <td>-0.124148</td>\n",
       "      <td>-0.124148</td>\n",
       "      <td>-0.112889</td>\n",
       "      <td>0.273242</td>\n",
       "      <td>0.340495</td>\n",
       "      <td>-0.220434</td>\n",
       "    </tr>\n",
       "    <tr>\n",
       "      <th>dttl</th>\n",
       "      <td>0.094898</td>\n",
       "      <td>0.044126</td>\n",
       "      <td>0.068139</td>\n",
       "      <td>0.053826</td>\n",
       "      <td>0.062906</td>\n",
       "      <td>0.023547</td>\n",
       "      <td>-0.032822</td>\n",
       "      <td>1.000000</td>\n",
       "      <td>0.075060</td>\n",
       "      <td>0.035464</td>\n",
       "      <td>...</td>\n",
       "      <td>-0.262671</td>\n",
       "      <td>-0.381724</td>\n",
       "      <td>-0.389548</td>\n",
       "      <td>-0.403554</td>\n",
       "      <td>0.107200</td>\n",
       "      <td>0.107200</td>\n",
       "      <td>0.223697</td>\n",
       "      <td>-0.365457</td>\n",
       "      <td>-0.431290</td>\n",
       "      <td>-0.091157</td>\n",
       "    </tr>\n",
       "    <tr>\n",
       "      <th>sloss</th>\n",
       "      <td>-0.000736</td>\n",
       "      <td>0.198506</td>\n",
       "      <td>0.971057</td>\n",
       "      <td>0.204862</td>\n",
       "      <td>0.996108</td>\n",
       "      <td>0.017373</td>\n",
       "      <td>-0.044728</td>\n",
       "      <td>0.075060</td>\n",
       "      <td>1.000000</td>\n",
       "      <td>0.017981</td>\n",
       "      <td>...</td>\n",
       "      <td>-0.036624</td>\n",
       "      <td>-0.036936</td>\n",
       "      <td>-0.041112</td>\n",
       "      <td>-0.045813</td>\n",
       "      <td>0.005695</td>\n",
       "      <td>0.005695</td>\n",
       "      <td>-0.002036</td>\n",
       "      <td>-0.038763</td>\n",
       "      <td>-0.045407</td>\n",
       "      <td>-0.009489</td>\n",
       "    </tr>\n",
       "    <tr>\n",
       "      <th>dloss</th>\n",
       "      <td>-0.094813</td>\n",
       "      <td>0.143088</td>\n",
       "      <td>0.207847</td>\n",
       "      <td>0.978643</td>\n",
       "      <td>0.006812</td>\n",
       "      <td>0.996504</td>\n",
       "      <td>-0.162629</td>\n",
       "      <td>0.035464</td>\n",
       "      <td>0.017981</td>\n",
       "      <td>1.000000</td>\n",
       "      <td>...</td>\n",
       "      <td>-0.114855</td>\n",
       "      <td>-0.054541</td>\n",
       "      <td>-0.072243</td>\n",
       "      <td>-0.070887</td>\n",
       "      <td>0.007755</td>\n",
       "      <td>0.007755</td>\n",
       "      <td>0.048880</td>\n",
       "      <td>-0.057420</td>\n",
       "      <td>-0.058587</td>\n",
       "      <td>-0.016677</td>\n",
       "    </tr>\n",
       "  </tbody>\n",
       "</table>\n",
       "<p>10 rows × 26 columns</p>\n",
       "</div>"
      ],
      "text/plain": [
       "           label       dur     spkts     dpkts    sbytes    dbytes      sttl  \\\n",
       "label   1.000000  0.036454 -0.052339 -0.118769  0.018507 -0.076982  0.693542   \n",
       "dur     0.036454  1.000000  0.254543  0.181298  0.199650  0.144261  0.012038   \n",
       "spkts  -0.052339  0.254543  1.000000  0.390083  0.963775  0.206653 -0.102789   \n",
       "dpkts  -0.118769  0.181298  0.390083  1.000000  0.188450  0.971913 -0.192585   \n",
       "sbytes  0.018507  0.199650  0.963775  0.188450  1.000000  0.009930 -0.020909   \n",
       "dbytes -0.076982  0.144261  0.206653  0.971913  0.009930  1.000000 -0.135512   \n",
       "sttl    0.693542  0.012038 -0.102789 -0.192585 -0.020909 -0.135512  1.000000   \n",
       "dttl    0.094898  0.044126  0.068139  0.053826  0.062906  0.023547 -0.032822   \n",
       "sloss  -0.000736  0.198506  0.971057  0.204862  0.996108  0.017373 -0.044728   \n",
       "dloss  -0.094813  0.143088  0.207847  0.978643  0.006812  0.996504 -0.162629   \n",
       "\n",
       "            dttl     sloss     dloss  ...  ct_state_ttl  ct_dst_ltm  \\\n",
       "label   0.094898 -0.000736 -0.094813  ...      0.577402    0.230034   \n",
       "dur     0.044126  0.198506  0.143088  ...      0.186840   -0.086466   \n",
       "spkts   0.068139  0.971057  0.207847  ...     -0.086218   -0.060174   \n",
       "dpkts   0.053826  0.204862  0.978643  ...     -0.150204   -0.071907   \n",
       "sbytes  0.062906  0.996108  0.006812  ...     -0.011999   -0.026630   \n",
       "dbytes  0.023547  0.017373  0.996504  ...     -0.090069   -0.042635   \n",
       "sttl   -0.032822 -0.044728 -0.162629  ...      0.673158    0.271352   \n",
       "dttl    1.000000  0.075060  0.035464  ...     -0.262671   -0.381724   \n",
       "sloss   0.075060  1.000000  0.017981  ...     -0.036624   -0.036936   \n",
       "dloss   0.035464  0.017981  1.000000  ...     -0.114855   -0.054541   \n",
       "\n",
       "        ct_dst_sport_ltm  ct_dst_src_ltm  is_ftp_login  ct_ftp_cmd  \\\n",
       "label           0.357060        0.304564     -0.011140   -0.011140   \n",
       "dur            -0.093879       -0.101790      0.020683    0.020683   \n",
       "spkts          -0.072511       -0.077513      0.009954    0.009954   \n",
       "dpkts          -0.094318       -0.094051      0.013482    0.013482   \n",
       "sbytes         -0.027277       -0.032015     -0.004511   -0.004511   \n",
       "dbytes         -0.056937       -0.054612     -0.010467   -0.010467   \n",
       "sttl            0.380171        0.404176     -0.124148   -0.124148   \n",
       "dttl           -0.389548       -0.403554      0.107200    0.107200   \n",
       "sloss          -0.041112       -0.045813      0.005695    0.005695   \n",
       "dloss          -0.072243       -0.070887      0.007755    0.007755   \n",
       "\n",
       "        ct_flw_http_mthd  ct_src_ltm  ct_srv_dst  is_sm_ips_ports  \n",
       "label           0.015613    0.238332    0.228689        -0.184865  \n",
       "dur             0.024811   -0.081007   -0.115370         0.035425  \n",
       "spkts           0.006099   -0.061563   -0.069547        -0.017772  \n",
       "dpkts           0.047988   -0.075193   -0.078306        -0.021775  \n",
       "sbytes         -0.002172   -0.027444   -0.034500        -0.006363  \n",
       "dbytes          0.051415   -0.045599   -0.044509        -0.013154  \n",
       "sttl           -0.112889    0.273242    0.340495        -0.220434  \n",
       "dttl            0.223697   -0.365457   -0.431290        -0.091157  \n",
       "sloss          -0.002036   -0.038763   -0.045407        -0.009489  \n",
       "dloss           0.048880   -0.057420   -0.058587        -0.016677  \n",
       "\n",
       "[10 rows x 26 columns]"
      ]
     },
     "execution_count": 168,
     "metadata": {},
     "output_type": "execute_result"
    }
   ],
   "source": [
    "corr_matrix"
   ]
  },
  {
   "cell_type": "code",
   "execution_count": 169,
   "metadata": {},
   "outputs": [],
   "source": [
    "correlation_list= train_data_copy[train_data_copy.columns[:]].corr()['label']\n",
    "\n",
    "correlation_list1 = correlation_list.sort_values(ascending = False)\n",
    "correlation_list1 = correlation_list1[0:10]\n",
    "correlation_list1 = [col for col in correlation_list1.index]"
   ]
  },
  {
   "cell_type": "code",
   "execution_count": 170,
   "metadata": {},
   "outputs": [
    {
     "data": {
      "text/plain": [
       "['label',\n",
       " 'sttl',\n",
       " 'ct_state_ttl',\n",
       " 'ct_dst_sport_ltm',\n",
       " 'rate',\n",
       " 'ct_src_dport_ltm',\n",
       " 'ct_dst_src_ltm',\n",
       " 'ct_src_ltm',\n",
       " 'ct_dst_ltm',\n",
       " 'ct_srv_src']"
      ]
     },
     "execution_count": 170,
     "metadata": {},
     "output_type": "execute_result"
    }
   ],
   "source": [
    "correlation_list1"
   ]
  },
  {
   "cell_type": "code",
   "execution_count": 171,
   "metadata": {},
   "outputs": [],
   "source": [
    "correlation_list2 = correlation_list[10:]\n"
   ]
  },
  {
   "cell_type": "code",
   "execution_count": 172,
   "metadata": {},
   "outputs": [],
   "source": [
    "correlation_list2 = [col for col in correlation_list2.index]\n"
   ]
  },
  {
   "cell_type": "code",
   "execution_count": 173,
   "metadata": {},
   "outputs": [],
   "source": [
    "train_data_copy = train_data_copy.drop(correlation_list2, axis = 1)\n",
    "test_data_copy= test_data_copy.drop(correlation_list2, axis = 1)\n"
   ]
  },
  {
   "cell_type": "code",
   "execution_count": 174,
   "metadata": {},
   "outputs": [],
   "source": [
    "train_data.drop(['service','attack_cat'], axis=1, inplace=True)\n",
    "test_data.drop(['service','attack_cat'], axis=1, inplace=True)"
   ]
  },
  {
   "cell_type": "code",
   "execution_count": 175,
   "metadata": {},
   "outputs": [],
   "source": [
    "x_train = train_data.drop(['label'], axis = 1)\n",
    "y_train= train_data.loc[:, ['label']]\n",
    "\n",
    "x_test= test_data.drop(['label'], axis = 1)\n",
    "y_test= test_data.loc[:, ['label']]\n"
   ]
  },
  {
   "cell_type": "code",
   "execution_count": 176,
   "metadata": {},
   "outputs": [],
   "source": [
    "x_train = x_train.astype('float')\n",
    "x_test = x_test.astype('float')"
   ]
  },
  {
   "cell_type": "code",
   "execution_count": 177,
   "metadata": {},
   "outputs": [],
   "source": [
    "def encode_numeric_zscore(df, name, mean=None, sd=None):\n",
    "    if mean is None:\n",
    "        mean = df[name].mean()\n",
    "\n",
    "    if sd is None:\n",
    "        sd = df[name].std()\n",
    "\n",
    "    df[name] = (df[name] - mean) / sd"
   ]
  },
  {
   "cell_type": "code",
   "execution_count": 178,
   "metadata": {},
   "outputs": [],
   "source": [
    "for col in x_train.columns:\n",
    "        encode_numeric_zscore(x_train,col)\n",
    "\n",
    "for col in x_test.columns:\n",
    "        encode_numeric_zscore(x_test,col)\n",
    "target = 'label'\n",
    "y_train = pd.get_dummies(y_train[target])\n",
    "y_test = test_data.loc[:, ['label']]\n",
    "y_test = pd.get_dummies(y_test[target])"
   ]
  },
  {
   "cell_type": "code",
   "execution_count": 179,
   "metadata": {},
   "outputs": [
    {
     "name": "stdout",
     "output_type": "stream",
     "text": [
      "Epoch 1/10\n",
      "\n",
      "Epoch 00001: saving model to /Users/moksh/CSUS/CSC215/Project_1/model_weight5.hdf5\n",
      "5477/5477 - 4s - loss: 0.1392 - accuracy: 0.9357 - val_loss: 0.3283 - val_accuracy: 0.8297\n",
      "Epoch 2/10\n",
      "\n",
      "Epoch 00002: saving model to /Users/moksh/CSUS/CSC215/Project_1/model_weight5.hdf5\n",
      "5477/5477 - 4s - loss: 0.1252 - accuracy: 0.9397 - val_loss: 0.3853 - val_accuracy: 0.8196\n",
      "Epoch 3/10\n",
      "\n",
      "Epoch 00003: saving model to /Users/moksh/CSUS/CSC215/Project_1/model_weight5.hdf5\n",
      "5477/5477 - 4s - loss: 0.1221 - accuracy: 0.9412 - val_loss: 0.2993 - val_accuracy: 0.8285\n",
      "Epoch 4/10\n",
      "\n",
      "Epoch 00004: saving model to /Users/moksh/CSUS/CSC215/Project_1/model_weight5.hdf5\n",
      "5477/5477 - 4s - loss: 0.1200 - accuracy: 0.9421 - val_loss: 0.3141 - val_accuracy: 0.8281\n",
      "Epoch 5/10\n",
      "\n",
      "Epoch 00005: saving model to /Users/moksh/CSUS/CSC215/Project_1/model_weight5.hdf5\n",
      "5477/5477 - 4s - loss: 0.1174 - accuracy: 0.9433 - val_loss: 0.3359 - val_accuracy: 0.8232\n",
      "Epoch 6/10\n",
      "\n",
      "Epoch 00006: saving model to /Users/moksh/CSUS/CSC215/Project_1/model_weight5.hdf5\n",
      "5477/5477 - 4s - loss: 0.1161 - accuracy: 0.9436 - val_loss: 0.3447 - val_accuracy: 0.8175\n",
      "Epoch 7/10\n",
      "\n",
      "Epoch 00007: saving model to /Users/moksh/CSUS/CSC215/Project_1/model_weight5.hdf5\n",
      "5477/5477 - 4s - loss: 0.1145 - accuracy: 0.9441 - val_loss: 0.3954 - val_accuracy: 0.8255\n",
      "Epoch 8/10\n",
      "\n",
      "Epoch 00008: saving model to /Users/moksh/CSUS/CSC215/Project_1/model_weight5.hdf5\n",
      "5477/5477 - 4s - loss: 0.1134 - accuracy: 0.9448 - val_loss: 0.3058 - val_accuracy: 0.8418\n",
      "Epoch 9/10\n",
      "\n",
      "Epoch 00009: saving model to /Users/moksh/CSUS/CSC215/Project_1/model_weight5.hdf5\n",
      "5477/5477 - 4s - loss: 0.1124 - accuracy: 0.9453 - val_loss: 0.3011 - val_accuracy: 0.8391\n",
      "Epoch 10/10\n",
      "\n",
      "Epoch 00010: saving model to /Users/moksh/CSUS/CSC215/Project_1/model_weight5.hdf5\n",
      "5477/5477 - 4s - loss: 0.1117 - accuracy: 0.9453 - val_loss: 0.2838 - val_accuracy: 0.8550\n"
     ]
    }
   ],
   "source": [
    "import io\n",
    "import requests\n",
    "import os\n",
    "import h5py\n",
    "import shutil\n",
    "from tensorflow.keras.models import Sequential\n",
    "from tensorflow.keras.layers import Dense, Activation\n",
    "from tensorflow.keras.callbacks import EarlyStopping\n",
    "from tensorflow.keras.callbacks import ModelCheckpoint\n",
    "checkpoint_path = '/Users/moksh/CSUS/CSC215/Project_1/model_weight5.hdf5'\n",
    "\n",
    "model = Sequential()\n",
    "\n",
    "#Tuning Hyperparameters to achieve best model and to improve performance\n",
    "model.add(Dense(64, input_dim=x_train.shape[1], activation='relu'))\n",
    "model.add(Dense(32,activation='relu'))\n",
    "model.add(Dense(16,activation='relu'))\n",
    "model.add(Dense(y_train.shape[1],activation='softmax'))\n",
    "\n",
    "model.compile(loss='categorical_crossentropy', optimizer='adam', metrics=['accuracy'])\n",
    "\n",
    "monitor = EarlyStopping(monitor='val_loss', patience=10, verbose=1, mode='auto') \n",
    "\n",
    "model_checkpoint = ModelCheckpoint(filepath=checkpoint_path, monitor='val_loss',verbose=1,save_best_only=False,save_weights_only=False, mode='auto') # save best model\n",
    "\n",
    "model.fit(x_train, y_train, validation_data=(x_test,y_test), callbacks=[monitor, model_checkpoint], verbose=2, epochs=10)  \n",
    "\n",
    "model.load_weights(checkpoint_path) # load weights from best model\n",
    "model.save(checkpoint_path)"
   ]
  },
  {
   "cell_type": "code",
   "execution_count": 180,
   "metadata": {},
   "outputs": [
    {
     "name": "stdout",
     "output_type": "stream",
     "text": [
      "[1 1 1 ... 0 0 1]\n",
      "[0 0 0 ... 0 0 0]\n"
     ]
    }
   ],
   "source": [
    "import numpy as np\n",
    "y_pred = model.predict(x_test)\n",
    "y_pred = np.argmax(y_pred,axis=1) # raw probabilities to choose class (highest probability)\n",
    "print(y_pred)\n",
    "y_test = np.argmax(y_test.values, axis = 1)\n",
    "print(y_test)"
   ]
  },
  {
   "cell_type": "code",
   "execution_count": 181,
   "metadata": {},
   "outputs": [
    {
     "name": "stdout",
     "output_type": "stream",
     "text": [
      "              precision    recall  f1-score   support\n",
      "\n",
      "           0       0.95      0.71      0.82     36997\n",
      "           1       0.81      0.97      0.88     45329\n",
      "\n",
      "    accuracy                           0.86     82326\n",
      "   macro avg       0.88      0.84      0.85     82326\n",
      "weighted avg       0.87      0.86      0.85     82326\n",
      "\n"
     ]
    }
   ],
   "source": [
    "from sklearn import metrics\n",
    "from sklearn.metrics import precision_recall_curve\n",
    "from sklearn.metrics import classification_report\n",
    "from sklearn.metrics import confusion_matrix\n",
    "print(metrics.classification_report(y_test, y_pred))"
   ]
  },
  {
   "cell_type": "code",
   "execution_count": 182,
   "metadata": {},
   "outputs": [],
   "source": [
    "from sklearn.metrics import roc_curve,auc\n",
    "def plot_confusion_matrix(cm, names, title='Confusion matrix', cmap=plt.cm.Blues):\n",
    "    plt.imshow(cm, interpolation='nearest', cmap=cmap)\n",
    "    plt.title(title)\n",
    "    plt.colorbar()\n",
    "    tick_marks = np.arange(len(names))\n",
    "    plt.xticks(tick_marks, names, rotation=45)\n",
    "    plt.yticks(tick_marks, names)\n",
    "    plt.tight_layout()\n",
    "    plt.ylabel('True label')\n",
    "    plt.xlabel('Predicted label')\n",
    "    \n",
    "def plot_roc(pred,y):\n",
    "    fpr, tpr, thresholds = roc_curve(y, pred)\n",
    "    roc_auc = auc(fpr, tpr)\n",
    "\n",
    "    plt.figure()\n",
    "    plt.plot(fpr, tpr, label='ROC curve (area = %0.2f)' % roc_auc)\n",
    "    plt.plot([0, 1], [0, 1], 'k--')\n",
    "    plt.xlim([0.0, 1.0])\n",
    "    plt.ylim([0.0, 1.05])\n",
    "    plt.xlabel('False Positive Rate')\n",
    "    plt.ylabel('True Positive Rate')\n",
    "    plt.title('Receiver Operating Characteristic (ROC)')\n",
    "    plt.legend(loc=\"lower right\")\n",
    "    plt.show()"
   ]
  },
  {
   "cell_type": "code",
   "execution_count": 183,
   "metadata": {},
   "outputs": [
    {
     "name": "stdout",
     "output_type": "stream",
     "text": [
      "[[26385 10612]\n",
      " [ 1324 44005]]\n",
      "Plotting confusion matrix\n"
     ]
    },
    {
     "data": {
      "image/png": "[encoded data removed]",
      "text/plain": [
       "<Figure size 432x288 with 2 Axes>"
      ]
     },
     "metadata": {
      "needs_background": "light"
     },
     "output_type": "display_data"
    }
   ],
   "source": [
    "import matplotlib.pyplot as plt\n",
    "confusion_matrix = metrics.confusion_matrix(y_test, y_pred)\n",
    "print(confusion_matrix)\n",
    "classification = metrics.classification_report(y_test, y_pred)\n",
    "print('Plotting confusion matrix')\n",
    "\n",
    "plt.figure()\n",
    "plot_confusion_matrix(confusion_matrix, [0, 1])\n",
    "plt.show()"
   ]
  },
  {
   "cell_type": "code",
   "execution_count": 184,
   "metadata": {},
   "outputs": [
    {
     "data": {
      "image/png": "[encoded data removed]",
      "text/plain": [
       "<Figure size 432x288 with 1 Axes>"
      ]
     },
     "metadata": {
      "needs_background": "light"
     },
     "output_type": "display_data"
    }
   ],
   "source": [
    "plot_roc(y_pred, y_test)"
   ]
  },
  {
   "cell_type": "code",
   "execution_count": null,
   "metadata": {},
   "outputs": [],
   "source": []
  }
 ],
 "metadata": {
  "colab": {
   "collapsed_sections": [],
   "name": "Project1.ipynb",
   "provenance": []
  },
  "kernelspec": {
   "display_name": "Python 3",
   "language": "python",
   "name": "python3"
  },
  "language_info": {
   "codemirror_mode": {
    "name": "ipython",
    "version": 3
   },
   "file_extension": ".py",
   "mimetype": "text/x-python",
   "name": "python",
   "nbconvert_exporter": "python",
   "pygments_lexer": "ipython3",
   "version": "3.8.3"
  },
  "pycharm": {
   "stem_cell": {
    "cell_type": "raw",
    "source": [
     "\n",
     "import sys, os, time, warnings\n",
     "import matplotlib.pyplot as plt\n",
     "import numpy as np\n",
     "import seaborn as sns\n",
     "import pandas as pd\n",
     "\n",
     "import warnings\n",
     "warnings.filterwarnings('ignore')\n",
     "\n",
     "import matplotlib as mpl\n",
     "import matplotlib.pyplot as plt\n",
     "mpl.rc('axes', labelsize=14)\n",
     "mpl.rc('xtick', labelsize=12)\n",
     "mpl.rc('ytick', labelsize=12)\n",
     "\n",
     "\n",
     "NOTEBOOK_PATH = os.getcwd()\n",
     "\n",
     "def save_fig(fig_id, tight_layout=True):\n",
     "    path = os.path.join(NOTEBOOK_PATH, fig_id + \".png\")\n",
     "    print(\"Saving figure\", fig_id)\n",
     "    if tight_layout:\n",
     "        plt.tight_layout()\n",
     "    plt.savefig(path, format='png', dpi=300)\n"
    ],
    "metadata": {
     "collapsed": false
    }
   }
  }
 },
 "nbformat": 4,
 "nbformat_minor": 1
}